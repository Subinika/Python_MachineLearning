{
 "cells": [
  {
   "cell_type": "code",
   "execution_count": 3,
   "id": "61674ba8",
   "metadata": {},
   "outputs": [
    {
     "name": "stdout",
     "output_type": "stream",
     "text": [
      "<class '_io.TextIOWrapper'>\n",
      "<_io.TextIOWrapper name='demo.txt' mode='r' encoding='cp1252'>\n"
     ]
    }
   ],
   "source": [
    "# View Properties \n",
    "file_name = \"demo.txt\"\n",
    "\n",
    "file_obj = open(file_name , 'r')\n",
    "print(type(file_obj))\n",
    "print(file_obj)"
   ]
  },
  {
   "cell_type": "code",
   "execution_count": 4,
   "id": "79521461",
   "metadata": {},
   "outputs": [
    {
     "name": "stdout",
     "output_type": "stream",
     "text": [
      "The sun dipped below the horizon, casting a warm glow over the tranquil, azure sea.\n",
      "\n",
      "[]\n"
     ]
    }
   ],
   "source": [
    "# Read the file content and view other methods\n",
    "file_content = file_obj.read()\n",
    "print(file_content)\n",
    "\n",
    "# Readline and Readlines\n",
    "file_read_line = file_obj.readline()\n",
    "print(file_read_line)\n",
    "\n",
    "file_read_lines = file_obj.readlines()\n",
    "print(file_read_lines)\n",
    "file_obj.close()"
   ]
  },
  {
   "cell_type": "code",
   "execution_count": 5,
   "id": "67413579",
   "metadata": {},
   "outputs": [],
   "source": [
    "# Other Mode \n",
    "file_name = \"demo.txt\"\n",
    "\n",
    "# Write mode\n",
    "file_obj = open(file_name , 'w')\n",
    "file_obj.write(\"Hello line added using write mode.\")\n",
    "file_obj.close()"
   ]
  },
  {
   "cell_type": "code",
   "execution_count": 6,
   "id": "1a8d2636",
   "metadata": {},
   "outputs": [],
   "source": [
    "# Append mode\n",
    "new_file = \"demo.txt\"\n",
    "file_new_obj = open(new_file , 'a')\n",
    "file_new_obj.write(\"\\nText added to current file using append mode.\")\n",
    "file_obj.close()"
   ]
  },
  {
   "cell_type": "code",
   "execution_count": 7,
   "id": "d5c39497",
   "metadata": {},
   "outputs": [
    {
     "name": "stdout",
     "output_type": "stream",
     "text": [
      "Hello line added using write mode.\n"
     ]
    }
   ],
   "source": [
    "# Another way to open file in which we do not need to close implicitly\n",
    "with open(\"demo.txt\" , 'r') as file_content:\n",
    "    print(file_content.read())"
   ]
  },
  {
   "cell_type": "code",
   "execution_count": 8,
   "id": "d8f8a2b0",
   "metadata": {},
   "outputs": [
    {
     "ename": "ValueError",
     "evalue": "I/O operation on closed file.",
     "output_type": "error",
     "traceback": [
      "\u001b[1;31m---------------------------------------------------------------------------\u001b[0m",
      "\u001b[1;31mValueError\u001b[0m                                Traceback (most recent call last)",
      "Cell \u001b[1;32mIn[8], line 2\u001b[0m\n\u001b[0;32m      1\u001b[0m \u001b[38;5;66;03m# Making sure that the file was closed previously\u001b[39;00m\n\u001b[1;32m----> 2\u001b[0m \u001b[38;5;28mprint\u001b[39m(\u001b[43mfile_content\u001b[49m\u001b[38;5;241;43m.\u001b[39;49m\u001b[43mread\u001b[49m\u001b[43m(\u001b[49m\u001b[43m)\u001b[49m)\n",
      "\u001b[1;31mValueError\u001b[0m: I/O operation on closed file."
     ]
    }
   ],
   "source": [
    "# Making sure that the file was closed previously\n",
    "print(file_content.read())"
   ]
  },
  {
   "cell_type": "code",
   "execution_count": 9,
   "id": "92897f7f",
   "metadata": {},
   "outputs": [],
   "source": [
    "# Others mode\n",
    "with open('demo.txt' , 'w') as file_content:\n",
    "    file_content.write(\"Rewrite using with open in write mode.\")"
   ]
  },
  {
   "cell_type": "code",
   "execution_count": 10,
   "id": "ee5e48fa",
   "metadata": {},
   "outputs": [],
   "source": [
    "# Append Mode\n",
    "with open('demo.txt' , 'a') as file_content:\n",
    "    file_content.write(\"\\nAdded append line using with open in append mode\")"
   ]
  },
  {
   "cell_type": "code",
   "execution_count": 11,
   "id": "102c0d91",
   "metadata": {},
   "outputs": [
    {
     "name": "stdout",
     "output_type": "stream",
     "text": [
      "The file demo.txt already exist.\n"
     ]
    }
   ],
   "source": [
    "# X mode \n",
    "'''The \"x\" mode is useful when you want to ensure that you're \n",
    "creating a new file and do not want to accidentally overwrite an \n",
    "existing file. It provides a way to create a file safely without \n",
    "the risk of unintentionally overwriting existing data.'''\n",
    "file_name = 'demo.txt'\n",
    "try:\n",
    "    with open(file_name , 'x') as file_content:\n",
    "        file_content.write(\"Hello New File\")\n",
    "except FileExistsError:\n",
    "    print(f\"The file {file_name} already exist.\")"
   ]
  },
  {
   "cell_type": "code",
   "execution_count": null,
   "id": "99d932c9",
   "metadata": {},
   "outputs": [],
   "source": []
  }
 ],
 "metadata": {
  "kernelspec": {
   "display_name": "Python 3",
   "language": "python",
   "name": "python3"
  },
  "language_info": {
   "codemirror_mode": {
    "name": "ipython",
    "version": 3
   },
   "file_extension": ".py",
   "mimetype": "text/x-python",
   "name": "python",
   "nbconvert_exporter": "python",
   "pygments_lexer": "ipython3",
   "version": "3.12.2"
  }
 },
 "nbformat": 4,
 "nbformat_minor": 5
}
