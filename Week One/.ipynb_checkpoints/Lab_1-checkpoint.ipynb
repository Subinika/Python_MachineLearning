{
 "cells": [
  {
   "cell_type": "code",
   "execution_count": 1,
   "id": "29bb9ca3-08e5-4313-801f-67e935d71b2d",
   "metadata": {},
   "outputs": [
    {
     "name": "stdout",
     "output_type": "stream",
     "text": [
      "Hello World\n"
     ]
    }
   ],
   "source": [
    "print(\"Hello World\")\n"
   ]
  },
  {
   "cell_type": "code",
   "execution_count": 2,
   "id": "1674e0a6-77f7-43e7-b571-2d77b56b4adf",
   "metadata": {},
   "outputs": [
    {
     "name": "stdout",
     "output_type": "stream",
     "text": [
      "       *   \n",
      "    *     *   \n",
      "  *          *  \n",
      "*  *  *  *  *  * \n"
     ]
    }
   ],
   "source": [
    "print(\"       *   \")\n",
    "print(\"    *     *   \")\n",
    "print(\"  *          *  \")\n",
    "print(\"*  *  *  *  *  * \")"
   ]
  },
  {
   "cell_type": "code",
   "execution_count": 2,
   "id": "4b846354-886b-4c46-adf8-5405f4c6e9c4",
   "metadata": {},
   "outputs": [
    {
     "name": "stdout",
     "output_type": "stream",
     "text": [
      "14.0\n"
     ]
    }
   ],
   "source": [
    "a=((5+3)*2-4/2)\n",
    "print(a)"
   ]
  },
  {
   "cell_type": "code",
   "execution_count": 5,
   "id": "d93a6163-2a84-426a-a138-1a0123f50f5c",
   "metadata": {},
   "outputs": [
    {
     "name": "stdout",
     "output_type": "stream",
     "text": [
      "38\n"
     ]
    }
   ],
   "source": [
    "b=((3 ** 2 * 4 + 5 // 2))\n",
    "print(b)"
   ]
  },
  {
   "cell_type": "code",
   "execution_count": 6,
   "id": "1d298802-952e-4bfb-94fa-df372510dae0",
   "metadata": {},
   "outputs": [
    {
     "name": "stdout",
     "output_type": "stream",
     "text": [
      "8.0\n"
     ]
    }
   ],
   "source": [
    "c=10 / (2 + 3) * (8 - 4)\n",
    "print(c)"
   ]
  },
  {
   "cell_type": "code",
   "execution_count": 16,
   "id": "7677eec4-73c6-4fd8-bf6a-e1ec1ff0f2c3",
   "metadata": {},
   "outputs": [
    {
     "name": "stdin",
     "output_type": "stream",
     "text": [
      "Enter first number : 5\n",
      "Enter second number : 3\n"
     ]
    },
    {
     "name": "stdout",
     "output_type": "stream",
     "text": [
      "Sum of two number =  8\n",
      "Difference of two number = 2\n",
      "Multiplication of two number = 15\n",
      "Division of two number = 1.6666666666666667\n",
      "Reminder = 2\n"
     ]
    }
   ],
   "source": [
    "first_number = int(input(\"Enter first number :\"))\n",
    "second_number = int(input(\"Enter second number :\"))\n",
    "\n",
    "sum=first_number + second_number\n",
    "print(\"Sum of two number = \",sum)\n",
    "\n",
    "difference=first_number - second_number\n",
    "print(\"Difference of two number =\", difference)\n",
    "\n",
    "multiply=first_number * second_number\n",
    "print(\"Multiplication of two number =\",multiply)\n",
    "\n",
    "division=first_number / second_number\n",
    "print(\"Division of two number =\",division)\n",
    "\n",
    "modulo_div=first_number % second_number\n",
    "print(\"Reminder =\",modulo_div)\n",
    "\n"
   ]
  },
  {
   "cell_type": "code",
   "execution_count": 17,
   "id": "0831c7b6-95a6-4e24-bef8-b960e47c8a75",
   "metadata": {},
   "outputs": [
    {
     "name": "stdout",
     "output_type": "stream",
     "text": [
      "Variable Value :  My First Variable Assignment \n",
      "Age :  20\n",
      "Sum of X and Y :  50\n",
      "Value of A,B,C :  20 20 20\n"
     ]
    }
   ],
   "source": [
    "variable_test = \"My First Variable Assignment \"\n",
    "print(\"Variable Value : \" ,variable_test)\n",
    "\n",
    "age = 20\n",
    "print(\"Age : \" , age)\n",
    "\n",
    "x = 20\n",
    "y = 30\n",
    "z = x +y\n",
    "print(\"Sum of X and Y : \" , z)\n",
    "\n",
    "a = b = c = 20\n",
    "print(\"Value of A,B,C : \" , a ,b ,c)"
   ]
  },
  {
   "cell_type": "code",
   "execution_count": 18,
   "id": "75a7f310-c6ca-4b1e-9ed6-4721d148cf6c",
   "metadata": {},
   "outputs": [
    {
     "name": "stdout",
     "output_type": "stream",
     "text": [
      "Variable Value :  My First Variable Assignment \n"
     ]
    }
   ],
   "source": [
    "variable_test = \"My First Variable Assignment \"\n",
    "print(\"Variable Value : \" ,variable_test)"
   ]
  },
  {
   "cell_type": "code",
   "execution_count": 19,
   "id": "54d7d020-7c27-4db0-bf29-434e4d2907da",
   "metadata": {},
   "outputs": [
    {
     "name": "stdout",
     "output_type": "stream",
     "text": [
      "Age :  20\n"
     ]
    }
   ],
   "source": [
    "age = 20\n",
    "print(\"Age : \" , age)"
   ]
  },
  {
   "cell_type": "code",
   "execution_count": 20,
   "id": "e1718029-1592-441c-829f-8c5fde0469fd",
   "metadata": {},
   "outputs": [
    {
     "name": "stdout",
     "output_type": "stream",
     "text": [
      "Sum of X and Y :  50\n"
     ]
    }
   ],
   "source": [
    "x = 20\n",
    "y = 30\n",
    "z = x +y\n",
    "print(\"Sum of X and Y : \" , z)"
   ]
  },
  {
   "cell_type": "code",
   "execution_count": 21,
   "id": "21231f98-c98b-4b5e-bfa1-23273c5a8ba3",
   "metadata": {},
   "outputs": [
    {
     "name": "stdout",
     "output_type": "stream",
     "text": [
      "Value of A,B,C :  20 20 20\n"
     ]
    }
   ],
   "source": [
    "\n",
    "a = b = c = 20\n",
    "print(\"Value of A,B,C : \" , a ,b ,c)"
   ]
  },
  {
   "cell_type": "code",
   "execution_count": null,
   "id": "f85c1f26-b78b-4a35-a35c-2de4416de662",
   "metadata": {},
   "outputs": [],
   "source": []
  }
 ],
 "metadata": {
  "kernelspec": {
   "display_name": "Python 3 (ipykernel)",
   "language": "python",
   "name": "python3"
  },
  "language_info": {
   "codemirror_mode": {
    "name": "ipython",
    "version": 3
   },
   "file_extension": ".py",
   "mimetype": "text/x-python",
   "name": "python",
   "nbconvert_exporter": "python",
   "pygments_lexer": "ipython3",
   "version": "3.12.2"
  }
 },
 "nbformat": 4,
 "nbformat_minor": 5
}
