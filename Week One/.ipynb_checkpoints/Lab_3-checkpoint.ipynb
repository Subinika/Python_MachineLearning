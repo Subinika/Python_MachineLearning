{
 "cells": [
  {
   "cell_type": "code",
   "execution_count": 1,
   "id": "a42a581b-88f3-40d7-8efe-3fae5d717b94",
   "metadata": {},
   "outputs": [
    {
     "name": "stdout",
     "output_type": "stream",
     "text": [
      "None\n"
     ]
    }
   ],
   "source": [
    "non_value = None\n",
    "print(non_value)"
   ]
  },
  {
   "cell_type": "code",
   "execution_count": 3,
   "id": "bc2b9839-5149-46ef-9675-4bac029e36c6",
   "metadata": {},
   "outputs": [
    {
     "name": "stdout",
     "output_type": "stream",
     "text": [
      "Data Type of  10 is 10\n"
     ]
    }
   ],
   "source": [
    "non_value = int(10)\n",
    "print(\"Data Type of \" , non_value , \"is\" ,(non_value))"
   ]
  },
  {
   "cell_type": "code",
   "execution_count": 5,
   "id": "f8e56b37-9f9f-4bd8-b39e-9674b25e26d5",
   "metadata": {},
   "outputs": [
    {
     "name": "stdout",
     "output_type": "stream",
     "text": [
      "10\n"
     ]
    }
   ],
   "source": [
    "int_value = 5\n",
    "int_value = 10\n",
    "print(int_value)"
   ]
  },
  {
   "cell_type": "code",
   "execution_count": 7,
   "id": "6db366e8-93c2-476b-9d57-bdc41b831f5f",
   "metadata": {},
   "outputs": [
    {
     "name": "stdout",
     "output_type": "stream",
     "text": [
      "The Id value is : 140730289048024\n"
     ]
    }
   ],
   "source": [
    "int_value = 2\n",
    "print(\"The Id value is :\",id(int_value))"
   ]
  },
  {
   "cell_type": "code",
   "execution_count": 9,
   "id": "a285551a-2349-40a3-be29-a3978f53b0d9",
   "metadata": {},
   "outputs": [
    {
     "name": "stdout",
     "output_type": "stream",
     "text": [
      "<class 'float'>\n"
     ]
    }
   ],
   "source": [
    "int_value = 87.3\n",
    "print(type(int_value))"
   ]
  },
  {
   "cell_type": "code",
   "execution_count": 10,
   "id": "f8c74918-7acb-4564-8679-80f8c0521ef3",
   "metadata": {},
   "outputs": [
    {
     "data": {
      "text/plain": [
       "False"
      ]
     },
     "execution_count": 10,
     "metadata": {},
     "output_type": "execute_result"
    }
   ],
   "source": [
    "isinstance(int_value ,int)"
   ]
  },
  {
   "cell_type": "code",
   "execution_count": 11,
   "id": "7678be56-b5f8-4f4a-9750-f265cc0305c4",
   "metadata": {},
   "outputs": [
    {
     "data": {
      "text/plain": [
       "True"
      ]
     },
     "execution_count": 11,
     "metadata": {},
     "output_type": "execute_result"
    }
   ],
   "source": [
    "isinstance(int_value , float)"
   ]
  },
  {
   "cell_type": "code",
   "execution_count": 17,
   "id": "9f79a861-44b7-4e6c-a489-604b117ad595",
   "metadata": {},
   "outputs": [
    {
     "name": "stdout",
     "output_type": "stream",
     "text": [
      "100.11\n"
     ]
    }
   ],
   "source": [
    "float_value = 2e1\n",
    "float_value = 100.11\n",
    "print(float_value)"
   ]
  },
  {
   "cell_type": "code",
   "execution_count": 13,
   "id": "b6197366-df60-4bb6-9a49-6764703ea6cc",
   "metadata": {},
   "outputs": [
    {
     "name": "stdout",
     "output_type": "stream",
     "text": [
      "<class 'float'>\n"
     ]
    }
   ],
   "source": [
    "print(type(float_value))"
   ]
  },
  {
   "cell_type": "code",
   "execution_count": 14,
   "id": "d467e016-b76f-4ac7-93cc-3c758b64ac5a",
   "metadata": {},
   "outputs": [
    {
     "data": {
      "text/plain": [
       "True"
      ]
     },
     "execution_count": 14,
     "metadata": {},
     "output_type": "execute_result"
    }
   ],
   "source": [
    "isinstance(float_value , float)"
   ]
  },
  {
   "cell_type": "code",
   "execution_count": 16,
   "id": "cb387d70-277a-40c8-acd6-75ba1d04b296",
   "metadata": {},
   "outputs": [
    {
     "name": "stdout",
     "output_type": "stream",
     "text": [
      "The Id is: 1574386354640\n"
     ]
    }
   ],
   "source": [
    "float_value = 3\n",
    "float_value = 100.11\n",
    "print(\"The Id is:\" , id(float_value))"
   ]
  },
  {
   "cell_type": "code",
   "execution_count": 20,
   "id": "9541a05e-d621-427c-b667-705fed0f7914",
   "metadata": {},
   "outputs": [
    {
     "name": "stdout",
     "output_type": "stream",
     "text": [
      "(2+3j)\n"
     ]
    }
   ],
   "source": [
    "complex_value = 2+3j\n",
    "print(complex_value)"
   ]
  },
  {
   "cell_type": "code",
   "execution_count": 21,
   "id": "99474d5b-8cc7-418b-b7b9-1c749bd56215",
   "metadata": {},
   "outputs": [
    {
     "data": {
      "text/plain": [
       "(2.0, 3.0)"
      ]
     },
     "execution_count": 21,
     "metadata": {},
     "output_type": "execute_result"
    }
   ],
   "source": [
    "complex_value.real , complex_value.imag"
   ]
  },
  {
   "cell_type": "code",
   "execution_count": 22,
   "id": "16f2dc5a-e2c2-49c4-8ec1-95efc7c1e91b",
   "metadata": {},
   "outputs": [
    {
     "data": {
      "text/plain": [
       "['__abs__',\n",
       " '__add__',\n",
       " '__bool__',\n",
       " '__class__',\n",
       " '__complex__',\n",
       " '__delattr__',\n",
       " '__dir__',\n",
       " '__doc__',\n",
       " '__eq__',\n",
       " '__format__',\n",
       " '__ge__',\n",
       " '__getattribute__',\n",
       " '__getnewargs__',\n",
       " '__getstate__',\n",
       " '__gt__',\n",
       " '__hash__',\n",
       " '__init__',\n",
       " '__init_subclass__',\n",
       " '__le__',\n",
       " '__lt__',\n",
       " '__mul__',\n",
       " '__ne__',\n",
       " '__neg__',\n",
       " '__new__',\n",
       " '__pos__',\n",
       " '__pow__',\n",
       " '__radd__',\n",
       " '__reduce__',\n",
       " '__reduce_ex__',\n",
       " '__repr__',\n",
       " '__rmul__',\n",
       " '__rpow__',\n",
       " '__rsub__',\n",
       " '__rtruediv__',\n",
       " '__setattr__',\n",
       " '__sizeof__',\n",
       " '__str__',\n",
       " '__sub__',\n",
       " '__subclasshook__',\n",
       " '__truediv__',\n",
       " 'conjugate',\n",
       " 'imag',\n",
       " 'real']"
      ]
     },
     "execution_count": 22,
     "metadata": {},
     "output_type": "execute_result"
    }
   ],
   "source": [
    "dir(complex_value)"
   ]
  },
  {
   "cell_type": "code",
   "execution_count": 23,
   "id": "89cbf804-2261-414c-8f74-50109e38b1cd",
   "metadata": {},
   "outputs": [
    {
     "name": "stdout",
     "output_type": "stream",
     "text": [
      "<class 'complex'>\n"
     ]
    }
   ],
   "source": [
    "print(type(complex_value))"
   ]
  },
  {
   "cell_type": "code",
   "execution_count": 1,
   "id": "60dbcebf-fe47-4291-b993-8fca1f32395b",
   "metadata": {},
   "outputs": [
    {
     "data": {
      "text/plain": [
       "0j"
      ]
     },
     "execution_count": 1,
     "metadata": {},
     "output_type": "execute_result"
    }
   ],
   "source": [
    "complex()"
   ]
  },
  {
   "cell_type": "code",
   "execution_count": 2,
   "id": "6f7a6677-f54e-4d2f-9fc9-b361a44d2a08",
   "metadata": {},
   "outputs": [
    {
     "data": {
      "text/plain": [
       "(2+3j)"
      ]
     },
     "execution_count": 2,
     "metadata": {},
     "output_type": "execute_result"
    }
   ],
   "source": [
    "complex(2 , 3)"
   ]
  },
  {
   "cell_type": "code",
   "execution_count": 11,
   "id": "12d0fbf7-7968-4ad5-b0c9-4e63b142b0c4",
   "metadata": {},
   "outputs": [
    {
     "name": "stdout",
     "output_type": "stream",
     "text": [
      "True\n"
     ]
    }
   ],
   "source": [
    "bool_val = True\n",
    "print(bool_val)"
   ]
  },
  {
   "cell_type": "code",
   "execution_count": 12,
   "id": "999adc9e-0d6f-4a79-8eb6-62958c704e1d",
   "metadata": {},
   "outputs": [
    {
     "name": "stdout",
     "output_type": "stream",
     "text": [
      "<class 'bool'>\n"
     ]
    }
   ],
   "source": [
    "print(type(bool_val))"
   ]
  },
  {
   "cell_type": "code",
   "execution_count": 16,
   "id": "69909f93-4465-46f1-9f2b-79c8575c4bbb",
   "metadata": {},
   "outputs": [
    {
     "data": {
      "text/plain": [
       "True"
      ]
     },
     "execution_count": 16,
     "metadata": {},
     "output_type": "execute_result"
    }
   ],
   "source": [
    "a = \"Sa\"\n",
    "bool(a)"
   ]
  },
  {
   "cell_type": "code",
   "execution_count": 17,
   "id": "f069f589-0349-4309-9fdd-6498fabb30f0",
   "metadata": {},
   "outputs": [
    {
     "name": "stdout",
     "output_type": "stream",
     "text": [
      "False\n"
     ]
    }
   ],
   "source": [
    "print(bool(0))"
   ]
  },
  {
   "cell_type": "code",
   "execution_count": 19,
   "id": "cb916ad7-8d6b-451b-a32d-2bc0bc298b77",
   "metadata": {},
   "outputs": [
    {
     "name": "stdout",
     "output_type": "stream",
     "text": [
      "False\n"
     ]
    }
   ],
   "source": [
    "print(bool(0.0))"
   ]
  },
  {
   "cell_type": "code",
   "execution_count": 24,
   "id": "53b1bc7e-4c80-472c-83cf-cb2da4dd7b53",
   "metadata": {},
   "outputs": [
    {
     "name": "stdin",
     "output_type": "stream",
     "text": [
      "Enter First Number 12\n",
      "Enter Second Number 6\n"
     ]
    },
    {
     "name": "stdout",
     "output_type": "stream",
     "text": [
      "a is greater then b\n"
     ]
    }
   ],
   "source": [
    "a = int(input(\"Enter First Number\"))\n",
    "b = int(input(\"Enter Second Number\"))\n",
    "if a>b:\n",
    "    print(\"a is greater then b\")\n",
    "elif a == b:\n",
    "    print(\"a is equal to b\")\n",
    "elif b>a:\n",
    "    print(\"b is greater than a\")"
   ]
  },
  {
   "cell_type": "code",
   "execution_count": 5,
   "id": "27bf659d-c0f6-4b21-bd97-31da7cd7e325",
   "metadata": {},
   "outputs": [
    {
     "name": "stdout",
     "output_type": "stream",
     "text": [
      "b is greater then a\n"
     ]
    }
   ],
   "source": [
    "a = 10\n",
    "b = 20\n",
    "if a>b:\n",
    "  print(\"a is greater then b\")\n",
    "elif a==b:\n",
    "  print(\"a is equal to b\")\n",
    "elif a<b:\n",
    "  print(\"b is greater then a\")"
   ]
  },
  {
   "cell_type": "code",
   "execution_count": null,
   "id": "925d09a4-d0c5-4b36-931b-7967a6426ff6",
   "metadata": {},
   "outputs": [],
   "source": []
  }
 ],
 "metadata": {
  "kernelspec": {
   "display_name": "Python 3 (ipykernel)",
   "language": "python",
   "name": "python3"
  },
  "language_info": {
   "codemirror_mode": {
    "name": "ipython",
    "version": 3
   },
   "file_extension": ".py",
   "mimetype": "text/x-python",
   "name": "python",
   "nbconvert_exporter": "python",
   "pygments_lexer": "ipython3",
   "version": "3.12.2"
  }
 },
 "nbformat": 4,
 "nbformat_minor": 5
}
