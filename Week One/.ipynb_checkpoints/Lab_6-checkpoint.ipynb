{
 "cells": [
  {
   "cell_type": "code",
   "execution_count": 2,
   "id": "61f0c490-dc94-4999-912c-2d5c5aca30a3",
   "metadata": {},
   "outputs": [
    {
     "name": "stdout",
     "output_type": "stream",
     "text": [
      "('Collection', 'Multiple Items', 6)\n"
     ]
    }
   ],
   "source": [
    "#Tuple \n",
    "\n",
    "#Creating Tuple\n",
    "simple_tuple = (\"Collection\" ,'Multiple Items', 6)\n",
    "print(simple_tuple)"
   ]
  },
  {
   "cell_type": "code",
   "execution_count": 6,
   "id": "58633fc5-cbfa-40c5-bbfc-ff0de7a98e6d",
   "metadata": {},
   "outputs": [
    {
     "name": "stdout",
     "output_type": "stream",
     "text": [
      "<class 'tuple'>\n"
     ]
    }
   ],
   "source": [
    "# display type\n",
    "simple_tuple = (\"Collection\" ,'Multiple Items', 6)\n",
    "print(type(simple_tuple))"
   ]
  },
  {
   "cell_type": "code",
   "execution_count": 7,
   "id": "0d246b69-7fb0-4b0f-8495-34bacd87471f",
   "metadata": {},
   "outputs": [
    {
     "name": "stdout",
     "output_type": "stream",
     "text": [
      "3\n"
     ]
    }
   ],
   "source": [
    "# display length of tuple\n",
    "simple_tuple = (\"Collection\" ,'Multiple Items', 6)\n",
    "tuple_length = len(simple_tuple)\n",
    "print(tuple_length)"
   ]
  },
  {
   "cell_type": "code",
   "execution_count": 3,
   "id": "651ab49f-aa2e-4bd9-a908-b061dd13481e",
   "metadata": {},
   "outputs": [
    {
     "name": "stdout",
     "output_type": "stream",
     "text": [
      "('Types', ('Simple', 'Nested'), (1, 2))\n"
     ]
    }
   ],
   "source": [
    "# create nested tuple\n",
    "nested_tuple = (\"Types\",(\"Simple\" ,\"Nested\"), (1, 2))\n",
    "print(nested_tuple)"
   ]
  },
  {
   "cell_type": "code",
   "execution_count": 9,
   "id": "80f50f64-4d9a-4ea7-ad8c-59032e68aa8a",
   "metadata": {},
   "outputs": [
    {
     "name": "stdout",
     "output_type": "stream",
     "text": [
      "<class 'tuple'>\n"
     ]
    }
   ],
   "source": [
    "# display type of nested tuple\n",
    "nested_tuple = (\"Types\",(\"Simple\" ,\"Nested\"), (1, 2))\n",
    "print(type(nested_tuple))\n"
   ]
  },
  {
   "cell_type": "code",
   "execution_count": 10,
   "id": "2a929fcb-bbfb-4126-9f33-cd6c10450a8e",
   "metadata": {},
   "outputs": [
    {
     "name": "stdout",
     "output_type": "stream",
     "text": [
      "3\n"
     ]
    }
   ],
   "source": [
    "# display length of nested tuple\n",
    "nested_tuple = (\"Types\",(\"Simple\" ,\"Nested\"), (1, 2))\n",
    "nested_length = len(nested_tuple)\n",
    "print(nested_length)"
   ]
  },
  {
   "cell_type": "code",
   "execution_count": 11,
   "id": "4a58d683-d93b-49b3-ad98-4928c12b4a50",
   "metadata": {},
   "outputs": [
    {
     "name": "stdout",
     "output_type": "stream",
     "text": [
      "Create Tuple from String\n"
     ]
    }
   ],
   "source": [
    "#Tuple Creation for Strings\n",
    "tuple_str = \"Create Tuple from String\"\n",
    "print(tuple_str)"
   ]
  },
  {
   "cell_type": "code",
   "execution_count": 13,
   "id": "6be53b26-427b-4799-a867-b632e46912f1",
   "metadata": {},
   "outputs": [
    {
     "name": "stdout",
     "output_type": "stream",
     "text": [
      "['Create', 'Tuple', 'from', 'String']\n"
     ]
    }
   ],
   "source": [
    "# split string (separator = whitespace)\n",
    "tuple_str = \"Create Tuple from String\"\n",
    "list_from_str = tuple_str.split(\" \")\n",
    "print(list_from_str)"
   ]
  },
  {
   "cell_type": "code",
   "execution_count": 14,
   "id": "511c445d-07f7-43c0-97d9-c609257a13c6",
   "metadata": {},
   "outputs": [
    {
     "name": "stdout",
     "output_type": "stream",
     "text": [
      "('Create', 'Tuple', 'from', 'String')\n"
     ]
    }
   ],
   "source": [
    "# typecast list to tuple\n",
    "tuple_str = \"Create Tuple from String\"\n",
    "tuple_from_list = tuple(list_from_str)\n",
    "print(tuple_from_list)"
   ]
  },
  {
   "cell_type": "code",
   "execution_count": 15,
   "id": "9fb3fda7-8a1a-401d-b161-1ebf6718f8fa",
   "metadata": {},
   "outputs": [
    {
     "name": "stdout",
     "output_type": "stream",
     "text": [
      "('Example', 'for', 'Tuple', 'Creation', 'from', 'String')\n"
     ]
    }
   ],
   "source": [
    "#Another Example\n",
    "string_tuple = \"Example for Tuple Creation from String\"\n",
    "str_list = string_tuple.split(\" \")\n",
    "tuple_list = tuple(str_list)\n",
    "print(tuple_list)"
   ]
  },
  {
   "cell_type": "code",
   "execution_count": 21,
   "id": "3285df47-7277-424a-8d47-18e75d3cc1bc",
   "metadata": {},
   "outputs": [
    {
     "name": "stdout",
     "output_type": "stream",
     "text": [
      "4\n"
     ]
    }
   ],
   "source": [
    "#Indexing Tuples\n",
    "\n",
    "# Positive Indexing \n",
    "tuple_indexing = (1, 2, 3, 4, 5)\n",
    "print(tuple_indexing[3])"
   ]
  },
  {
   "cell_type": "code",
   "execution_count": 24,
   "id": "106e5ecc-c7c1-427f-8054-b18830c985ec",
   "metadata": {},
   "outputs": [
    {
     "name": "stdout",
     "output_type": "stream",
     "text": [
      "(2, 3, 4)\n"
     ]
    }
   ],
   "source": [
    "# Positive Indexing with 2D Tuples(Nested)\n",
    "tuple_indexing = (1, (2, 3, 4), 5)\n",
    "print(tuple_indexing[1])"
   ]
  },
  {
   "cell_type": "code",
   "execution_count": 25,
   "id": "dfc841b9-d914-45f8-8b7e-ef02f9f126d9",
   "metadata": {},
   "outputs": [
    {
     "data": {
      "text/plain": [
       "1"
      ]
     },
     "execution_count": 25,
     "metadata": {},
     "output_type": "execute_result"
    }
   ],
   "source": [
    "#Negative Indexing\n",
    "tuple_indexing = (1, (2, 3, 4), 5)\n",
    "tuple_indexing[-len(tuple_indexing)]"
   ]
  },
  {
   "cell_type": "code",
   "execution_count": 26,
   "id": "a6088d67-086b-4f7e-a28d-dcfde18a9377",
   "metadata": {},
   "outputs": [
    {
     "data": {
      "text/plain": [
       "5"
      ]
     },
     "execution_count": 26,
     "metadata": {},
     "output_type": "execute_result"
    }
   ],
   "source": [
    "# print last item using negative index\n",
    "tuple_indexing = (1, (2, 3, 4), 5)\n",
    "tuple_indexing[-1]"
   ]
  },
  {
   "cell_type": "code",
   "execution_count": 30,
   "id": "a2bcba85-d041-4fdf-a02c-d943c74f5395",
   "metadata": {},
   "outputs": [
    {
     "name": "stdout",
     "output_type": "stream",
     "text": [
      "('item 1', 'item 2', 3, 4)\n"
     ]
    },
    {
     "data": {
      "text/plain": [
       "('item 1', 'item 2', 3)"
      ]
     },
     "execution_count": 30,
     "metadata": {},
     "output_type": "execute_result"
    }
   ],
   "source": [
    "#Slicing Tuples\n",
    "simple_tuple = (\"item 1\",'item 2', 3, 4)\n",
    "print(simple_tuple)\n",
    "simple_tuple[:3]"
   ]
  },
  {
   "cell_type": "code",
   "execution_count": 35,
   "id": "3b08e4d6-49d6-412b-bb38-799f16e6ee6b",
   "metadata": {},
   "outputs": [
    {
     "data": {
      "text/plain": [
       "('item 2', 3, 4)"
      ]
     },
     "execution_count": 35,
     "metadata": {},
     "output_type": "execute_result"
    }
   ],
   "source": [
    "# slice last 3 items using negative index\n",
    "#Slicing Tuples\n",
    "simple_tuple = (\"item 1\",'item 2', 3, 4)\n",
    "simple_tuple[-3:]"
   ]
  },
  {
   "cell_type": "code",
   "execution_count": 34,
   "id": "c692fe3c-04d2-454a-be78-a335f49326b2",
   "metadata": {},
   "outputs": [
    {
     "name": "stdout",
     "output_type": "stream",
     "text": [
      "('Nobita', 'and', 'Doraemon', True)\n"
     ]
    },
    {
     "data": {
      "text/plain": [
       "('Nobita', 'Doraemon')"
      ]
     },
     "execution_count": 34,
     "metadata": {},
     "output_type": "execute_result"
    }
   ],
   "source": [
    "# get tuple items at even index\n",
    "simple_tuple = (\"Nobita\", 'and', \"Doraemon\", True)\n",
    "print(simple_tuple)\n",
    "simple_tuple[::2]\n"
   ]
  },
  {
   "cell_type": "code",
   "execution_count": 36,
   "id": "30677bc0-8a5c-4e20-9217-1e038adde3b5",
   "metadata": {},
   "outputs": [
    {
     "data": {
      "text/plain": [
       "('and', 'Doraemon', True)"
      ]
     },
     "execution_count": 36,
     "metadata": {},
     "output_type": "execute_result"
    }
   ],
   "source": [
    "# slice first 3 tuple items using negative index\n",
    "simple_tuple = (\"Nobita\", 'and', \"Doraemon\", True)\n",
    "simple_tuple[2::-1]"
   ]
  },
  {
   "cell_type": "code",
   "execution_count": 37,
   "id": "74dc7ffe-a94d-4ef2-aafe-7ce7df73f1f0",
   "metadata": {},
   "outputs": [
    {
     "data": {
      "text/plain": [
       "(True, 'Doraemon', 'and')"
      ]
     },
     "execution_count": 37,
     "metadata": {},
     "output_type": "execute_result"
    }
   ],
   "source": [
    "# slice last 3 tuple items using negative index\n",
    "simple_tuple = (\"Nobita\", 'and', \"Doraemon\", True)\n",
    "simple_tuple[-1:-4:-1]"
   ]
  },
  {
   "cell_type": "code",
   "execution_count": 38,
   "id": "12b1e1d5-7157-4d47-b9b5-d5ec8f992a77",
   "metadata": {},
   "outputs": [
    {
     "data": {
      "text/plain": [
       "(True, 'Doraemon', 'and', 'Nobita')"
      ]
     },
     "execution_count": 38,
     "metadata": {},
     "output_type": "execute_result"
    }
   ],
   "source": [
    "# reverse tuple\n",
    "simple_tuple = (\"Nobita\", 'and', \"Doraemon\", True)\n",
    "simple_tuple[::-1]\n"
   ]
  },
  {
   "cell_type": "code",
   "execution_count": 43,
   "id": "d6416197-c05d-4d93-951d-c5dbfedec3a2",
   "metadata": {},
   "outputs": [
    {
     "ename": "TypeError",
     "evalue": "'tuple' object does not support item assignment",
     "output_type": "error",
     "traceback": [
      "\u001b[1;31m---------------------------------------------------------------------------\u001b[0m",
      "\u001b[1;31mTypeError\u001b[0m                                 Traceback (most recent call last)",
      "Cell \u001b[1;32mIn[43], line 3\u001b[0m\n\u001b[0;32m      1\u001b[0m \u001b[38;5;66;03m#Tuple are immutable\u001b[39;00m\n\u001b[0;32m      2\u001b[0m simple_tuple \u001b[38;5;241m=\u001b[39m (\u001b[38;5;124m\"\u001b[39m\u001b[38;5;124mitem1\u001b[39m\u001b[38;5;124m\"\u001b[39m, \u001b[38;5;241m2\u001b[39m, \u001b[38;5;124m'\u001b[39m\u001b[38;5;124mitem3\u001b[39m\u001b[38;5;124m'\u001b[39m, \u001b[38;5;241m4\u001b[39m)\n\u001b[1;32m----> 3\u001b[0m \u001b[43msimple_tuple\u001b[49m\u001b[43m[\u001b[49m\u001b[38;5;241;43m0\u001b[39;49m\u001b[43m]\u001b[49m \u001b[38;5;241m=\u001b[39m \u001b[38;5;124m\"\u001b[39m\u001b[38;5;124mitem0\u001b[39m\u001b[38;5;124m\"\u001b[39m\n",
      "\u001b[1;31mTypeError\u001b[0m: 'tuple' object does not support item assignment"
     ]
    }
   ],
   "source": [
    "#Tuple are immutable\n",
    "simple_tuple = (\"item1\", 2, 'item3', 4)\n",
    "simple_tuple[0] = \"item0\""
   ]
  },
  {
   "cell_type": "code",
   "execution_count": 44,
   "id": "a59ad042-e3bf-4fee-bf15-cf7ee2017291",
   "metadata": {},
   "outputs": [
    {
     "name": "stdout",
     "output_type": "stream",
     "text": [
      "(1, 2, 2, 2, 3, 4, 2, 5, 6, 7)\n"
     ]
    }
   ],
   "source": [
    "#Tuples Methods\n",
    "tuple_method = (1, 2, 2, 2, 3, 4, 2, 5, 6, 7)\n",
    "print(tuple_method)\n",
    "\n"
   ]
  },
  {
   "cell_type": "code",
   "execution_count": 45,
   "id": "717f17dc-5d0c-4df0-807d-151fae7622b7",
   "metadata": {},
   "outputs": [
    {
     "name": "stdout",
     "output_type": "stream",
     "text": [
      "4\n"
     ]
    }
   ],
   "source": [
    "# count number of occurence of item \"2\"\n",
    "tuple_method = (1, 2, 2, 2, 3, 4, 2, 5, 6, 7)\n",
    "print(tuple_method.count(2))\n",
    "\n"
   ]
  },
  {
   "cell_type": "code",
   "execution_count": 46,
   "id": "b9a1eed6-dd7f-4c88-bbbd-70adba86e265",
   "metadata": {},
   "outputs": [
    {
     "data": {
      "text/plain": [
       "5"
      ]
     },
     "execution_count": 46,
     "metadata": {},
     "output_type": "execute_result"
    }
   ],
   "source": [
    "# get index of first item \"4\"\n",
    "tuple_method = (1, 2, 2, 2, 3, 4, 2, 5, 6, 7)\n",
    "tuple_method.index(4)\n"
   ]
  },
  {
   "cell_type": "code",
   "execution_count": 50,
   "id": "b8a86143-894c-4424-bbce-d6cca1bec899",
   "metadata": {},
   "outputs": [
    {
     "name": "stdout",
     "output_type": "stream",
     "text": [
      "('I', 'ate', 2, 'apple', 'and', 'Mango')\n"
     ]
    }
   ],
   "source": [
    "#add item in Tuple\n",
    "# Write your program here for approach 1\n",
    "simple_tuple = (\"I\" ,\"ate\", 2 ,'apple',\"and\")\n",
    "\n",
    "#typecast to list \n",
    "list_from_tuple = list(simple_tuple)\n",
    "\n",
    "# append item to list\n",
    "list_from_tuple.append(\"Mango\")\n",
    "\n",
    "# typecast back to Tuple\n",
    "simple_tuple = tuple(list_from_tuple)\n",
    "\n",
    "print(simple_tuple)"
   ]
  },
  {
   "cell_type": "code",
   "execution_count": 49,
   "id": "8d10e59b-6a6a-4fe7-be3e-5ba58bd6ed62",
   "metadata": {},
   "outputs": [
    {
     "name": "stdout",
     "output_type": "stream",
     "text": [
      "('item1', 2, 'item3', 4, 'item5')\n"
     ]
    }
   ],
   "source": [
    "# write your program for approach 2\n",
    "simple_tuple = (\"item1\", 2, 'item3', 4)\n",
    "\n",
    "# define tuple to add \n",
    "add_tuple = (\"item5\",)\n",
    "\n",
    "simple_tuple = simple_tuple+add_tuple\n",
    "\n",
    "print(simple_tuple)"
   ]
  },
  {
   "cell_type": "code",
   "execution_count": 52,
   "id": "c580b757-b20c-4454-a0a6-6f1b4cf8c880",
   "metadata": {},
   "outputs": [
    {
     "name": "stdout",
     "output_type": "stream",
     "text": [
      "I\n",
      "am\n",
      "a\n",
      "Student\n"
     ]
    }
   ],
   "source": [
    "#Unpack Tuples\n",
    "# create tuples of length 4\n",
    "# unpack tuples items to 4 other variables\n",
    "a, b, c, d = tuple_example = (\"I\" , 'am' ,'a',\"Student\")\n",
    "print(a)\n",
    "print(b)\n",
    "print(c)\n",
    "print(d)"
   ]
  },
  {
   "cell_type": "code",
   "execution_count": 57,
   "id": "3f1bfd37-8080-40a8-8ed5-00304fca7556",
   "metadata": {},
   "outputs": [
    {
     "name": "stdout",
     "output_type": "stream",
     "text": [
      "['I', 'am']\n",
      "a\n",
      "Student\n"
     ]
    }
   ],
   "source": [
    "#unpack tuples using Asterik *\n",
    "*a, b, c = simple_tuple =(\"I\" , 'am' ,'a',\"Student\")\n",
    "print(a)\n",
    "print(b)\n",
    "print(c)"
   ]
  },
  {
   "cell_type": "code",
   "execution_count": 59,
   "id": "12890375-faf5-4d8f-9291-51a24f36781c",
   "metadata": {},
   "outputs": [
    {
     "name": "stdout",
     "output_type": "stream",
     "text": [
      "Example\n",
      "------------------\n",
      "of Tuples\n",
      "------------------\n",
      "False\n",
      "------------------\n"
     ]
    }
   ],
   "source": [
    "#Loop Tuples\n",
    "#Initialize Tuples and loop through Tuples items one by one.\n",
    "tuples_eg = (\"Example\",'of Tuples', False )\n",
    "for item in tuples_eg:\n",
    "    print(item)\n",
    "    print('------------------')\n",
    "    \n"
   ]
  },
  {
   "cell_type": "code",
   "execution_count": 61,
   "id": "28215f40-c6d0-451a-9d41-aa06c722d70f",
   "metadata": {},
   "outputs": [
    {
     "name": "stdout",
     "output_type": "stream",
     "text": [
      "0 Example\n",
      "------------------\n",
      "1 of Tuples\n",
      "------------------\n",
      "2 False\n",
      "------------------\n"
     ]
    }
   ],
   "source": [
    "#Use enumerate() function to loop through Tupes to get index and values.\n",
    "tuples_eg = (\"Example\",'of Tuples', False )\n",
    "for list, item in enumerate(tuples_eg):\n",
    "    print(list,item)\n",
    "    print('------------------')"
   ]
  },
  {
   "cell_type": "code",
   "execution_count": 62,
   "id": "1a41583d-89e8-4c8c-92d5-fcc7d86071c0",
   "metadata": {},
   "outputs": [
    {
     "name": "stdout",
     "output_type": "stream",
     "text": [
      "('apple', 'mango', 'banana', 'grapes')\n"
     ]
    }
   ],
   "source": [
    "#Write a python program to lowercase item in given Tuples using Tuple comprehension.\n",
    "sample_tuple = (\"APPLE\", \"Mango\", \"BaNaNa\", \"GRapes\")\n",
    "\n",
    "lower_tuple = tuple(item.lower() for item in sample_tuple)\n",
    "\n",
    "print(lower_tuple)"
   ]
  },
  {
   "cell_type": "code",
   "execution_count": null,
   "id": "b9324213-79b5-477d-81c9-482a78a5bd5f",
   "metadata": {},
   "outputs": [],
   "source": []
  }
 ],
 "metadata": {
  "kernelspec": {
   "display_name": "Python 3 (ipykernel)",
   "language": "python",
   "name": "python3"
  },
  "language_info": {
   "codemirror_mode": {
    "name": "ipython",
    "version": 3
   },
   "file_extension": ".py",
   "mimetype": "text/x-python",
   "name": "python",
   "nbconvert_exporter": "python",
   "pygments_lexer": "ipython3",
   "version": "3.12.2"
  }
 },
 "nbformat": 4,
 "nbformat_minor": 5
}
