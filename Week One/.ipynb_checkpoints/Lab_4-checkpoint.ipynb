{
 "cells": [
  {
   "cell_type": "code",
   "execution_count": 12,
   "id": "6394709d-ee0e-499e-8824-e98a8914059f",
   "metadata": {},
   "outputs": [
    {
     "name": "stdout",
     "output_type": "stream",
     "text": [
      "Single Quotation String: Subinika\n",
      "Double Quotation String: Test\n"
     ]
    }
   ],
   "source": [
    "single_quot_str = 'Subinika'\n",
    "double_qout_str = \"Test\"\n",
    "\n",
    "print(\"Single Quotation String:\", single_quot_str)\n",
    "print(\"Double Quotation String:\" ,double_qout_str)"
   ]
  },
  {
   "cell_type": "code",
   "execution_count": 14,
   "id": "614919e4-792f-42ab-ad99-568164835b29",
   "metadata": {},
   "outputs": [
    {
     "ename": "AssertionError",
     "evalue": "They are not equal",
     "output_type": "error",
     "traceback": [
      "\u001b[1;31m---------------------------------------------------------------------------\u001b[0m",
      "\u001b[1;31mAssertionError\u001b[0m                            Traceback (most recent call last)",
      "Cell \u001b[1;32mIn[14], line 1\u001b[0m\n\u001b[1;32m----> 1\u001b[0m \u001b[38;5;28;01massert\u001b[39;00m single_quot_str\u001b[38;5;241m==\u001b[39mdouble_qout_str, \u001b[38;5;124m'\u001b[39m\u001b[38;5;124mThey are not equal\u001b[39m\u001b[38;5;124m'\u001b[39m\n",
      "\u001b[1;31mAssertionError\u001b[0m: They are not equal"
     ]
    }
   ],
   "source": [
    "assert single_quot_str==double_qout_str, 'They are not equal'"
   ]
  },
  {
   "cell_type": "code",
   "execution_count": 6,
   "id": "69aceaf2-c975-40b8-9eab-104f297305b3",
   "metadata": {},
   "outputs": [
    {
     "name": "stdout",
     "output_type": "stream",
     "text": [
      "Triple Quotation String: Hello I am Learning Python.\n"
     ]
    }
   ],
   "source": [
    "mult_quot_str = \"\"\"Hello I am Learning Python.\"\"\"\n",
    "print(\"Triple Quotation String:\" , mult_quot_str)"
   ]
  },
  {
   "cell_type": "code",
   "execution_count": 7,
   "id": "70d8b528-8cbe-4581-8a27-d1f07b981d96",
   "metadata": {},
   "outputs": [
    {
     "name": "stdout",
     "output_type": "stream",
     "text": [
      "Triple Single Quotation String: Hello Everyone!\n"
     ]
    }
   ],
   "source": [
    "mult_quot_str = '''Hello Everyone!'''\n",
    "print(\"Triple Single Quotation String:\" , mult_quot_str)"
   ]
  },
  {
   "cell_type": "code",
   "execution_count": 8,
   "id": "5c232ec8-e024-4c4d-a60d-1b1422048682",
   "metadata": {},
   "outputs": [
    {
     "name": "stdout",
     "output_type": "stream",
     "text": [
      "String Phrase: **Hi I'm learning string creation.**\n"
     ]
    }
   ],
   "source": [
    "string_phrase = \"**Hi I'm learning string creation.**\"\n",
    "print(\"String Phrase:\" , string_phrase)"
   ]
  },
  {
   "cell_type": "code",
   "execution_count": 10,
   "id": "ba525ede-eb55-405e-8214-c73d01b1aef2",
   "metadata": {},
   "outputs": [
    {
     "name": "stdout",
     "output_type": "stream",
     "text": [
      "HelloWorld\n"
     ]
    }
   ],
   "source": [
    "a = \"Hello\"\n",
    "b = \"World\"\n",
    "c = a+b\n",
    "print(c)\n"
   ]
  },
  {
   "cell_type": "code",
   "execution_count": 15,
   "id": "7a76617f-adbe-41b1-88b6-fc0cb93e4408",
   "metadata": {},
   "outputs": [
    {
     "name": "stdout",
     "output_type": "stream",
     "text": [
      "Positive Indexing\n"
     ]
    }
   ],
   "source": [
    "indexing_str = \"Positive Indexing\"\n",
    "print(indexing_str)\n"
   ]
  },
  {
   "cell_type": "code",
   "execution_count": 29,
   "id": "f7ecb1ca-66e5-492c-a716-652aa147e47a",
   "metadata": {},
   "outputs": [
    {
     "name": "stdout",
     "output_type": "stream",
     "text": [
      "Stri\n"
     ]
    }
   ],
   "source": [
    "indexing_str = \"String Slicing\"\n",
    "print(indexing_str[0:4])"
   ]
  },
  {
   "cell_type": "code",
   "execution_count": 23,
   "id": "774af42f-70a1-4085-ab02-58dfaa0d90eb",
   "metadata": {},
   "outputs": [
    {
     "name": "stdout",
     "output_type": "stream",
     "text": [
      "x\n"
     ]
    }
   ],
   "source": [
    "indexing_str = \"Negative Indexing\"\n",
    "print(indexing_str[-4])\n"
   ]
  },
  {
   "cell_type": "code",
   "execution_count": 24,
   "id": "74e2f8fd-145d-426a-a0da-2da2f35914eb",
   "metadata": {},
   "outputs": [
    {
     "name": "stdout",
     "output_type": "stream",
     "text": [
      "Negative Inde\n"
     ]
    }
   ],
   "source": [
    "indexing_str = \"Negative Indexing\"\n",
    "print(indexing_str[0:-4])"
   ]
  },
  {
   "cell_type": "code",
   "execution_count": 34,
   "id": "571b6f76-8c13-40eb-95d7-7a494b3723d6",
   "metadata": {},
   "outputs": [
    {
     "name": "stdout",
     "output_type": "stream",
     "text": [
      "g\n"
     ]
    }
   ],
   "source": [
    "indexding_str =\"Negative Indexing\"\n",
    "print(indexding_str[-15])"
   ]
  },
  {
   "cell_type": "code",
   "execution_count": 52,
   "id": "fcc16057-844f-4e5b-9bed-a9c7514fe8f1",
   "metadata": {},
   "outputs": [
    {
     "name": "stdout",
     "output_type": "stream",
     "text": [
      "I l\n"
     ]
    }
   ],
   "source": [
    "str = \"I like Oggy\"\n",
    "print(str[0:3])\n"
   ]
  },
  {
   "cell_type": "code",
   "execution_count": 50,
   "id": "c9efc471-47ac-457c-ac0b-8679fba767d0",
   "metadata": {},
   "outputs": [
    {
     "name": "stdout",
     "output_type": "stream",
     "text": [
      "\n"
     ]
    }
   ],
   "source": [
    "print(str[-3:0:3])\n"
   ]
  },
  {
   "cell_type": "code",
   "execution_count": 51,
   "id": "1a8ceab4-7530-4ee7-a6c5-e854bf95f934",
   "metadata": {},
   "outputs": [
    {
     "name": "stdout",
     "output_type": "stream",
     "text": [
      "taC a si moT\n"
     ]
    }
   ],
   "source": [
    "str_reverse = \"Tom is a Cat\"\n",
    "print(str_reverse[::-1])"
   ]
  },
  {
   "cell_type": "code",
   "execution_count": 53,
   "id": "745f3e3d-1680-4b7a-aca1-4e324d8c15a1",
   "metadata": {},
   "outputs": [
    {
     "ename": "TypeError",
     "evalue": "'str' object does not support item assignment",
     "output_type": "error",
     "traceback": [
      "\u001b[1;31m---------------------------------------------------------------------------\u001b[0m",
      "\u001b[1;31mTypeError\u001b[0m                                 Traceback (most recent call last)",
      "Cell \u001b[1;32mIn[53], line 2\u001b[0m\n\u001b[0;32m      1\u001b[0m test_str \u001b[38;5;241m=\u001b[39m \u001b[38;5;124m\"\u001b[39m\u001b[38;5;124mMango\u001b[39m\u001b[38;5;124m\"\u001b[39m\n\u001b[1;32m----> 2\u001b[0m \u001b[43mtest_str\u001b[49m\u001b[43m[\u001b[49m\u001b[38;5;241;43m0\u001b[39;49m\u001b[43m]\u001b[49m \u001b[38;5;241m=\u001b[39m \u001b[38;5;124m'\u001b[39m\u001b[38;5;124mm\u001b[39m\u001b[38;5;124m'\u001b[39m\n",
      "\u001b[1;31mTypeError\u001b[0m: 'str' object does not support item assignment"
     ]
    }
   ],
   "source": [
    "test_str = \"Mango\"\n",
    "test_str[0] = 'm'"
   ]
  },
  {
   "cell_type": "code",
   "execution_count": 54,
   "id": "0dd1af57-8e0e-4158-adfe-aeb94d080a7b",
   "metadata": {},
   "outputs": [
    {
     "name": "stdout",
     "output_type": "stream",
     "text": [
      "I am Practicing String Method\n"
     ]
    }
   ],
   "source": [
    "str_method = \"I am Practicing String Method\"\n",
    "print(str_method)\n"
   ]
  },
  {
   "cell_type": "code",
   "execution_count": 62,
   "id": "05e0b757-3ab3-4ea3-a4dd-582ef2a293b3",
   "metadata": {},
   "outputs": [
    {
     "name": "stdout",
     "output_type": "stream",
     "text": [
      "I AM PRACTICING STRING METHOD\n"
     ]
    }
   ],
   "source": [
    "str_method = \"I am Practicing String Method\"\n",
    "upper_str = str_method.upper()\n",
    "print(upper_str)\n"
   ]
  },
  {
   "cell_type": "code",
   "execution_count": 61,
   "id": "72cf219b-fc18-477e-af48-0227d9c8708d",
   "metadata": {},
   "outputs": [
    {
     "name": "stdout",
     "output_type": "stream",
     "text": [
      "i am practicing string method\n"
     ]
    }
   ],
   "source": [
    "str_method = \"I am Practicing String Method\"\n",
    "lower_str = str_method.lower()\n",
    "print(lower_str)"
   ]
  },
  {
   "cell_type": "code",
   "execution_count": 76,
   "id": "923ad0ce-a473-4bb7-8dc6-8bcf136fc4be",
   "metadata": {},
   "outputs": [
    {
     "name": "stdout",
     "output_type": "stream",
     "text": [
      "['I', 'like', 'Mango.']\n"
     ]
    }
   ],
   "source": [
    "str_method = \" I like Mango.\"\n",
    "white_space =str_method.split()\n",
    "print(white_space)\n"
   ]
  },
  {
   "cell_type": "code",
   "execution_count": 77,
   "id": "79b6ac45-216d-47c7-b6fc-43d516203b96",
   "metadata": {},
   "outputs": [
    {
     "name": "stdout",
     "output_type": "stream",
     "text": [
      "I like Mango.\n"
     ]
    }
   ],
   "source": [
    "str_method = \" I like Mango.\"\n",
    "white_space =str_method.strip()\n",
    "print(white_space)"
   ]
  },
  {
   "cell_type": "code",
   "execution_count": 66,
   "id": "4f357246-485d-4983-b3e5-fc08999d56a4",
   "metadata": {},
   "outputs": [
    {
     "name": "stdout",
     "output_type": "stream",
     "text": [
      "I have Practiced String Method.\n"
     ]
    }
   ],
   "source": [
    "str_method = \" I am Practicing String Method\"\n",
    "replace_str =str_method.replace(\" I am Practicing String Method\", \"I have Practiced String Method.\")\n",
    "print(replace_str)"
   ]
  },
  {
   "cell_type": "code",
   "execution_count": 69,
   "id": "9eed14dc-7082-49c8-ac35-f4d4e7f1f2c2",
   "metadata": {},
   "outputs": [
    {
     "data": {
      "text/plain": [
       "False"
      ]
     },
     "execution_count": 69,
     "metadata": {},
     "output_type": "execute_result"
    }
   ],
   "source": [
    "string = \"Hello Everyone\"\n",
    "string.endswith(\"Every\")"
   ]
  },
  {
   "cell_type": "code",
   "execution_count": 70,
   "id": "fb545a52-7f7a-4495-b2e0-7db54caac6f4",
   "metadata": {},
   "outputs": [
    {
     "data": {
      "text/plain": [
       "True"
      ]
     },
     "execution_count": 70,
     "metadata": {},
     "output_type": "execute_result"
    }
   ],
   "source": [
    "string =\"Hello Everyone\"\n",
    "string.endswith(\"one\")"
   ]
  },
  {
   "cell_type": "code",
   "execution_count": 71,
   "id": "6f1148d5-667e-4d9b-a640-98c686685a4e",
   "metadata": {},
   "outputs": [
    {
     "data": {
      "text/plain": [
       "False"
      ]
     },
     "execution_count": 71,
     "metadata": {},
     "output_type": "execute_result"
    }
   ],
   "source": [
    "string = \"Apple is a Fruit\"\n",
    "string.isdigit()"
   ]
  },
  {
   "cell_type": "code",
   "execution_count": 73,
   "id": "2ba9f1f4-670c-47f4-89ad-92aaf0788b6c",
   "metadata": {},
   "outputs": [
    {
     "data": {
      "text/plain": [
       "True"
      ]
     },
     "execution_count": 73,
     "metadata": {},
     "output_type": "execute_result"
    }
   ],
   "source": [
    "String = \"12345\"\n",
    "String.isdigit()"
   ]
  },
  {
   "cell_type": "code",
   "execution_count": 8,
   "id": "3eec617e-1eca-4454-a9b6-83fe3ab84395",
   "metadata": {},
   "outputs": [
    {
     "name": "stdout",
     "output_type": "stream",
     "text": [
      "Hello John. Your age is 23.\n"
     ]
    }
   ],
   "source": [
    "user_age = 23\n",
    "user_name = \"John\"\n",
    "text=\"Hello {}. Your age is {}.\"\n",
    "print(text.format(user_name , user_age))"
   ]
  },
  {
   "cell_type": "code",
   "execution_count": 17,
   "id": "dc653b39-2d20-4bba-a818-259564f2882a",
   "metadata": {},
   "outputs": [
    {
     "name": "stdout",
     "output_type": "stream",
     "text": [
      "His name is Nobita Nobi\n"
     ]
    }
   ],
   "source": [
    "first_name = \"Nobita\"\n",
    "second_name = \"Nobi\"\n",
    "\n",
    "sum = \"His name is {} {}\"\n",
    "print(sum.format(first_name,second_name))"
   ]
  },
  {
   "cell_type": "code",
   "execution_count": 15,
   "id": "24d3d4d1-5a4c-4dda-a820-f14829307103",
   "metadata": {},
   "outputs": [
    {
     "name": "stdout",
     "output_type": "stream",
     "text": [
      "His name is NobitaNobi \n"
     ]
    }
   ],
   "source": [
    "first_name = \"Nobita\"\n",
    "second_name = \"Nobi\"\n",
    "\n",
    "sum = \"His name is {} \"\n",
    "print(sum.format(first_name+second_name))"
   ]
  },
  {
   "cell_type": "code",
   "execution_count": 25,
   "id": "22c71f87-b280-4cc6-ac3a-b0ace80a685e",
   "metadata": {},
   "outputs": [
    {
     "name": "stdout",
     "output_type": "stream",
     "text": [
      "your age is 12\n"
     ]
    }
   ],
   "source": [
    "user_age = 12\n",
    "print(\"your age is {}\".format(user_age))"
   ]
  },
  {
   "cell_type": "code",
   "execution_count": 39,
   "id": "9fe38525-6fb7-43ba-b297-6422ee6fcb6e",
   "metadata": {},
   "outputs": [
    {
     "name": "stdout",
     "output_type": "stream",
     "text": [
      "your name is Sandy.Your age is 12\n"
     ]
    }
   ],
   "source": [
    "user_age = 12\n",
    "user_name = \"Sandy\"\n",
    "print(\"your name is {}.Your age is {}\".format(user_name , user_age))"
   ]
  },
  {
   "cell_type": "code",
   "execution_count": 43,
   "id": "89878d90-5332-495c-9818-4a8a57f2d280",
   "metadata": {},
   "outputs": [
    {
     "name": "stdout",
     "output_type": "stream",
     "text": [
      "Your age is 30\n"
     ]
    }
   ],
   "source": [
    "age = 30 \n",
    "print(f\"Your age is {age}\")"
   ]
  },
  {
   "cell_type": "code",
   "execution_count": 62,
   "id": "b7a74475-628b-4278-93e7-b14f782740ca",
   "metadata": {},
   "outputs": [
    {
     "name": "stdout",
     "output_type": "stream",
     "text": [
      "Your First name is Peter.Your Second name is Jackson\n"
     ]
    }
   ],
   "source": [
    "first_name =\"Peter\"\n",
    "second_name = \"Jackson\"\n",
    "print(f\"Your First name is {first_name}.Your Second name is {second_name}\")"
   ]
  },
  {
   "cell_type": "code",
   "execution_count": 65,
   "id": "9a107ed4-3d11-49dd-adab-c86ce584abd6",
   "metadata": {},
   "outputs": [
    {
     "name": "stdout",
     "output_type": "stream",
     "text": [
      "He said, 'Hello!'\n"
     ]
    }
   ],
   "source": [
    "my_string = 'He said, \\'Hello!\\''\n",
    "print(my_string)\n"
   ]
  },
  {
   "cell_type": "code",
   "execution_count": 76,
   "id": "cd7ff743-3170-4509-9166-cc3c0215d3c9",
   "metadata": {},
   "outputs": [
    {
     "name": "stdout",
     "output_type": "stream",
     "text": [
      "example of backslash is This is a BackSlash : \\\n"
     ]
    }
   ],
   "source": [
    "my_str = \"This is a BackSlash : \\\\\"\n",
    "print(f\"example of backslash is {my_str}\")"
   ]
  },
  {
   "cell_type": "code",
   "execution_count": 80,
   "id": "cd4753d2-8ffe-4110-be26-e0ad7ff8b815",
   "metadata": {},
   "outputs": [
    {
     "name": "stdout",
     "output_type": "stream",
     "text": [
      "This is a line.\n",
      "This is a new line.\n"
     ]
    }
   ],
   "source": [
    "str_line = \"This is a line.\\nThis is a new line.\"\n",
    "print(str_line)\n"
   ]
  },
  {
   "cell_type": "code",
   "execution_count": 81,
   "id": "a034ca0f-35fa-48d7-951e-f870b1478c80",
   "metadata": {},
   "outputs": [
    {
     "name": "stdout",
     "output_type": "stream",
     "text": [
      "This is a line.\tThis is a new line.\n"
     ]
    }
   ],
   "source": [
    "str_line = \"This is a line.\\tThis is a new line.\"\n",
    "print(str_line)\n"
   ]
  },
  {
   "cell_type": "code",
   "execution_count": 84,
   "id": "7b8a973c-951d-464f-9b11-4fecf691f70d",
   "metadata": {},
   "outputs": [
    {
     "name": "stdout",
     "output_type": "stream",
     "text": [
      "Example of string Loop is 14\n"
     ]
    }
   ],
   "source": [
    "str_loop = \"This is a Loop\"\n",
    "text = len(str_loop)\n",
    "print(f\"Example of string Loop is {text}\")\n"
   ]
  },
  {
   "cell_type": "code",
   "execution_count": 7,
   "id": "07a7dcc6-6bdf-44c7-80fa-89a162a720cd",
   "metadata": {},
   "outputs": [
    {
     "name": "stdout",
     "output_type": "stream",
     "text": [
      "Length of String 28\n"
     ]
    }
   ],
   "source": [
    "newString = \"Hello World, MySelf Subinika\"\n",
    "print(\"Length of String\" , len(newString))\n",
    "\n"
   ]
  },
  {
   "cell_type": "code",
   "execution_count": 8,
   "id": "7875eca8-9b48-4d44-bcea-fc6ec01e7e53",
   "metadata": {},
   "outputs": [
    {
     "name": "stdout",
     "output_type": "stream",
     "text": [
      "28\n"
     ]
    }
   ],
   "source": [
    "i = 0\n",
    "for chars in newString:\n",
    "    i = i + 1\n",
    "print(i)"
   ]
  },
  {
   "cell_type": "code",
   "execution_count": 10,
   "id": "059b6388-17a2-4b13-b26e-32a7085f0e6a",
   "metadata": {},
   "outputs": [
    {
     "name": "stdout",
     "output_type": "stream",
     "text": [
      "Held\n"
     ]
    }
   ],
   "source": [
    "inputString = \"Hello World\"\n",
    "firstNewString = inputString[0:2]\n",
    "lastNewString = inputString[-2:]\n",
    "print(firstNewString+lastNewString)"
   ]
  },
  {
   "cell_type": "code",
   "execution_count": 11,
   "id": "8f3650e8-d1e1-4e87-8730-d12f822a0702",
   "metadata": {},
   "outputs": [
    {
     "name": "stdout",
     "output_type": "stream",
     "text": [
      "wollo Herld\n"
     ]
    }
   ],
   "source": [
    "string_first  = \"Hello\"\n",
    "string_second = \"world\"\n",
    "swap_string_first = string_second[:2] + string_first[2:]\n",
    "swap_string_second = string_first[:2] + string_second[2:]\n",
    "result = swap_string_first + \" \" + swap_string_second\n",
    "print(result)"
   ]
  },
  {
   "cell_type": "code",
   "execution_count": null,
   "id": "ec19ec30-8da4-4822-8270-bada0a28c721",
   "metadata": {},
   "outputs": [],
   "source": [
    "input_string = input(\"Enter any String Value\")\n",
    "while not input_string:\n",
    "    print(\"Please Enter a String\")\n",
    "    input_string = input(\"Enter any String Value\")\n",
    "index = int(input(\"Enter index you want to delete from string :\"))\n",
    "\n",
    "if 0 <= index < len(input_string):\n",
    "    new_string = input_string[:index] + input_string[index+1:]\n",
    "    print(f\"String after removing index : {new_string}\")\n",
    "else:\n",
    "    print(\"Invalid Index please enter from 0 to {}\".format(len(input_string) -1))"
   ]
  },
  {
   "cell_type": "code",
   "execution_count": null,
   "id": "a794b704-b644-407e-87ed-c500b28abc8d",
   "metadata": {},
   "outputs": [],
   "source": []
  }
 ],
 "metadata": {
  "kernelspec": {
   "display_name": "Python 3 (ipykernel)",
   "language": "python",
   "name": "python3"
  },
  "language_info": {
   "codemirror_mode": {
    "name": "ipython",
    "version": 3
   },
   "file_extension": ".py",
   "mimetype": "text/x-python",
   "name": "python",
   "nbconvert_exporter": "python",
   "pygments_lexer": "ipython3",
   "version": "3.12.2"
  }
 },
 "nbformat": 4,
 "nbformat_minor": 5
}
