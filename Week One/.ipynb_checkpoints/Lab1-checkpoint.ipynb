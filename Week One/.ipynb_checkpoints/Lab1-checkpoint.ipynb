{
 "cells": [
  {
   "cell_type": "code",
   "execution_count": 1,
   "id": "29bb9ca3-08e5-4313-801f-67e935d71b2d",
   "metadata": {},
   "outputs": [
    {
     "name": "stdout",
     "output_type": "stream",
     "text": [
      "Hello World\n"
     ]
    }
   ],
   "source": [
    "print(\"Hello World\")\n"
   ]
  },
  {
   "cell_type": "code",
   "execution_count": 2,
   "id": "1674e0a6-77f7-43e7-b571-2d77b56b4adf",
   "metadata": {},
   "outputs": [
    {
     "name": "stdout",
     "output_type": "stream",
     "text": [
      "       *   \n",
      "    *     *   \n",
      "  *          *  \n",
      "*  *  *  *  *  * \n"
     ]
    }
   ],
   "source": [
    "print(\"       *   \")\n",
    "print(\"    *     *   \")\n",
    "print(\"  *          *  \")\n",
    "print(\"*  *  *  *  *  * \")"
   ]
  },
  {
   "cell_type": "code",
   "execution_count": null,
   "id": "4b846354-886b-4c46-adf8-5405f4c6e9c4",
   "metadata": {},
   "outputs": [],
   "source": []
  }
 ],
 "metadata": {
  "kernelspec": {
   "display_name": "Python 3 (ipykernel)",
   "language": "python",
   "name": "python3"
  },
  "language_info": {
   "codemirror_mode": {
    "name": "ipython",
    "version": 3
   },
   "file_extension": ".py",
   "mimetype": "text/x-python",
   "name": "python",
   "nbconvert_exporter": "python",
   "pygments_lexer": "ipython3",
   "version": "3.12.2"
  }
 },
 "nbformat": 4,
 "nbformat_minor": 5
}
