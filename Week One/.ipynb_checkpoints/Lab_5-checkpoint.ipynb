{
 "cells": [
  {
   "cell_type": "code",
   "execution_count": 16,
   "id": "949cc34e-9c35-4991-b9a5-55f57448cf38",
   "metadata": {},
   "outputs": [
    {
     "name": "stdout",
     "output_type": "stream",
     "text": [
      "['Hello', 12, True, [3, 4]]\n"
     ]
    }
   ],
   "source": [
    "#Python List\n",
    "#Creating List \n",
    "creating_list = [ \"Hello\" , 12 ,True, [3 , 4 ]]\n",
    "print(creating_list)"
   ]
  },
  {
   "cell_type": "code",
   "execution_count": 3,
   "id": "13ad9a22-d62e-4742-b6e3-bee05e1ac03a",
   "metadata": {},
   "outputs": [
    {
     "name": "stdout",
     "output_type": "stream",
     "text": [
      "<class 'list'>\n"
     ]
    }
   ],
   "source": [
    "#defining type\n",
    "print(type(creating_list))"
   ]
  },
  {
   "cell_type": "code",
   "execution_count": 8,
   "id": "9ef3ee24-4cf2-4937-8714-8095db42c96e",
   "metadata": {},
   "outputs": [
    {
     "name": "stdout",
     "output_type": "stream",
     "text": [
      "Intro 6\n"
     ]
    }
   ],
   "source": [
    "#display length of list\n",
    "new_list = [\"I am Subinika\",\"My roll is\", [14],[23],12,34]\n",
    "print(\"Intro\" ,len(new_list))"
   ]
  },
  {
   "cell_type": "code",
   "execution_count": 12,
   "id": "ce8b47fd-ffa9-4220-93bf-1b24fd396e36",
   "metadata": {},
   "outputs": [
    {
     "name": "stdout",
     "output_type": "stream",
     "text": [
      "['hello everybody', [2, 3, 5]]\n"
     ]
    }
   ],
   "source": [
    "# create nested list\n",
    "nested_list = ['hello everybody',[2,3,5]]\n",
    "print(nested_list)"
   ]
  },
  {
   "cell_type": "code",
   "execution_count": 13,
   "id": "591404d9-65ed-42b1-8504-664eccbfb96c",
   "metadata": {},
   "outputs": [
    {
     "name": "stdout",
     "output_type": "stream",
     "text": [
      "<class 'list'>\n"
     ]
    }
   ],
   "source": [
    "# display type of nested list\n",
    "print(type(nested_list))"
   ]
  },
  {
   "cell_type": "code",
   "execution_count": 14,
   "id": "07ac232c-ae94-43e8-a8f8-d8c7bd6dae8c",
   "metadata": {},
   "outputs": [
    {
     "name": "stdout",
     "output_type": "stream",
     "text": [
      "length of nested list 2\n"
     ]
    }
   ],
   "source": [
    "# display length of nested list\n",
    "print(\"length of nested list\" ,len(nested_list))"
   ]
  },
  {
   "cell_type": "code",
   "execution_count": 15,
   "id": "2c522863-933d-4635-b9f8-c9c36c8070c9",
   "metadata": {},
   "outputs": [
    {
     "name": "stdout",
     "output_type": "stream",
     "text": [
      "Hello, World!\n"
     ]
    }
   ],
   "source": [
    "#list creation form String \n",
    "non_empty_string = \"Hello, World!\"\n",
    "print(non_empty_string)\n"
   ]
  },
  {
   "cell_type": "code",
   "execution_count": 17,
   "id": "cb920084-858d-4aed-a758-ee35b30a270e",
   "metadata": {},
   "outputs": [
    {
     "name": "stdout",
     "output_type": "stream",
     "text": [
      "['I', 'Love', 'eating', 'Mango']\n"
     ]
    }
   ],
   "source": [
    "# split string to create list\n",
    "non_empty_str = \"I Love eating Mango\"\n",
    "print(non_empty_str.split(\" \"))"
   ]
  },
  {
   "cell_type": "code",
   "execution_count": 32,
   "id": "9679112b-48ad-480f-a8a6-216d463de3eb",
   "metadata": {},
   "outputs": [
    {
     "name": "stdout",
     "output_type": "stream",
     "text": [
      "5\n"
     ]
    }
   ],
   "source": [
    "# initialize simple list of length 5\n",
    "crt_list = [\"i\",\"am\",\"cartoon lover\",True,24]\n",
    "print(len(crt_list))"
   ]
  },
  {
   "cell_type": "code",
   "execution_count": 21,
   "id": "46707c2b-ea9b-4f47-a966-1380cd17a15d",
   "metadata": {},
   "outputs": [
    {
     "name": "stdout",
     "output_type": "stream",
     "text": [
      "['I']\n"
     ]
    }
   ],
   "source": [
    "# print 1st item using positive index\n",
    "print(crt_list [0])"
   ]
  },
  {
   "cell_type": "code",
   "execution_count": 22,
   "id": "09c51d84-d0fe-456a-aeca-f97416346897",
   "metadata": {},
   "outputs": [
    {
     "name": "stdout",
     "output_type": "stream",
     "text": [
      "['Cartoon Lover.']\n"
     ]
    }
   ],
   "source": [
    "# print 3rd item using positive index\n",
    "print(crt_list [2])"
   ]
  },
  {
   "cell_type": "code",
   "execution_count": 24,
   "id": "f108ec74-db09-42be-a38f-34dafd48d72a",
   "metadata": {},
   "outputs": [
    {
     "name": "stdout",
     "output_type": "stream",
     "text": [
      "[24]\n"
     ]
    }
   ],
   "source": [
    "# print last item using positive index\n",
    "print(crt_list [-1])"
   ]
  },
  {
   "cell_type": "code",
   "execution_count": 30,
   "id": "caa8a202-3d12-4c2e-9a0c-aa5fd428444b",
   "metadata": {},
   "outputs": [
    {
     "name": "stdout",
     "output_type": "stream",
     "text": [
      "5\n"
     ]
    }
   ],
   "source": [
    "# initialize nested list of length 5\n",
    "nested_list = [ [\" I am \"] ,[\"an IT Student\"] , True, [4], [\"year\"]]\n",
    "print(len(nested_list))"
   ]
  },
  {
   "cell_type": "code",
   "execution_count": 31,
   "id": "29631b48-fe44-42b0-9e92-451342b9653e",
   "metadata": {},
   "outputs": [
    {
     "name": "stdout",
     "output_type": "stream",
     "text": [
      "5\n"
     ]
    }
   ],
   "source": [
    "# reinitialize simple list of length 5\n",
    "list_create = [\"i\",\"am\",\"cartoon lover\",True,24]\n",
    "print(len(list_create))"
   ]
  },
  {
   "cell_type": "code",
   "execution_count": 39,
   "id": "5c1dec1d-319f-41d5-b520-4cf4907ffe03",
   "metadata": {},
   "outputs": [
    {
     "name": "stdout",
     "output_type": "stream",
     "text": [
      "i\n"
     ]
    }
   ],
   "source": [
    "# print 1st item using negative index\n",
    "print(list_create [-5])"
   ]
  },
  {
   "cell_type": "code",
   "execution_count": 41,
   "id": "977ed63a-b09d-4344-8a6a-885f8fd9b122",
   "metadata": {},
   "outputs": [
    {
     "name": "stdout",
     "output_type": "stream",
     "text": [
      "cartoon lover\n"
     ]
    }
   ],
   "source": [
    "# print 3rd item using negative index\n",
    "print(list_create [-3])"
   ]
  },
  {
   "cell_type": "code",
   "execution_count": 42,
   "id": "647dad8f-2a2e-4397-9c96-1437e4f55b66",
   "metadata": {},
   "outputs": [
    {
     "name": "stdout",
     "output_type": "stream",
     "text": [
      "24\n"
     ]
    }
   ],
   "source": [
    "# print last item using negative index\n",
    "print(list_create [-1])"
   ]
  },
  {
   "cell_type": "code",
   "execution_count": 29,
   "id": "200f2d0e-c861-4dd8-83c3-221702d41f14",
   "metadata": {},
   "outputs": [
    {
     "name": "stdout",
     "output_type": "stream",
     "text": [
      "5\n"
     ]
    }
   ],
   "source": [
    "# initialize simple list (refer to above example)\n",
    "crt_list = [\"I\",\"am\",\"Cartoon Lover\",True,24]\n",
    "print(len(crt_list))"
   ]
  },
  {
   "cell_type": "code",
   "execution_count": 44,
   "id": "e082699b-56c4-4e4b-8261-678d0f492545",
   "metadata": {},
   "outputs": [
    {
     "name": "stdout",
     "output_type": "stream",
     "text": [
      "['I', 'am', 'Cartoon Lover']\n"
     ]
    }
   ],
   "source": [
    "# slice first 3 items using positive index\n",
    "print(crt_list[0:3])\n"
   ]
  },
  {
   "cell_type": "code",
   "execution_count": 47,
   "id": "24e7d8ef-459e-46b8-99b6-e3be641dad56",
   "metadata": {},
   "outputs": [
    {
     "name": "stdout",
     "output_type": "stream",
     "text": [
      "['am', 'Cartoon Lover', 'true']\n"
     ]
    }
   ],
   "source": [
    "#slice last 3 items using negative index\n",
    "print(crt_list[-4:-1])"
   ]
  },
  {
   "cell_type": "code",
   "execution_count": 53,
   "id": "35b1b651-6f1c-4cd3-afe1-f10e93cc63fc",
   "metadata": {},
   "outputs": [
    {
     "name": "stdout",
     "output_type": "stream",
     "text": [
      " el vroe,Msl oamnadIa  oo\n"
     ]
    }
   ],
   "source": [
    "# get list item at even index\n",
    "intro_me = \" Hello Everyone!, Myself Doraemon and I am a Robo.\"\n",
    "even_indices_items = intro_me[::2]\n",
    "print(even_indices_items)"
   ]
  },
  {
   "cell_type": "code",
   "execution_count": 54,
   "id": "2354cb6a-0105-4daf-87c1-d3d83f35eacd",
   "metadata": {},
   "outputs": [
    {
     "name": "stdout",
     "output_type": "stream",
     "text": [
      ".oboR a ma I dna nomearoD flesyM ,!enoyrevE olleH \n"
     ]
    }
   ],
   "source": [
    "# reverse list\n",
    "reverse_items = intro_me[::-1]\n",
    "print(reverse_items)"
   ]
  },
  {
   "cell_type": "code",
   "execution_count": 55,
   "id": "10389d44-3c95-4c45-8df7-f449c54312ef",
   "metadata": {},
   "outputs": [
    {
     "name": "stdout",
     "output_type": "stream",
     "text": [
      "['hi', 'i', 'am', 'mutable']\n"
     ]
    }
   ],
   "source": [
    "# verify lists are mutable\n",
    "mutable_list = ['hi', 'i', 'am', 'mutable']\n",
    "print(mutable_list)"
   ]
  },
  {
   "cell_type": "code",
   "execution_count": 56,
   "id": "5ff80eac-88dd-48a5-8557-1f0f22a3c62b",
   "metadata": {},
   "outputs": [
    {
     "name": "stdout",
     "output_type": "stream",
     "text": [
      "['Hello', 'i', 'am', 'mutable']\n"
     ]
    }
   ],
   "source": [
    "# change first item 'hi' to 'hello'\n",
    "mutable_list = ['Hello','i', 'am', 'mutable']\n",
    "print(mutable_list)"
   ]
  },
  {
   "cell_type": "code",
   "execution_count": 57,
   "id": "1784d66c-7ea7-479f-8f2f-ca0c5a8a452f",
   "metadata": {},
   "outputs": [
    {
     "name": "stdout",
     "output_type": "stream",
     "text": [
      "[1, 2, 3, 4, 5]\n"
     ]
    }
   ],
   "source": [
    "# Create a new list\n",
    "new_list = [1 , 2, 3, 4, 5 ]\n",
    "print(new_list)"
   ]
  },
  {
   "cell_type": "code",
   "execution_count": 65,
   "id": "487635c2-bfc9-4250-baa7-cd4ab319c8d7",
   "metadata": {},
   "outputs": [
    {
     "name": "stdout",
     "output_type": "stream",
     "text": [
      "[1, 2, 3, 4, 5, 'Subinika']\n"
     ]
    }
   ],
   "source": [
    "# add new item to the end of a list\n",
    "new_list.append(\"Subinika\")\n",
    "print(new_list)"
   ]
  },
  {
   "cell_type": "code",
   "execution_count": 66,
   "id": "87421c5c-c7cd-4d84-9ca5-8fe8d143f2db",
   "metadata": {},
   "outputs": [
    {
     "name": "stdout",
     "output_type": "stream",
     "text": [
      "[10, 15, 20, 30, 40, 50]\n"
     ]
    }
   ],
   "source": [
    "# Adding a new item (e.g., 15) at index 1\n",
    "my_list = [10, 20, 30, 40, 50]\n",
    "my_list.insert(1, 15)\n",
    "print(my_list)\n"
   ]
  },
  {
   "cell_type": "code",
   "execution_count": 67,
   "id": "e8cb2bfc-8810-432f-a58e-b6ebab307a06",
   "metadata": {},
   "outputs": [
    {
     "name": "stdout",
     "output_type": "stream",
     "text": [
      "[1, 2, 3, 4, 5, 6, 7, 8, 9, 0]\n"
     ]
    }
   ],
   "source": [
    "list1 = [1, 2, 3, 4, 5]\n",
    "list2 = [ 6, 7, 8, 9, 0]\n",
    "list1.extend(list2)\n",
    "print(list1)"
   ]
  },
  {
   "cell_type": "code",
   "execution_count": 6,
   "id": "6a7c876d-30f9-4b1b-a61e-e8c4e52f9966",
   "metadata": {},
   "outputs": [
    {
     "name": "stdout",
     "output_type": "stream",
     "text": [
      "[2, 4, 6]\n"
     ]
    }
   ],
   "source": [
    "# remove specific item from list\n",
    "list2 = [2,4,6,8]\n",
    "list2.remove(8)\n",
    "print(list2)"
   ]
  },
  {
   "cell_type": "code",
   "execution_count": 10,
   "id": "3d5a887d-5d09-45eb-a51b-d5950a9afefd",
   "metadata": {},
   "outputs": [
    {
     "name": "stdout",
     "output_type": "stream",
     "text": [
      "['Apple', 'Banana']\n"
     ]
    }
   ],
   "source": [
    "# remove item at index 1 of list\n",
    "my_list = ['Apple', 'Mango', 'Banana']\n",
    "my_list.pop(1)\n",
    "print(my_list)"
   ]
  },
  {
   "cell_type": "code",
   "execution_count": 14,
   "id": "ab891560-165f-4008-8b16-d9aa5cce9077",
   "metadata": {},
   "outputs": [
    {
     "name": "stdout",
     "output_type": "stream",
     "text": [
      "['Apple', 'Mango']\n"
     ]
    }
   ],
   "source": [
    "# remove last item from list\n",
    "my_list = ['Apple', 'Mango', 'Banana']\n",
    "my_list.pop(2)\n",
    "print(my_list)"
   ]
  },
  {
   "cell_type": "code",
   "execution_count": 17,
   "id": "bbcd1898-b1bf-4127-848c-201b4c4492e6",
   "metadata": {},
   "outputs": [
    {
     "name": "stdout",
     "output_type": "stream",
     "text": [
      "['Banana', 'Mango', 'Apple']\n"
     ]
    }
   ],
   "source": [
    "# reverse list\n",
    "my_list = ['Apple', 'Mango', 'Banana']\n",
    "my_list.reverse()\n",
    "print(my_list)"
   ]
  },
  {
   "cell_type": "code",
   "execution_count": 18,
   "id": "da649505-b881-4b30-a4e2-0927c3fe4339",
   "metadata": {},
   "outputs": [
    {
     "name": "stdout",
     "output_type": "stream",
     "text": [
      "['Basketball', 'Football', 'Volleyball']\n"
     ]
    }
   ],
   "source": [
    "# sort list in ascending order\n",
    "ascending_order = [ 'Football', 'Volleyball' ,'Basketball']\n",
    "ascending_order.sort()\n",
    "print(ascending_order)"
   ]
  },
  {
   "cell_type": "code",
   "execution_count": 19,
   "id": "51752b92-5203-4c14-9a93-98bd28c6c049",
   "metadata": {},
   "outputs": [
    {
     "name": "stdout",
     "output_type": "stream",
     "text": [
      "['Volleyball', 'Football', 'Basketball']\n"
     ]
    }
   ],
   "source": [
    "# sort list in descending order\n",
    "ascending_order = [ 'Football', 'Volleyball' ,'Basketball']\n",
    "ascending_order.sort(reverse=True)\n",
    "print(ascending_order)"
   ]
  },
  {
   "cell_type": "code",
   "execution_count": 25,
   "id": "a000fe93-1bba-4075-a4d8-86dc3661a822",
   "metadata": {},
   "outputs": [
    {
     "name": "stdout",
     "output_type": "stream",
     "text": [
      "['Subinika Neupane', 'BCA Student', '7th Sem']\n"
     ]
    }
   ],
   "source": [
    "# Join List\n",
    "#creating new list\n",
    "new_list = ['Subinika Neupane', 'BCA Student', '7th Sem']\n",
    "print(new_list)"
   ]
  },
  {
   "cell_type": "code",
   "execution_count": 24,
   "id": "4295babe-457b-4124-bd21-3e6fe9fd2fae",
   "metadata": {},
   "outputs": [
    {
     "name": "stdout",
     "output_type": "stream",
     "text": [
      "Subinika NeupaneBCA Student7th Sem\n"
     ]
    }
   ],
   "source": [
    "# join list by space to form new string\n",
    "new_list = ['Subinika Neupane', 'BCA Student', '7th Sem']\n",
    "join_list = ''.join(new_list)\n",
    "print(join_list)"
   ]
  },
  {
   "cell_type": "code",
   "execution_count": 27,
   "id": "c18f694f-e189-4ee2-9736-72317a0f7445",
   "metadata": {},
   "outputs": [
    {
     "name": "stdout",
     "output_type": "stream",
     "text": [
      "The List using for loop:\n",
      "apple\n",
      "True\n",
      "42\n",
      "banana\n",
      "False\n",
      "15\n"
     ]
    }
   ],
   "source": [
    "#Loop Lists\n",
    "\n",
    "#create list\n",
    "\n",
    "# loop through list items\n",
    "\n",
    "mixed_list = [\"apple\", True, 42, \"banana\", False, 15]\n",
    "\n",
    "print(\"The List using for loop:\")\n",
    "for element in mixed_list:\n",
    "    print(element)\n"
   ]
  },
  {
   "cell_type": "code",
   "execution_count": 28,
   "id": "6a7350f4-b730-4e87-ac15-c77afd9b7292",
   "metadata": {},
   "outputs": [
    {
     "name": "stdout",
     "output_type": "stream",
     "text": [
      "Index 0: apple\n",
      "Index 1: banana\n",
      "Index 2: orange\n"
     ]
    }
   ],
   "source": [
    "# loop through list items using enumerate()\n",
    "\n",
    "my_list = [\"apple\", \"banana\", \"orange\"]\n",
    "\n",
    "for index, item in enumerate(my_list):\n",
    "    print(f\"Index {index}: {item}\")\n"
   ]
  },
  {
   "cell_type": "code",
   "execution_count": 33,
   "id": "590e3ab7-fdca-406f-a3a4-efccc5139f2e",
   "metadata": {},
   "outputs": [
    {
     "name": "stdout",
     "output_type": "stream",
     "text": [
      "['apple', 'banana', 'mango', 'grapes']\n"
     ]
    }
   ],
   "source": [
    "#Write a python program to lowercase item in given list using list comprehension.\n",
    "#- Input: sample_list = [\"APPLE\", \"Mango\", \"BaNaNa\", \"GRapes\"]\n",
    "new_list = []\n",
    "input_list = [\"Apple\" , \"Banana\" , \"Mango\" , \"GRapes\"]\n",
    "for list in input_list:\n",
    "    lowercase_string = list.lower()\n",
    "    new_list.append(lowercase_string)\n",
    "print(new_list)"
   ]
  },
  {
   "cell_type": "code",
   "execution_count": 34,
   "id": "f8462b5b-bc83-4471-9add-459a94a67800",
   "metadata": {},
   "outputs": [
    {
     "name": "stdout",
     "output_type": "stream",
     "text": [
      "['Mango', 'Apple', 'Banana']\n"
     ]
    }
   ],
   "source": [
    "# Q.2 Given list of fruits i.e. fruit_list = ['apple', 'mango', 'banana', 'grapes', 'coffee'], \n",
    "# Create new list named fruit_list removing item which is not fruit. Example = coffee.\n",
    "_list = [\"Mango\" , \"Apple\" , \"Banana\" , \"Coffee\" , \"Garlic\" , \"Haptic\"]\n",
    "fruit_list = [\"Mango\" , \"Apple\" , \"Banana\"]\n",
    "new_fruit_list = []\n",
    "for fruit in _list:\n",
    "    if fruit in fruit_list:\n",
    "        new_fruit_list.append(fruit)\n",
    "print(new_fruit_list)"
   ]
  },
  {
   "cell_type": "code",
   "execution_count": 35,
   "id": "032f1784-4df2-40b1-a662-93335adc5363",
   "metadata": {},
   "outputs": [
    {
     "name": "stdout",
     "output_type": "stream",
     "text": [
      "Item Name : banana and length is : 6\n"
     ]
    }
   ],
   "source": [
    "# List Exercise\n",
    "\n",
    "# Q.1 Write a python program that initializes non empty list\n",
    "#     of words with length = 5. Display longest word with its length.\n",
    "fruit_list = ['mango', 'banana', 'kiwi', 'apple', 'grapes']\n",
    "highest_length = 0\n",
    "list_item = \"\"\n",
    "for _list in fruit_list:\n",
    "    _length = len(_list)\n",
    "    if highest_length < _length:\n",
    "        highest_length = _length\n",
    "        list_item = _list\n",
    "print(f\"Item Name : {list_item} and length is : {highest_length}\")"
   ]
  },
  {
   "cell_type": "code",
   "execution_count": 36,
   "id": "73494cce-6e49-41fd-b181-55c3f4451f20",
   "metadata": {},
   "outputs": [
    {
     "name": "stdout",
     "output_type": "stream",
     "text": [
      "Sum of numbers in list : 15\n"
     ]
    }
   ],
   "source": [
    "# Q.2 Write a python program to get the sum of number from a list.\n",
    "number_list = [1, 2, 3, 4, 5]\n",
    "sum = 0 \n",
    "for number in number_list:\n",
    "    sum = sum + number\n",
    "print(f\"Sum of numbers in list : {sum}\")"
   ]
  },
  {
   "cell_type": "code",
   "execution_count": 37,
   "id": "7ce485df-198c-4264-92de-78c346be8d81",
   "metadata": {},
   "outputs": [
    {
     "name": "stdout",
     "output_type": "stream",
     "text": [
      " The highest number in list is : 100\n"
     ]
    }
   ],
   "source": [
    "# Q.3 Write a python program to get the largest number from a list.\n",
    "number_list =  [10, 20, 30, 100, 40]\n",
    "highest_number = 0\n",
    "for number in number_list:\n",
    "    if highest_number < number:\n",
    "        highest_number = number\n",
    "print(f\" The highest number in list is : {highest_number}\")\n"
   ]
  },
  {
   "cell_type": "code",
   "execution_count": 38,
   "id": "a8cd501c-d799-4aba-ba3b-ea87d020f1a6",
   "metadata": {},
   "outputs": [
    {
     "name": "stdout",
     "output_type": "stream",
     "text": [
      "Lowest number in list is : -1\n",
      "Lowest number using sort method : -1\n"
     ]
    }
   ],
   "source": [
    "# Q.4 Write a python program to get the smallest number from a list.\n",
    "number_list = [-1, 0, 1, 2]\n",
    "samplenumber = 999999\n",
    "for number in number_list:\n",
    "    if samplenumber > number:\n",
    "        samplenumber = number\n",
    "print(f\"Lowest number in list is : {samplenumber}\")\n",
    "\n",
    "number_list.sort()\n",
    "print(f\"Lowest number using sort method : {number_list[0]}\")"
   ]
  },
  {
   "cell_type": "code",
   "execution_count": 39,
   "id": "7804c2d3-d14c-4252-a5ac-96befeb2a40f",
   "metadata": {},
   "outputs": [
    {
     "name": "stdout",
     "output_type": "stream",
     "text": [
      "The number is : 4\n"
     ]
    }
   ],
   "source": [
    "# Q.5 Write a Python program to count the number of strings where the string\n",
    "#  length is 2 or more and the first and lastcharacter are same from a given\n",
    "#  list of strings.\n",
    "sample_list = ['abc', 'xyz', 'abbbca', '12221']\n",
    "item_count = 0\n",
    "\n",
    "for items in sample_list:\n",
    "    if len(items) > 2:\n",
    "        first_index = items[0]\n",
    "        last_index = items[len(items)-1]\n",
    "        if first_index == last_index:\n",
    "           item_count = len(items) -2\n",
    "           break \n",
    "print(f\"The number is : {item_count}\")"
   ]
  },
  {
   "cell_type": "code",
   "execution_count": 40,
   "id": "3cbfdec1-0f0e-41b7-bbb7-18fd10f5ca50",
   "metadata": {},
   "outputs": [
    {
     "name": "stdout",
     "output_type": "stream",
     "text": [
      "The list is empty\n"
     ]
    }
   ],
   "source": [
    "# Q.6 Write a python program to check a list is empty or not.\n",
    "empty_list = []\n",
    "if not empty_list:\n",
    "    print(\"The list is empty\")\n",
    "else:\n",
    "    print(\"The list is not empty\")"
   ]
  },
  {
   "cell_type": "code",
   "execution_count": 41,
   "id": "3d73bf02-0aaa-4168-bb38-6fad184f6503",
   "metadata": {},
   "outputs": [
    {
     "name": "stdout",
     "output_type": "stream",
     "text": [
      "The new list with added string is : ['emp1', 'emp2', 'emp3', 'emp4']\n"
     ]
    }
   ],
   "source": [
    "# Q.7 Write a python program to insert a given string at the beginning of all items in a list.\n",
    "sample_list = [1, 2, 3, 4]\n",
    "string_to_insert = \"emp\"\n",
    "new_list = []\n",
    "for list in sample_list:\n",
    "    _list =  str(string_to_insert) + str(list)\n",
    "    new_list.append(_list)\n",
    "print(f\"The new list with added string is : {new_list}\")"
   ]
  },
  {
   "cell_type": "code",
   "execution_count": null,
   "id": "a1193b9e-7f63-4e4e-87bd-2087d46bb1b1",
   "metadata": {},
   "outputs": [],
   "source": []
  }
 ],
 "metadata": {
  "kernelspec": {
   "display_name": "Python 3 (ipykernel)",
   "language": "python",
   "name": "python3"
  },
  "language_info": {
   "codemirror_mode": {
    "name": "ipython",
    "version": 3
   },
   "file_extension": ".py",
   "mimetype": "text/x-python",
   "name": "python",
   "nbconvert_exporter": "python",
   "pygments_lexer": "ipython3",
   "version": "3.12.2"
  }
 },
 "nbformat": 4,
 "nbformat_minor": 5
}
