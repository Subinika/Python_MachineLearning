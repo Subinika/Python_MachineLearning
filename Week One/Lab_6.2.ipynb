{
 "cells": [
  {
   "cell_type": "code",
   "execution_count": 2,
   "id": "e48edcb9-731f-49ab-95b3-c50249f1ef72",
   "metadata": {},
   "outputs": [
    {
     "name": "stdout",
     "output_type": "stream",
     "text": [
      "set()\n"
     ]
    }
   ],
   "source": [
    "# create empty set\n",
    "simple_set = set()\n",
    "print(simple_set)\n"
   ]
  },
  {
   "cell_type": "code",
   "execution_count": 4,
   "id": "96c964dd-ccb5-4c81-a82a-ff73e9a5926a",
   "metadata": {},
   "outputs": [
    {
     "name": "stdout",
     "output_type": "stream",
     "text": [
      "<class 'set'>\n"
     ]
    }
   ],
   "source": [
    "# display type \n",
    "simple_set = set()\n",
    "print(type(simple_set))"
   ]
  },
  {
   "cell_type": "code",
   "execution_count": 5,
   "id": "01b2037c-aa99-4b05-a931-bfd723103513",
   "metadata": {},
   "outputs": [
    {
     "name": "stdout",
     "output_type": "stream",
     "text": [
      "{True, 2, 'Set are', 'always in a', 'curly bracket'}\n"
     ]
    },
    {
     "data": {
      "text/plain": [
       "set"
      ]
     },
     "execution_count": 5,
     "metadata": {},
     "output_type": "execute_result"
    }
   ],
   "source": [
    "# create simple set with mixed data types\n",
    "simple_set = {\"Set are\" ,'always in a', \"curly bracket\", True , 2}\n",
    "print(simple_set)\n",
    "\n"
   ]
  },
  {
   "cell_type": "code",
   "execution_count": 6,
   "id": "a3bc938e-a9d1-411d-b6c9-645b2b468810",
   "metadata": {},
   "outputs": [
    {
     "name": "stdout",
     "output_type": "stream",
     "text": [
      "<class 'set'>\n"
     ]
    }
   ],
   "source": [
    "# display type \n",
    "# create simple set with mixed data types\n",
    "simple_set = {\"Set are\" ,'always in a', \"curly bracket\", True , 2}\n",
    "print(type(simple_set))\n",
    "\n"
   ]
  },
  {
   "cell_type": "code",
   "execution_count": 9,
   "id": "ce3704b8-3ffa-4994-86a9-1b5ec9b443c9",
   "metadata": {},
   "outputs": [
    {
     "name": "stdout",
     "output_type": "stream",
     "text": [
      "Length of a set is : 5\n"
     ]
    }
   ],
   "source": [
    "# display length of set\n",
    "simple_set = {\"Set are\" ,'always in a', \"curly bracket\", True , 2}\n",
    "set_length = len(simple_set)\n",
    "print(\"Length of a set is :\" ,set_length)\n",
    "\n"
   ]
  },
  {
   "cell_type": "code",
   "execution_count": 15,
   "id": "8bae09a7-ef02-4742-8709-4b9eeb179a23",
   "metadata": {},
   "outputs": [
    {
     "name": "stdout",
     "output_type": "stream",
     "text": [
      "{1, 2, 3, 4, 5, 6, 'Operation'}\n"
     ]
    }
   ],
   "source": [
    "# Sets Methods/Operations\n",
    "# add()\n",
    "set_method = {1, 2, 3, 4, 5, \"Operation\"}\n",
    "set_method.add(6)\n",
    "print(set_method)"
   ]
  },
  {
   "cell_type": "code",
   "execution_count": 16,
   "id": "74d54b19-1373-4118-be6a-d9873eb2b38e",
   "metadata": {},
   "outputs": [
    {
     "name": "stdout",
     "output_type": "stream",
     "text": [
      "{1, 3, 4, 5, 'Operation'}\n"
     ]
    }
   ],
   "source": [
    "# remove()\n",
    "set_method = {1, 2, 3, 4, 5, \"Operation\"}\n",
    "set_method.remove(2)\n",
    "print(set_method)"
   ]
  },
  {
   "cell_type": "code",
   "execution_count": 19,
   "id": "ff14cd06-7eb1-41b3-8ab6-e026300051bc",
   "metadata": {},
   "outputs": [
    {
     "name": "stdout",
     "output_type": "stream",
     "text": [
      "{2, 3, 4, 5, 'Operation'}\n"
     ]
    }
   ],
   "source": [
    "# pop()\n",
    "set_method = {1, 2, 3, 4, 5, \"Operation\"}\n",
    "removed_item = set_method.pop()\n",
    "print(set_method)"
   ]
  },
  {
   "cell_type": "code",
   "execution_count": 21,
   "id": "7feb99e1-4d6d-47d2-b6cf-0e446c3d13ad",
   "metadata": {},
   "outputs": [
    {
     "name": "stdout",
     "output_type": "stream",
     "text": [
      "Union of set1 and set2 is:{1, 2, 3, 4, 5, 6, 7, 8}\n"
     ]
    }
   ],
   "source": [
    "# union()\n",
    "set1 = {1, 2, 3, 4, 5}\n",
    "set2 = {4, 5, 6, 7, 8}\n",
    "set_union = set1.union(set2)\n",
    "print(f\"Union of set1 and set2 is:{set_union}\")"
   ]
  },
  {
   "cell_type": "code",
   "execution_count": 23,
   "id": "1b7143b9-c366-47ad-8536-67db71304ef3",
   "metadata": {},
   "outputs": [
    {
     "name": "stdout",
     "output_type": "stream",
     "text": [
      "Message Here:{1, 2, 3, 4, 5, 6, 7, 8}\n"
     ]
    }
   ],
   "source": [
    "# union of set using (|) operator\n",
    "set_union_pipe = set1|set2\n",
    "print(f\"Message Here:{set_union_pipe}\")"
   ]
  },
  {
   "cell_type": "code",
   "execution_count": 24,
   "id": "5e397676-9f20-469e-88b1-f29405685227",
   "metadata": {},
   "outputs": [
    {
     "name": "stdout",
     "output_type": "stream",
     "text": [
      "Intersection Items:{'Cat', 'Mouse', 'Orange'}\n"
     ]
    }
   ],
   "source": [
    "# intersection()\n",
    "# intersection of set using intersection() method\n",
    "setA = {\"Apple\", \"Mango\", \"Orange\", \"Mouse\", \"Cat\"}\n",
    "setB = {\"Orange\", \"Mouse\", \"Cat\", \"Dog\", \"Cow\"}\n",
    "set_common = setA.intersection(setB)\n",
    "print(f\"Intersection Items:{set_common}\")\n"
   ]
  },
  {
   "cell_type": "code",
   "execution_count": 25,
   "id": "ed2c87f1-966b-4eb7-80f2-63284416745f",
   "metadata": {},
   "outputs": [
    {
     "name": "stdout",
     "output_type": "stream",
     "text": [
      "Result:{'Cat', 'Mouse', 'Orange'}\n"
     ]
    }
   ],
   "source": [
    "# intersection of set using (&) operator\n",
    "setA = {\"Apple\", \"Mango\", \"Orange\", \"Mouse\", \"Cat\"}\n",
    "setB = {\"Orange\", \"Mouse\", \"Cat\", \"Dog\", \"Cow\"}\n",
    "set_common = setA & setB\n",
    "print(f\"Result:{set_common}\")"
   ]
  },
  {
   "cell_type": "code",
   "execution_count": 26,
   "id": "03d67037-18b8-4b4f-9d27-b2b6ebc0365f",
   "metadata": {},
   "outputs": [
    {
     "name": "stdout",
     "output_type": "stream",
     "text": [
      "Difference:{'Mango', 'Apple'}\n"
     ]
    }
   ],
   "source": [
    "# difference()\n",
    "# difference of set using difference() method\n",
    "# method 1\n",
    "setA = {\"Apple\", \"Mango\", \"Orange\", \"Mouse\", \"Cat\"}\n",
    "setB = {\"Orange\", \"Mouse\", \"Cat\", \"Dog\", \"Cow\"}\n",
    "set_diff = setA.difference(setB)\n",
    "print(f\"Difference:{set_diff}\")"
   ]
  },
  {
   "cell_type": "code",
   "execution_count": 27,
   "id": "338da381-ad72-46a1-b5ea-dd52f2527336",
   "metadata": {},
   "outputs": [
    {
     "name": "stdout",
     "output_type": "stream",
     "text": [
      "Difference:{'Cow', 'Dog'}\n"
     ]
    }
   ],
   "source": [
    "setA = {\"Apple\", \"Mango\", \"Orange\", \"Mouse\", \"Cat\"}\n",
    "setB = {\"Orange\", \"Mouse\", \"Cat\", \"Dog\", \"Cow\"}\n",
    "set_diff = setB.difference(setA)\n",
    "print(f\"Difference:{set_diff}\")"
   ]
  },
  {
   "cell_type": "code",
   "execution_count": 29,
   "id": "d474053a-29a5-4029-9433-39b068270310",
   "metadata": {},
   "outputs": [
    {
     "name": "stdout",
     "output_type": "stream",
     "text": [
      "{'Mango', 'Apple'}\n"
     ]
    }
   ],
   "source": [
    "# method 2\n",
    "setA = {\"Apple\", \"Mango\", \"Orange\", \"Mouse\", \"Cat\"}\n",
    "setB = {\"Orange\", \"Mouse\", \"Cat\", \"Dog\", \"Cow\"}\n",
    "set_diff = setA - setB\n",
    "print(set_diff)"
   ]
  },
  {
   "cell_type": "code",
   "execution_count": 30,
   "id": "af173a21-ec41-4961-be1d-f0fd7704847f",
   "metadata": {},
   "outputs": [
    {
     "name": "stdout",
     "output_type": "stream",
     "text": [
      "{'Cow', 'Dog'}\n"
     ]
    }
   ],
   "source": [
    "setA = {\"Apple\", \"Mango\", \"Orange\", \"Mouse\", \"Cat\"}\n",
    "setB = {\"Orange\", \"Mouse\", \"Cat\", \"Dog\", \"Cow\"}\n",
    "set_diff = setB - setA\n",
    "print(set_diff)"
   ]
  },
  {
   "cell_type": "code",
   "execution_count": 33,
   "id": "e9aeda6a-9240-4a0d-8dd3-2ad5bea2c352",
   "metadata": {},
   "outputs": [
    {
     "name": "stdout",
     "output_type": "stream",
     "text": [
      "{'Mutable Set', 3, 'Example of', True}\n"
     ]
    }
   ],
   "source": [
    "# Sets are Mutable\n",
    "set_mutable = {\"Example of\",'Mutable Set',True}\n",
    "set_mutable.add(3)\n",
    "print(set_mutable)"
   ]
  },
  {
   "cell_type": "code",
   "execution_count": 32,
   "id": "a7dcce7f-e0b8-4c42-84e7-f8586ffbefdd",
   "metadata": {},
   "outputs": [
    {
     "name": "stdout",
     "output_type": "stream",
     "text": [
      "Original Set: {1, 2, 3, 4, 5}\n",
      "Modified Set after adding 6: {1, 2, 3, 4, 5, 6}\n"
     ]
    }
   ],
   "source": [
    "my_set = {1, 2, 3, 4, 5}\n",
    "\n",
    "print(\"Original Set:\", my_set)\n",
    "\n",
    "# Adding a new element to the set\n",
    "my_set.add(6)\n",
    "\n",
    "print(\"Modified Set after adding 6:\", my_set)\n"
   ]
  },
  {
   "cell_type": "code",
   "execution_count": 36,
   "id": "ac6676fb-5921-4872-838d-ac1577c3a13a",
   "metadata": {},
   "outputs": [
    {
     "name": "stdout",
     "output_type": "stream",
     "text": [
      "1\n",
      "---------------\n",
      "2\n",
      "---------------\n",
      "3\n",
      "---------------\n",
      "4\n",
      "---------------\n",
      "5\n",
      "---------------\n",
      "6\n",
      "---------------\n",
      "7\n",
      "---------------\n",
      "8\n",
      "---------------\n"
     ]
    }
   ],
   "source": [
    "# Loop Sets\n",
    "loop_set = {1, 2, 3, 4, 5, 6, 7, 8}\n",
    "for item in loop_set:\n",
    "    print(item)\n",
    "    print('---------------')"
   ]
  },
  {
   "cell_type": "code",
   "execution_count": 38,
   "id": "3863d399-047e-4df4-8651-ab8b920f1793",
   "metadata": {},
   "outputs": [
    {
     "name": "stdout",
     "output_type": "stream",
     "text": [
      "{1, 2, 'item1', 'item4'}\n"
     ]
    }
   ],
   "source": [
    "# Set Comprehension\n",
    "sample_list = ['item1', 1, 2, 'item4']\n",
    "set_list ={item for item in sample_list}\n",
    "print(set_list)"
   ]
  },
  {
   "cell_type": "code",
   "execution_count": 50,
   "id": "1d8add74-9cf9-4a28-aa9d-21d86a87e8b9",
   "metadata": {},
   "outputs": [
    {
     "name": "stdout",
     "output_type": "stream",
     "text": [
      "Set items in ascending order: [1, 2, 3, 5, 8]\n"
     ]
    }
   ],
   "source": [
    "# Write a python program to sort Set items in ascending order.\n",
    "# Example set\n",
    "my_set = {5, 2, 8, 1, 3}\n",
    "\n",
    "# Convert set to sorted list\n",
    "sorted_list = sorted(my_set)\n",
    "\n",
    "# Print elements in ascending order\n",
    "print(\"Set items in ascending order:\", sorted_list)\n"
   ]
  },
  {
   "cell_type": "code",
   "execution_count": null,
   "id": "58a9b0f7-4fad-42b0-b76a-300d3ba37be9",
   "metadata": {},
   "outputs": [],
   "source": []
  }
 ],
 "metadata": {
  "kernelspec": {
   "display_name": "Python 3 (ipykernel)",
   "language": "python",
   "name": "python3"
  },
  "language_info": {
   "codemirror_mode": {
    "name": "ipython",
    "version": 3
   },
   "file_extension": ".py",
   "mimetype": "text/x-python",
   "name": "python",
   "nbconvert_exporter": "python",
   "pygments_lexer": "ipython3",
   "version": "3.12.2"
  }
 },
 "nbformat": 4,
 "nbformat_minor": 5
}
