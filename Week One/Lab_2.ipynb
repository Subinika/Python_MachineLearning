{
 "cells": [
  {
   "cell_type": "code",
   "execution_count": 9,
   "id": "29369854-7c3a-4d14-99a3-c22cf9cb9be7",
   "metadata": {},
   "outputs": [
    {
     "name": "stdout",
     "output_type": "stream",
     "text": [
      "None\n",
      "<class 'NoneType'>\n"
     ]
    }
   ],
   "source": [
    "\n",
    "non_value = None\n",
    "print(non_value)\n",
    "print(type(non_value))"
   ]
  },
  {
   "cell_type": "code",
   "execution_count": 12,
   "id": "95229a3d-381a-4107-b106-85c7d6256406",
   "metadata": {},
   "outputs": [
    {
     "name": "stdout",
     "output_type": "stream",
     "text": [
      "20\n",
      "20\n"
     ]
    }
   ],
   "source": [
    "int_value = 5\n",
    "int_value = 20\n",
    "print(int_value)"
   ]
  },
  {
   "cell_type": "code",
   "execution_count": 3,
   "id": "88c869f4-a174-4eac-bde4-08aeacbc9804",
   "metadata": {},
   "outputs": [
    {
     "name": "stdout",
     "output_type": "stream",
     "text": [
      "ID of int_value: 140730289048152\n",
      "ID of float_value:  1637875533904\n"
     ]
    }
   ],
   "source": [
    "int_value = 6\n",
    "print(\"ID of int_value:\", id(int_value))\n",
    "\n",
    "subinika_value = 3.8\n",
    "print(\"ID of float_value: \", id(subinika_value))\n"
   ]
  },
  {
   "cell_type": "code",
   "execution_count": 2,
   "id": "3b718925-1e98-4c35-a32f-721df6fdb565",
   "metadata": {},
   "outputs": [
    {
     "name": "stdout",
     "output_type": "stream",
     "text": [
      "<class 'float'>\n"
     ]
    }
   ],
   "source": [
    "int_value = 5.0\n",
    "print(type(int_value))"
   ]
  },
  {
   "cell_type": "code",
   "execution_count": 18,
   "id": "ae46fd38-7ebc-4007-b355-266aeea5af65",
   "metadata": {},
   "outputs": [
    {
     "data": {
      "text/plain": [
       "False"
      ]
     },
     "execution_count": 18,
     "metadata": {},
     "output_type": "execute_result"
    }
   ],
   "source": [
    "isinstance(int_value, int)"
   ]
  },
  {
   "cell_type": "code",
   "execution_count": 20,
   "id": "1f1eff14-17e1-40ee-a974-d49755fd76f0",
   "metadata": {},
   "outputs": [
    {
     "name": "stdout",
     "output_type": "stream",
     "text": [
      "20.0\n"
     ]
    }
   ],
   "source": [
    "float_variable = 2e1\n",
    "print(float_variable)"
   ]
  },
  {
   "cell_type": "code",
   "execution_count": 22,
   "id": "695fbe78-e49a-46b9-8871-fd72e328235f",
   "metadata": {},
   "outputs": [
    {
     "data": {
      "text/plain": [
       "float"
      ]
     },
     "execution_count": 22,
     "metadata": {},
     "output_type": "execute_result"
    }
   ],
   "source": [
    "type(float_variable)"
   ]
  },
  {
   "cell_type": "code",
   "execution_count": 25,
   "id": "ec65897c-261f-4469-bda3-fc20aeb2778a",
   "metadata": {},
   "outputs": [
    {
     "data": {
      "text/plain": [
       "False"
      ]
     },
     "execution_count": 25,
     "metadata": {},
     "output_type": "execute_result"
    }
   ],
   "source": [
    "isinstance(float_variable, str)"
   ]
  },
  {
   "cell_type": "code",
   "execution_count": 26,
   "id": "c2c17ebd-9254-4339-bc93-01b5da560d7b",
   "metadata": {},
   "outputs": [
    {
     "data": {
      "text/plain": [
       "False"
      ]
     },
     "execution_count": 26,
     "metadata": {},
     "output_type": "execute_result"
    }
   ],
   "source": [
    "isinstance(float_variable, int)"
   ]
  },
  {
   "cell_type": "code",
   "execution_count": 27,
   "id": "92e1a831-cf76-49bf-b395-23aa00a96b18",
   "metadata": {},
   "outputs": [
    {
     "data": {
      "text/plain": [
       "True"
      ]
     },
     "execution_count": 27,
     "metadata": {},
     "output_type": "execute_result"
    }
   ],
   "source": [
    "isinstance(float_variable, float)"
   ]
  },
  {
   "cell_type": "code",
   "execution_count": 6,
   "id": "beac318a-dba8-459d-b6a9-c05869625ff3",
   "metadata": {},
   "outputs": [
    {
     "name": "stdout",
     "output_type": "stream",
     "text": [
      "ID of float_value:  1637875541552\n"
     ]
    }
   ],
   "source": [
    "subinika_value = 3.8\n",
    "print(\"ID of float_value: \", id(subinika_value))"
   ]
  },
  {
   "cell_type": "code",
   "execution_count": null,
   "id": "2a47fbb8-a961-41c3-86c6-5bb2960c6c34",
   "metadata": {},
   "outputs": [],
   "source": []
  }
 ],
 "metadata": {
  "kernelspec": {
   "display_name": "Python 3 (ipykernel)",
   "language": "python",
   "name": "python3"
  },
  "language_info": {
   "codemirror_mode": {
    "name": "ipython",
    "version": 3
   },
   "file_extension": ".py",
   "mimetype": "text/x-python",
   "name": "python",
   "nbconvert_exporter": "python",
   "pygments_lexer": "ipython3",
   "version": "3.12.2"
  }
 },
 "nbformat": 4,
 "nbformat_minor": 5
}
