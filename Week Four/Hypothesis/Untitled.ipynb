{
 "cells": [
  {
   "cell_type": "code",
   "execution_count": 1,
   "id": "0c2cdf2f-1e9d-4618-a93c-053ff35b85d6",
   "metadata": {},
   "outputs": [
    {
     "name": "stdout",
     "output_type": "stream",
     "text": [
      "   Gender Age(Category)  Weight(Discrete)  Height(Continuous)\n",
      "0    Male             E                70                 7.8\n",
      "1  Female             A                80                 7.9\n",
      "2    Male             A                55                 6.1\n",
      "3    Male             C                60                 5.3\n",
      "4  Female             A                33                 5.2\n"
     ]
    }
   ],
   "source": [
    "import pandas as pd\n",
    "data_dict = {\n",
    "    'Gender': ['Male', 'Female', 'Male' , 'Male' ,'Female'],\n",
    "    'Age(Category)': ['E', 'A', 'A','C','A'],\n",
    "    'Weight(Discrete)': [70,80,55,60,33],\n",
    "    'Height(Continuous)' : [7.8,7.9,6.1,5.3,5.2]\n",
    "}\n",
    "\n",
    "df = pd.DataFrame(data_dict)\n",
    "\n",
    "print(df)"
   ]
  },
  {
   "cell_type": "code",
   "execution_count": null,
   "id": "a625c8e5-a436-4d83-a0e7-fc5a8159465b",
   "metadata": {},
   "outputs": [],
   "source": []
  }
 ],
 "metadata": {
  "kernelspec": {
   "display_name": "Python 3 (ipykernel)",
   "language": "python",
   "name": "python3"
  },
  "language_info": {
   "codemirror_mode": {
    "name": "ipython",
    "version": 3
   },
   "file_extension": ".py",
   "mimetype": "text/x-python",
   "name": "python",
   "nbconvert_exporter": "python",
   "pygments_lexer": "ipython3",
   "version": "3.12.2"
  }
 },
 "nbformat": 4,
 "nbformat_minor": 5
}
