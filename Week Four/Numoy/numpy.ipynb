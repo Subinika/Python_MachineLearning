{
 "cells": [
  {
   "cell_type": "code",
   "execution_count": 1,
   "id": "82fe0c77-865b-4061-aa7b-16b208ae2380",
   "metadata": {},
   "outputs": [],
   "source": [
    "import numpy as np"
   ]
  },
  {
   "cell_type": "code",
   "execution_count": 2,
   "id": "5cfa3be8-5f99-4dc6-bcfd-14541183ca12",
   "metadata": {},
   "outputs": [
    {
     "name": "stdout",
     "output_type": "stream",
     "text": [
      "[1 2 3 4 5 6]\n"
     ]
    }
   ],
   "source": [
    "array_data = [1,2,3,4,5,6]\n",
    "array_one = np.array(array_data)\n",
    "print(array_one)\n"
   ]
  },
  {
   "cell_type": "code",
   "execution_count": 3,
   "id": "1a1601b2-551f-49d7-9279-d2fa642e2b0d",
   "metadata": {},
   "outputs": [
    {
     "name": "stdout",
     "output_type": "stream",
     "text": [
      "<class 'numpy.ndarray'>\n"
     ]
    }
   ],
   "source": [
    "print(type(array_one))"
   ]
  },
  {
   "cell_type": "code",
   "execution_count": 4,
   "id": "4c888684-727e-4e7f-9723-49613d233885",
   "metadata": {},
   "outputs": [
    {
     "data": {
      "text/plain": [
       "array([[1., 2., 3.],\n",
       "       [4., 5., 6.]], dtype=float32)"
      ]
     },
     "execution_count": 4,
     "metadata": {},
     "output_type": "execute_result"
    }
   ],
   "source": [
    "list_two = [\n",
    "    [1,2,3],\n",
    "    [4,5,6]\n",
    "]\n",
    "array_two = np.array(list_two , dtype='float32')\n",
    "array_two\n",
    "# print(type(array_two))"
   ]
  },
  {
   "cell_type": "code",
   "execution_count": 5,
   "id": "0407e792-f032-43da-886a-8f69fea74f0b",
   "metadata": {},
   "outputs": [
    {
     "data": {
      "text/plain": [
       "array([0, 0, 0, 0, 0, 0, 0, 0, 0, 0])"
      ]
     },
     "execution_count": 5,
     "metadata": {},
     "output_type": "execute_result"
    }
   ],
   "source": [
    "np.zeros(10,dtype=int)"
   ]
  },
  {
   "cell_type": "code",
   "execution_count": 6,
   "id": "7c5d9911-d98f-4931-b19c-85ad70658b0e",
   "metadata": {},
   "outputs": [
    {
     "data": {
      "text/plain": [
       "array([[0, 0, 0, 0, 0],\n",
       "       [0, 0, 0, 0, 0],\n",
       "       [0, 0, 0, 0, 0]])"
      ]
     },
     "execution_count": 6,
     "metadata": {},
     "output_type": "execute_result"
    }
   ],
   "source": [
    "np.zeros((3,5) , dtype=int)"
   ]
  },
  {
   "cell_type": "code",
   "execution_count": 7,
   "id": "ab7be37e-98eb-40b6-845c-2c45a89fa9e7",
   "metadata": {},
   "outputs": [
    {
     "data": {
      "text/plain": [
       "array([[1., 1., 1., 1., 1.],\n",
       "       [1., 1., 1., 1., 1.],\n",
       "       [1., 1., 1., 1., 1.]], dtype=float32)"
      ]
     },
     "execution_count": 7,
     "metadata": {},
     "output_type": "execute_result"
    }
   ],
   "source": [
    "np.ones((3,5) , dtype='float32')"
   ]
  },
  {
   "cell_type": "code",
   "execution_count": 8,
   "id": "7e3b15d2-dc89-45f3-8001-4ada6d6f9500",
   "metadata": {},
   "outputs": [
    {
     "data": {
      "text/plain": [
       "array([[3.14, 3.14, 3.14, 3.14, 3.14],\n",
       "       [3.14, 3.14, 3.14, 3.14, 3.14],\n",
       "       [3.14, 3.14, 3.14, 3.14, 3.14]])"
      ]
     },
     "execution_count": 8,
     "metadata": {},
     "output_type": "execute_result"
    }
   ],
   "source": [
    "np.full((3,5) , 3.14)"
   ]
  },
  {
   "cell_type": "code",
   "execution_count": 9,
   "id": "b03d153c-3239-481d-89f3-9f440c88b151",
   "metadata": {},
   "outputs": [
    {
     "data": {
      "text/plain": [
       "array([[4., 4., 4., 4., 4.],\n",
       "       [4., 4., 4., 4., 4.],\n",
       "       [4., 4., 4., 4., 4.]])"
      ]
     },
     "execution_count": 9,
     "metadata": {},
     "output_type": "execute_result"
    }
   ],
   "source": [
    "np.full((3,5) , 4 , dtype='float64')"
   ]
  },
  {
   "cell_type": "code",
   "execution_count": 10,
   "id": "ec1222d7-cd54-4ef4-a6a1-3489028d03d4",
   "metadata": {},
   "outputs": [
    {
     "data": {
      "text/plain": [
       "array([ 0,  2,  4,  6,  8, 10, 12, 14, 16, 18])"
      ]
     },
     "execution_count": 10,
     "metadata": {},
     "output_type": "execute_result"
    }
   ],
   "source": [
    "np.arange(0,20,2)\n",
    "# "
   ]
  },
  {
   "cell_type": "code",
   "execution_count": 11,
   "id": "357af132-15bc-4af6-8cb3-b12e1fbd7f93",
   "metadata": {},
   "outputs": [
    {
     "data": {
      "text/plain": [
       "array([[0.64946498, 0.07360568, 0.03535476],\n",
       "       [0.63880053, 0.85299734, 0.48333434],\n",
       "       [0.81873444, 0.8775317 , 0.21153444]])"
      ]
     },
     "execution_count": 11,
     "metadata": {},
     "output_type": "execute_result"
    }
   ],
   "source": [
    "np.random.random((3,3))"
   ]
  },
  {
   "cell_type": "code",
   "execution_count": 12,
   "id": "80be4f18-7ccc-4d67-a3fd-3354e624021e",
   "metadata": {},
   "outputs": [
    {
     "data": {
      "text/plain": [
       "array([[ 0.18719643, -1.44919828, -0.79515735],\n",
       "       [ 0.6426208 ,  0.38217848, -1.41692129],\n",
       "       [ 1.18549946, -0.51123519, -0.90780579]])"
      ]
     },
     "execution_count": 12,
     "metadata": {},
     "output_type": "execute_result"
    }
   ],
   "source": [
    "np.random.normal(0,1,(3,3))"
   ]
  },
  {
   "cell_type": "code",
   "execution_count": 13,
   "id": "ccaa0bc9-13de-4fbc-889a-47abd52ff9a3",
   "metadata": {},
   "outputs": [
    {
     "data": {
      "text/plain": [
       "array([[-0.03478585,  0.14593392, -0.0966594 ],\n",
       "       [-0.00406152,  1.36430312, -0.34318333],\n",
       "       [-0.23431514,  0.06810543,  0.21443169]])"
      ]
     },
     "execution_count": 13,
     "metadata": {},
     "output_type": "execute_result"
    }
   ],
   "source": [
    "np.random.normal(0,1,(3,3))\n",
    "# Mean 0 and standard deviation in range of one"
   ]
  },
  {
   "cell_type": "code",
   "execution_count": 14,
   "id": "46df44fb-6a1f-4a3a-9b09-67495bf27b55",
   "metadata": {},
   "outputs": [
    {
     "data": {
      "text/plain": [
       "array([[1, 4, 9],\n",
       "       [2, 5, 2],\n",
       "       [6, 8, 4]])"
      ]
     },
     "execution_count": 14,
     "metadata": {},
     "output_type": "execute_result"
    }
   ],
   "source": [
    "np.random.randint(1,10,(3,3))"
   ]
  },
  {
   "cell_type": "code",
   "execution_count": 15,
   "id": "ab3b97dc-f56a-4819-b92c-bbd25e8f8441",
   "metadata": {},
   "outputs": [
    {
     "data": {
      "text/plain": [
       "(2, 3)"
      ]
     },
     "execution_count": 15,
     "metadata": {},
     "output_type": "execute_result"
    }
   ],
   "source": [
    "array_two.shape"
   ]
  },
  {
   "cell_type": "code",
   "execution_count": 16,
   "id": "3b03c50d-386e-45ec-a279-6b664d46eff4",
   "metadata": {},
   "outputs": [
    {
     "data": {
      "text/plain": [
       "6"
      ]
     },
     "execution_count": 16,
     "metadata": {},
     "output_type": "execute_result"
    }
   ],
   "source": [
    "array_two.size"
   ]
  },
  {
   "cell_type": "code",
   "execution_count": 17,
   "id": "8594044c-6863-411f-8257-79e39cfb0e45",
   "metadata": {},
   "outputs": [
    {
     "data": {
      "text/plain": [
       "dtype('float32')"
      ]
     },
     "execution_count": 17,
     "metadata": {},
     "output_type": "execute_result"
    }
   ],
   "source": [
    "array_two.dtype"
   ]
  },
  {
   "cell_type": "code",
   "execution_count": 18,
   "id": "ca41612f-9427-400f-a335-35b9f40de6fc",
   "metadata": {},
   "outputs": [
    {
     "data": {
      "text/plain": [
       "4"
      ]
     },
     "execution_count": 18,
     "metadata": {},
     "output_type": "execute_result"
    }
   ],
   "source": [
    "array_two.itemsize"
   ]
  },
  {
   "cell_type": "code",
   "execution_count": 19,
   "id": "93eb4c7c-d853-4116-93f8-9915ca64b73e",
   "metadata": {},
   "outputs": [
    {
     "data": {
      "text/plain": [
       "2"
      ]
     },
     "execution_count": 19,
     "metadata": {},
     "output_type": "execute_result"
    }
   ],
   "source": [
    "array_two.ndim"
   ]
  },
  {
   "cell_type": "code",
   "execution_count": 20,
   "id": "a24d7c7c-b68e-49c9-ab12-0d9210cce895",
   "metadata": {},
   "outputs": [],
   "source": [
    "sample_array = [[1,2,3,4],[5,6,7,8],[9,1,2,3]]\n",
    "np_array = np.array(sample_array)"
   ]
  },
  {
   "cell_type": "code",
   "execution_count": 21,
   "id": "8d33c4b7-b9d9-47b0-aa83-1b2fac7dc02a",
   "metadata": {},
   "outputs": [
    {
     "name": "stdout",
     "output_type": "stream",
     "text": [
      "Dimension of the array is : 2\n",
      "Size of the array is : (3, 4)\n",
      "RC of the array is : 12\n",
      "Datatype of the array is : int32\n"
     ]
    }
   ],
   "source": [
    "print(f\"Dimension of the array is : {np_array.ndim}\")\n",
    "print(f\"Size of the array is : {np_array.shape}\")\n",
    "print(f\"RC of the array is : {np_array.size}\")\n",
    "print(f\"Datatype of the array is : {np_array.dtype}\")"
   ]
  },
  {
   "cell_type": "code",
   "execution_count": 22,
   "id": "b28127eb-2a72-436a-be20-d33278ec4ab0",
   "metadata": {},
   "outputs": [
    {
     "name": "stdout",
     "output_type": "stream",
     "text": [
      "Dimension of the array is : 3\n",
      "Size of the array is : (2, 2, 3)\n"
     ]
    }
   ],
   "source": [
    "array_3d = np.array([[[1, 2, 3], [4, 5, 6]], [[7, 8, 9], [10, 11, 12]]])\n",
    "array_3d\n",
    "print(f\"Dimension of the array is : {array_3d.ndim}\")\n",
    "print(f\"Size of the array is : {array_3d.shape}\")\n"
   ]
  },
  {
   "cell_type": "code",
   "execution_count": 23,
   "id": "8c0c2d07-9239-48be-bd3d-a7dbe85756dc",
   "metadata": {},
   "outputs": [
    {
     "name": "stdout",
     "output_type": "stream",
     "text": [
      "4\n"
     ]
    }
   ],
   "source": [
    "array_3d = np.array([[[[1, 2, 3], [4, 5, 6]], [[7, 8, 9], [10, 11, 12]]]])\n",
    "array_3d\n",
    "print(array_3d.ndim)"
   ]
  },
  {
   "cell_type": "code",
   "execution_count": 24,
   "id": "24b869c6-4fa5-4b1e-9d37-a25db9026f2d",
   "metadata": {},
   "outputs": [
    {
     "data": {
      "text/plain": [
       "1"
      ]
     },
     "execution_count": 24,
     "metadata": {},
     "output_type": "execute_result"
    }
   ],
   "source": [
    "# Creating Array\n",
    "class Array:\n",
    "    def __init__(self, data_type, initial_capacity=10):\n",
    "        self.data_type = data_type\n",
    "        self.capacity = initial_capacity\n",
    "        self.size = 0\n",
    "        self.elements = [None] * self.capacity\n",
    "\n",
    "    def append(self, element):\n",
    "        if not isinstance(element, self.data_type):\n",
    "            raise TypeError(f\"Invalid data type. Expected {self.data_type}, got {type(element)}\")\n",
    "        if self.size == self.capacity:\n",
    "            self._resize()\n",
    "        self.elements[self.size] = element\n",
    "        self.size += 1\n",
    "\n",
    "    def __getitem__(self, index):\n",
    "        if index < 0 or index >= self.size:\n",
    "            raise IndexError(\"Index out of range\")\n",
    "        return self.elements[index]\n",
    "\n",
    "    def __len__(self):\n",
    "        return self.size\n",
    "\n",
    "    def _resize(self):\n",
    "        self.capacity *= 2\n",
    "        new_elements = [None] * self.capacity\n",
    "        for i in range(self.size):\n",
    "            new_elements[i] = self.elements[i]\n",
    "        self.elements = new_elements\n",
    "\n",
    "\n",
    "arr = Array(str)\n",
    "# arr.append(1)\n",
    "# arr.append(2)\n",
    "# arr.append(3)\n",
    "\n",
    "\n",
    "arr.append(\"four\")\n",
    "# arr\n",
    "arr.__getitem__(0)\n",
    "arr.__len__()\n",
    "# arr.elements\n",
    "# for data in arr:\n",
    "#     print(data)"
   ]
  },
  {
   "cell_type": "code",
   "execution_count": 25,
   "id": "9d8ffc34-02ea-4252-8b16-87485a10ab57",
   "metadata": {},
   "outputs": [
    {
     "data": {
      "text/plain": [
       "array([[4.24399158e-314, 8.48798317e-314, 1.27319747e-313],\n",
       "       [1.69759663e-313, 2.12199579e-313, 2.54639495e-313]])"
      ]
     },
     "execution_count": 25,
     "metadata": {},
     "output_type": "execute_result"
    }
   ],
   "source": [
    "# Create a array of random values\n",
    "np.empty((2,3))"
   ]
  },
  {
   "cell_type": "code",
   "execution_count": 26,
   "id": "68701caf-183d-4250-a04f-8a4d5a8473b8",
   "metadata": {},
   "outputs": [
    {
     "data": {
      "text/plain": [
       "array([10, 15, 20, 25, 30, 35, 40, 45])"
      ]
     },
     "execution_count": 26,
     "metadata": {},
     "output_type": "execute_result"
    }
   ],
   "source": [
    "# Create a range with given interval\n",
    "np.arange(10,50,5)"
   ]
  },
  {
   "cell_type": "code",
   "execution_count": 27,
   "id": "130a3909-8f0c-440f-b770-bc8af04e5116",
   "metadata": {},
   "outputs": [],
   "source": [
    "import array"
   ]
  }
 ],
 "metadata": {
  "kernelspec": {
   "display_name": "Python 3 (ipykernel)",
   "language": "python",
   "name": "python3"
  },
  "language_info": {
   "codemirror_mode": {
    "name": "ipython",
    "version": 3
   },
   "file_extension": ".py",
   "mimetype": "text/x-python",
   "name": "python",
   "nbconvert_exporter": "python",
   "pygments_lexer": "ipython3",
   "version": "3.12.2"
  }
 },
 "nbformat": 4,
 "nbformat_minor": 5
}
