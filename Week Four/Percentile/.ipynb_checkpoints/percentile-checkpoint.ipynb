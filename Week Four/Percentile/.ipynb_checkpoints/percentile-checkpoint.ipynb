{
 "cells": [
  {
   "cell_type": "code",
   "execution_count": 1,
   "id": "c2b4aaaa-e45e-4a91-93cb-59a76916d901",
   "metadata": {},
   "outputs": [],
   "source": [
    "import numpy as np\n",
    "import matplotlib.pyplot as plt\n",
    "import seaborn as sns\n",
    "import ssl"
   ]
  },
  {
   "cell_type": "code",
   "execution_count": 2,
   "id": "e372ba5c-f7d8-415c-99ca-27ffc24159d4",
   "metadata": {},
   "outputs": [
    {
     "name": "stdout",
     "output_type": "stream",
     "text": [
      "     total_bill   tip     sex smoker   day    time  size\n",
      "0         16.99  1.01  Female     No   Sun  Dinner     2\n",
      "1         10.34  1.66    Male     No   Sun  Dinner     3\n",
      "2         21.01  3.50    Male     No   Sun  Dinner     3\n",
      "3         23.68  3.31    Male     No   Sun  Dinner     2\n",
      "4         24.59  3.61  Female     No   Sun  Dinner     4\n",
      "..          ...   ...     ...    ...   ...     ...   ...\n",
      "239       29.03  5.92    Male     No   Sat  Dinner     3\n",
      "240       27.18  2.00  Female    Yes   Sat  Dinner     2\n",
      "241       22.67  2.00    Male    Yes   Sat  Dinner     2\n",
      "242       17.82  1.75    Male     No   Sat  Dinner     2\n",
      "243       18.78  3.00  Female     No  Thur  Dinner     2\n",
      "\n",
      "[244 rows x 7 columns]\n"
     ]
    }
   ],
   "source": [
    "ssl._create_default_https_context = ssl._create_unverified_context\n",
    "tips = sns.load_dataset(\"tips\", cache=False, data_home='http://raw.githubusercontent.com/mwaskom/seaborn-data/master')\n",
    "# Display the first few rows of the dataset\n",
    "print(tips)"
   ]
  },
  {
   "cell_type": "code",
   "execution_count": 3,
   "id": "2c6a9b8a-455b-4277-abbb-c4d3be5b23e1",
   "metadata": {},
   "outputs": [
    {
     "name": "stdout",
     "output_type": "stream",
     "text": [
      "[2, 2, 3, 4, 5, 5, 5, 6, 7, 8, 8, 8, 8, 8, 9, 9, 10, 11, 11, 12]\n"
     ]
    }
   ],
   "source": [
    "data = [2,2,3,4,5,5,5,6,7,8,8,8,8,8,9,9,10,11,11,12]\n",
    "print(data)"
   ]
  },
  {
   "cell_type": "code",
   "execution_count": 4,
   "id": "86f8ba2f-144c-45d3-8738-979d4d288845",
   "metadata": {},
   "outputs": [
    {
     "name": "stdout",
     "output_type": "stream",
     "text": [
      "[2, 2, 3, 4, 5, 5, 5, 6, 7, 8, 8, 8, 8, 8, 9, 9, 10, 11, 11, 12]\n"
     ]
    }
   ],
   "source": [
    "data = sorted(data)\n",
    "print(data)"
   ]
  },
  {
   "cell_type": "code",
   "execution_count": 5,
   "id": "ab592cab-49c0-420e-b81f-80ce561d29aa",
   "metadata": {},
   "outputs": [],
   "source": [
    "def compute_percentile(sorted_data , value):\n",
    "    data_len_below_value = len(sorted_data[:sorted_data.index(value)])\n",
    "    print(data_len_below_value)\n",
    "    n = len(sorted_data)\n",
    "\n",
    "    percentile_rank = data_len_below_value /n\n",
    "    return percentile_rank"
   ]
  },
  {
   "cell_type": "code",
   "execution_count": 6,
   "id": "08aaa431-ad27-440e-9dcc-ea1b635b2f41",
   "metadata": {},
   "outputs": [
    {
     "name": "stdout",
     "output_type": "stream",
     "text": [
      "16\n",
      "Percentile rank of 10 is : 0.8\n"
     ]
    }
   ],
   "source": [
    "percentile_rank_of_10 = compute_percentile(data , 10)\n",
    "print(f\"Percentile rank of 10 is : {percentile_rank_of_10}\")"
   ]
  },
  {
   "cell_type": "code",
   "execution_count": 7,
   "id": "003e931b-219b-4f45-b0ae-6f6824de4705",
   "metadata": {},
   "outputs": [
    {
     "name": "stdout",
     "output_type": "stream",
     "text": [
      "17\n",
      "Percentile rank of 11 is : 0.85\n"
     ]
    }
   ],
   "source": [
    "percentile_rank_of_11 = compute_percentile(data , 11)\n",
    "print(f\"Percentile rank of 11 is : {percentile_rank_of_11}\")"
   ]
  },
  {
   "cell_type": "code",
   "execution_count": 8,
   "id": "18bdb3b8-0eea-4e81-bd5e-de6aacd1c7c0",
   "metadata": {},
   "outputs": [
    {
     "name": "stdout",
     "output_type": "stream",
     "text": [
      "5.25\n"
     ]
    }
   ],
   "source": [
    "# 25% \n",
    "\n",
    "percentile =25\n",
    "n = len(data)\n",
    "value = (percentile / 100)* (n +1)\n",
    "print(value)\n"
   ]
  },
  {
   "cell_type": "code",
   "execution_count": 9,
   "id": "7f4ff397-821c-4793-9a1e-30eef9af2583",
   "metadata": {},
   "outputs": [
    {
     "name": "stdout",
     "output_type": "stream",
     "text": [
      "5.0\n"
     ]
    }
   ],
   "source": [
    "# Using numpy\n",
    "value = np.percentile(data , 25)\n",
    "print(value)"
   ]
  },
  {
   "cell_type": "code",
   "execution_count": 10,
   "id": "ebb4b72e-4fe3-4596-8e10-27d76ae62b16",
   "metadata": {},
   "outputs": [
    {
     "data": {
      "image/png": "[encoded data removed]",
      "text/plain": [
       "<Figure size 800x800 with 1 Axes>"
      ]
     },
     "metadata": {},
     "output_type": "display_data"
    }
   ],
   "source": [
    "plt.figure(figsize=(8,8))\n",
    "sns.boxplot(data= data , color='skyblue')\n",
    "plt.xlabel('Data')\n",
    "plt.ylabel('Value')\n",
    "plt.title('Box plot of Data points')\n",
    "plt.show()"
   ]
  },
  {
   "cell_type": "code",
   "execution_count": null,
   "id": "c59a4dc7-bc7e-4ec2-bdba-06ffdf0fc19f",
   "metadata": {},
   "outputs": [],
   "source": []
  }
 ],
 "metadata": {
  "kernelspec": {
   "display_name": "Python 3 (ipykernel)",
   "language": "python",
   "name": "python3"
  },
  "language_info": {
   "codemirror_mode": {
    "name": "ipython",
    "version": 3
   },
   "file_extension": ".py",
   "mimetype": "text/x-python",
   "name": "python",
   "nbconvert_exporter": "python",
   "pygments_lexer": "ipython3",
   "version": "3.12.2"
  }
 },
 "nbformat": 4,
 "nbformat_minor": 5
}
