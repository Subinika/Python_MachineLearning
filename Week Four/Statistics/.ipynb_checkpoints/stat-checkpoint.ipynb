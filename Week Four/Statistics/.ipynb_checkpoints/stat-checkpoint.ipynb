{
 "cells": [
  {
   "cell_type": "code",
   "execution_count": 1,
   "id": "5571a366-5692-4f8e-b9ba-5df0f5c73590",
   "metadata": {},
   "outputs": [],
   "source": [
    "import numpy as np\n",
    "import matplotlib.pyplot as plt\n",
    "import seaborn as sns"
   ]
  },
  {
   "cell_type": "code",
   "execution_count": 2,
   "id": "248dedb3-26e8-45da-a846-13f071375f81",
   "metadata": {},
   "outputs": [],
   "source": [
    "import statistics"
   ]
  },
  {
   "cell_type": "code",
   "execution_count": 3,
   "id": "4029be68-c92b-442a-9bb5-193631a463c6",
   "metadata": {},
   "outputs": [
    {
     "name": "stdout",
     "output_type": "stream",
     "text": [
      "   total_bill   tip     sex smoker  day    time  size\n",
      "0       16.99  1.01  Female     No  Sun  Dinner     2\n",
      "1       10.34  1.66    Male     No  Sun  Dinner     3\n",
      "2       21.01  3.50    Male     No  Sun  Dinner     3\n",
      "3       23.68  3.31    Male     No  Sun  Dinner     2\n",
      "4       24.59  3.61  Female     No  Sun  Dinner     4\n"
     ]
    }
   ],
   "source": [
    "# Load the \"tips\" dataset using HTTP URL\n",
    "tips = sns.load_dataset(\"tips\", cache=False, data_home='http://raw.githubusercontent.com/mwaskom/seaborn-data/master')\n",
    "\n",
    "# Display the first few rows of the dataset\n",
    "print(tips.head())"
   ]
  },
  {
   "cell_type": "code",
   "execution_count": 4,
   "id": "cd5a3100-a13b-45e6-91d3-0674838ab544",
   "metadata": {},
   "outputs": [
    {
     "name": "stdout",
     "output_type": "stream",
     "text": [
      "   total_bill   tip     sex smoker  day    time  size\n",
      "0       16.99  1.01  Female     No  Sun  Dinner     2\n",
      "1       10.34  1.66    Male     No  Sun  Dinner     3\n",
      "2       21.01  3.50    Male     No  Sun  Dinner     3\n",
      "3       23.68  3.31    Male     No  Sun  Dinner     2\n",
      "4       24.59  3.61  Female     No  Sun  Dinner     4\n"
     ]
    }
   ],
   "source": [
    "import ssl\n",
    "import seaborn as sns\n",
    "import pandas as pd\n",
    "\n",
    "\n",
    "# Disable SSL certificate verification\n",
    "ssl._create_default_https_context = ssl._create_unverified_context\n",
    "\n",
    "# Load the \"tips\" dataset\n",
    "tips = sns.load_dataset(\"tips\", cache=False)\n",
    "\n",
    "# Display the first few rows of the dataset\n",
    "print(tips.head())"
   ]
  },
  {
   "cell_type": "code",
   "execution_count": 5,
   "id": "a4eb0e26-5ab8-4e60-80e8-c070b11c8034",
   "metadata": {},
   "outputs": [
    {
     "data": {
      "text/html": [
       "<div>\n",
       "<style scoped>\n",
       "    .dataframe tbody tr th:only-of-type {\n",
       "        vertical-align: middle;\n",
       "    }\n",
       "\n",
       "    .dataframe tbody tr th {\n",
       "        vertical-align: top;\n",
       "    }\n",
       "\n",
       "    .dataframe thead th {\n",
       "        text-align: right;\n",
       "    }\n",
       "</style>\n",
       "<table border=\"1\" class=\"dataframe\">\n",
       "  <thead>\n",
       "    <tr style=\"text-align: right;\">\n",
       "      <th></th>\n",
       "      <th>total_bill</th>\n",
       "      <th>tip</th>\n",
       "      <th>sex</th>\n",
       "      <th>smoker</th>\n",
       "      <th>day</th>\n",
       "      <th>time</th>\n",
       "      <th>size</th>\n",
       "    </tr>\n",
       "  </thead>\n",
       "  <tbody>\n",
       "    <tr>\n",
       "      <th>0</th>\n",
       "      <td>16.99</td>\n",
       "      <td>1.01</td>\n",
       "      <td>Female</td>\n",
       "      <td>No</td>\n",
       "      <td>Sun</td>\n",
       "      <td>Dinner</td>\n",
       "      <td>2</td>\n",
       "    </tr>\n",
       "    <tr>\n",
       "      <th>1</th>\n",
       "      <td>10.34</td>\n",
       "      <td>1.66</td>\n",
       "      <td>Male</td>\n",
       "      <td>No</td>\n",
       "      <td>Sun</td>\n",
       "      <td>Dinner</td>\n",
       "      <td>3</td>\n",
       "    </tr>\n",
       "    <tr>\n",
       "      <th>2</th>\n",
       "      <td>21.01</td>\n",
       "      <td>3.50</td>\n",
       "      <td>Male</td>\n",
       "      <td>No</td>\n",
       "      <td>Sun</td>\n",
       "      <td>Dinner</td>\n",
       "      <td>3</td>\n",
       "    </tr>\n",
       "    <tr>\n",
       "      <th>3</th>\n",
       "      <td>23.68</td>\n",
       "      <td>3.31</td>\n",
       "      <td>Male</td>\n",
       "      <td>No</td>\n",
       "      <td>Sun</td>\n",
       "      <td>Dinner</td>\n",
       "      <td>2</td>\n",
       "    </tr>\n",
       "    <tr>\n",
       "      <th>4</th>\n",
       "      <td>24.59</td>\n",
       "      <td>3.61</td>\n",
       "      <td>Female</td>\n",
       "      <td>No</td>\n",
       "      <td>Sun</td>\n",
       "      <td>Dinner</td>\n",
       "      <td>4</td>\n",
       "    </tr>\n",
       "  </tbody>\n",
       "</table>\n",
       "</div>"
      ],
      "text/plain": [
       "   total_bill   tip     sex smoker  day    time  size\n",
       "0       16.99  1.01  Female     No  Sun  Dinner     2\n",
       "1       10.34  1.66    Male     No  Sun  Dinner     3\n",
       "2       21.01  3.50    Male     No  Sun  Dinner     3\n",
       "3       23.68  3.31    Male     No  Sun  Dinner     2\n",
       "4       24.59  3.61  Female     No  Sun  Dinner     4"
      ]
     },
     "execution_count": 5,
     "metadata": {},
     "output_type": "execute_result"
    }
   ],
   "source": [
    "df = sns.load_dataset(\"tips\")\n",
    "df.head()"
   ]
  },
  {
   "cell_type": "code",
   "execution_count": 6,
   "id": "29bca4e5-0b89-4a9c-a8e2-2d797bd8b38b",
   "metadata": {},
   "outputs": [
    {
     "name": "stdout",
     "output_type": "stream",
     "text": [
      "<class 'pandas.core.frame.DataFrame'>\n"
     ]
    },
    {
     "data": {
      "text/plain": [
       "(244, 7)"
      ]
     },
     "execution_count": 6,
     "metadata": {},
     "output_type": "execute_result"
    }
   ],
   "source": [
    "print(type(df))\n",
    "df.shape"
   ]
  },
  {
   "cell_type": "code",
   "execution_count": 7,
   "id": "fccfecee-d60f-44e4-9f5e-de723dac3724",
   "metadata": {},
   "outputs": [
    {
     "data": {
      "text/plain": [
       "19.78594262295082"
      ]
     },
     "execution_count": 7,
     "metadata": {},
     "output_type": "execute_result"
    }
   ],
   "source": [
    "np.mean(df['total_bill'])"
   ]
  },
  {
   "cell_type": "code",
   "execution_count": 8,
   "id": "bbecdf69-fa60-4ff3-a68c-1ae782eb1052",
   "metadata": {},
   "outputs": [
    {
     "data": {
      "text/plain": [
       "17.795"
      ]
     },
     "execution_count": 8,
     "metadata": {},
     "output_type": "execute_result"
    }
   ],
   "source": [
    "np.median(df['total_bill'])"
   ]
  },
  {
   "cell_type": "code",
   "execution_count": 9,
   "id": "d1155cd1-81de-491a-a9a7-1aa1ab1856c2",
   "metadata": {},
   "outputs": [
    {
     "name": "stdout",
     "output_type": "stream",
     "text": [
      "0    13.42\n",
      "Name: total_bill, dtype: float64\n"
     ]
    }
   ],
   "source": [
    "mod = df['total_bill'].mode()\n",
    "print(mod)\n"
   ]
  },
  {
   "cell_type": "code",
   "execution_count": 10,
   "id": "f8d43115-4247-4fa6-a3c1-58bc8062d2c8",
   "metadata": {},
   "outputs": [
    {
     "data": {
      "text/plain": [
       "total_bill\n",
       "13.42    3\n",
       "13.81    2\n",
       "15.98    2\n",
       "17.92    2\n",
       "10.07    2\n",
       "        ..\n",
       "24.71    1\n",
       "21.16    1\n",
       "28.97    1\n",
       "22.49    1\n",
       "18.78    1\n",
       "Name: count, Length: 229, dtype: int64"
      ]
     },
     "execution_count": 10,
     "metadata": {},
     "output_type": "execute_result"
    }
   ],
   "source": [
    "df['total_bill'].value_counts()"
   ]
  },
  {
   "cell_type": "code",
   "execution_count": 11,
   "id": "8608ae32-4fcc-4d3d-b15e-7dc0e051b38b",
   "metadata": {},
   "outputs": [
    {
     "data": {
      "text/plain": [
       "[50.81,\n",
       " 48.33,\n",
       " 48.27,\n",
       " 48.17,\n",
       " 45.35,\n",
       " 44.3,\n",
       " 43.11,\n",
       " 41.19,\n",
       " 40.55,\n",
       " 40.17,\n",
       " 39.42,\n",
       " 38.73,\n",
       " 38.07,\n",
       " 38.01,\n",
       " 35.83,\n",
       " 35.26,\n",
       " 34.83,\n",
       " 34.81,\n",
       " 34.65,\n",
       " 34.63,\n",
       " 34.3,\n",
       " 32.9,\n",
       " 32.83,\n",
       " 32.68,\n",
       " 32.4,\n",
       " 31.85,\n",
       " 31.71,\n",
       " 31.27,\n",
       " 30.46,\n",
       " 30.4,\n",
       " 30.14,\n",
       " 30.06,\n",
       " 29.93,\n",
       " 29.85,\n",
       " 29.8,\n",
       " 29.03,\n",
       " 28.97,\n",
       " 28.55,\n",
       " 28.44,\n",
       " 28.17,\n",
       " 28.15,\n",
       " 27.28,\n",
       " 27.2,\n",
       " 27.18,\n",
       " 27.05,\n",
       " 26.88,\n",
       " 26.86,\n",
       " 26.59,\n",
       " 26.41,\n",
       " 25.89,\n",
       " 25.71,\n",
       " 25.56,\n",
       " 25.29,\n",
       " 25.28,\n",
       " 25.21,\n",
       " 25.0,\n",
       " 24.71,\n",
       " 24.59,\n",
       " 24.55,\n",
       " 24.52,\n",
       " 24.27,\n",
       " 24.08,\n",
       " 24.06,\n",
       " 24.01,\n",
       " 23.95,\n",
       " 23.68,\n",
       " 23.33,\n",
       " 23.17,\n",
       " 23.1,\n",
       " 22.82,\n",
       " 22.76,\n",
       " 22.75,\n",
       " 22.67,\n",
       " 22.49,\n",
       " 22.42,\n",
       " 22.23,\n",
       " 22.12,\n",
       " 21.7,\n",
       " 21.58,\n",
       " 21.5,\n",
       " 21.16,\n",
       " 21.01,\n",
       " 20.92,\n",
       " 20.9,\n",
       " 20.76,\n",
       " 20.69,\n",
       " 20.65,\n",
       " 20.53,\n",
       " 20.49,\n",
       " 20.45,\n",
       " 20.29,\n",
       " 20.27,\n",
       " 20.23,\n",
       " 20.08,\n",
       " 19.82,\n",
       " 19.81,\n",
       " 19.77,\n",
       " 19.65,\n",
       " 19.49,\n",
       " 19.44,\n",
       " 19.08,\n",
       " 18.78,\n",
       " 18.71,\n",
       " 18.69,\n",
       " 18.64,\n",
       " 18.43,\n",
       " 18.35,\n",
       " 18.29,\n",
       " 18.28,\n",
       " 18.26,\n",
       " 18.24,\n",
       " 18.15,\n",
       " 18.04,\n",
       " 17.92,\n",
       " 17.89,\n",
       " 17.82,\n",
       " 17.81,\n",
       " 17.78,\n",
       " 17.59,\n",
       " 17.51,\n",
       " 17.47,\n",
       " 17.46,\n",
       " 17.31,\n",
       " 17.29,\n",
       " 17.26,\n",
       " 17.07,\n",
       " 16.99,\n",
       " 16.97,\n",
       " 16.93,\n",
       " 16.82,\n",
       " 16.66,\n",
       " 16.58,\n",
       " 16.49,\n",
       " 16.47,\n",
       " 16.45,\n",
       " 16.43,\n",
       " 16.4,\n",
       " 16.32,\n",
       " 16.31,\n",
       " 16.29,\n",
       " 16.27,\n",
       " 16.21,\n",
       " 16.04,\n",
       " 16.0,\n",
       " 15.98,\n",
       " 15.95,\n",
       " 15.81,\n",
       " 15.77,\n",
       " 15.69,\n",
       " 15.53,\n",
       " 15.48,\n",
       " 15.42,\n",
       " 15.38,\n",
       " 15.36,\n",
       " 15.06,\n",
       " 15.04,\n",
       " 15.01,\n",
       " 14.83,\n",
       " 14.78,\n",
       " 14.73,\n",
       " 14.52,\n",
       " 14.48,\n",
       " 14.31,\n",
       " 14.26,\n",
       " 14.15,\n",
       " 14.07,\n",
       " 14.0,\n",
       " 13.94,\n",
       " 13.81,\n",
       " 13.51,\n",
       " 13.42,\n",
       " 13.39,\n",
       " 13.37,\n",
       " 13.28,\n",
       " 13.27,\n",
       " 13.16,\n",
       " 13.13,\n",
       " 13.03,\n",
       " 13.0,\n",
       " 12.9,\n",
       " 12.76,\n",
       " 12.74,\n",
       " 12.69,\n",
       " 12.66,\n",
       " 12.6,\n",
       " 12.54,\n",
       " 12.48,\n",
       " 12.46,\n",
       " 12.43,\n",
       " 12.26,\n",
       " 12.16,\n",
       " 12.03,\n",
       " 12.02,\n",
       " 11.87,\n",
       " 11.69,\n",
       " 11.61,\n",
       " 11.59,\n",
       " 11.38,\n",
       " 11.35,\n",
       " 11.24,\n",
       " 11.17,\n",
       " 11.02,\n",
       " 10.77,\n",
       " 10.65,\n",
       " 10.63,\n",
       " 10.59,\n",
       " 10.51,\n",
       " 10.34,\n",
       " 10.33,\n",
       " 10.29,\n",
       " 10.27,\n",
       " 10.09,\n",
       " 10.07,\n",
       " 9.94,\n",
       " 9.78,\n",
       " 9.68,\n",
       " 9.6,\n",
       " 9.55,\n",
       " 8.77,\n",
       " 8.58,\n",
       " 8.52,\n",
       " 8.51,\n",
       " 8.35,\n",
       " 7.74,\n",
       " 7.56,\n",
       " 7.51,\n",
       " 7.25,\n",
       " 5.75,\n",
       " 3.07]"
      ]
     },
     "execution_count": 11,
     "metadata": {},
     "output_type": "execute_result"
    }
   ],
   "source": [
    "new_value = df['total_bill'].unique()\n",
    "sorted(new_value , reverse=True)"
   ]
  },
  {
   "cell_type": "code",
   "execution_count": 12,
   "id": "bc89c47a-d308-4560-b070-24db07074a5b",
   "metadata": {},
   "outputs": [
    {
     "data": {
      "text/plain": [
       "<Axes: ylabel='total_bill'>"
      ]
     },
     "execution_count": 12,
     "metadata": {},
     "output_type": "execute_result"
    },
    {
     "data": {
      "image/png": "[encoded data removed]",
      "text/plain": [
       "<Figure size 640x480 with 1 Axes>"
      ]
     },
     "metadata": {},
     "output_type": "display_data"
    }
   ],
   "source": [
    "sns.boxenplot(df['total_bill'])"
   ]
  },
  {
   "cell_type": "code",
   "execution_count": 13,
   "id": "c8311d15-45bb-4b45-ab7e-39a344df391a",
   "metadata": {},
   "outputs": [
    {
     "data": {
      "image/png": "[encoded data removed]",
      "text/plain": [
       "<Figure size 640x480 with 1 Axes>"
      ]
     },
     "metadata": {},
     "output_type": "display_data"
    }
   ],
   "source": [
    "sns.histplot(df['total_bill'] , kde=True , color='green')\n",
    "plt.show()"
   ]
  },
  {
   "cell_type": "code",
   "execution_count": 14,
   "id": "5079878e-bf3d-409c-b46c-3e71da900507",
   "metadata": {},
   "outputs": [
    {
     "data": {
      "text/html": [
       "<div>\n",
       "<style scoped>\n",
       "    .dataframe tbody tr th:only-of-type {\n",
       "        vertical-align: middle;\n",
       "    }\n",
       "\n",
       "    .dataframe tbody tr th {\n",
       "        vertical-align: top;\n",
       "    }\n",
       "\n",
       "    .dataframe thead th {\n",
       "        text-align: right;\n",
       "    }\n",
       "</style>\n",
       "<table border=\"1\" class=\"dataframe\">\n",
       "  <thead>\n",
       "    <tr style=\"text-align: right;\">\n",
       "      <th></th>\n",
       "      <th>sepal_length</th>\n",
       "      <th>sepal_width</th>\n",
       "      <th>petal_length</th>\n",
       "      <th>petal_width</th>\n",
       "      <th>species</th>\n",
       "    </tr>\n",
       "  </thead>\n",
       "  <tbody>\n",
       "    <tr>\n",
       "      <th>0</th>\n",
       "      <td>5.1</td>\n",
       "      <td>3.5</td>\n",
       "      <td>1.4</td>\n",
       "      <td>0.2</td>\n",
       "      <td>setosa</td>\n",
       "    </tr>\n",
       "    <tr>\n",
       "      <th>1</th>\n",
       "      <td>4.9</td>\n",
       "      <td>3.0</td>\n",
       "      <td>1.4</td>\n",
       "      <td>0.2</td>\n",
       "      <td>setosa</td>\n",
       "    </tr>\n",
       "    <tr>\n",
       "      <th>2</th>\n",
       "      <td>4.7</td>\n",
       "      <td>3.2</td>\n",
       "      <td>1.3</td>\n",
       "      <td>0.2</td>\n",
       "      <td>setosa</td>\n",
       "    </tr>\n",
       "    <tr>\n",
       "      <th>3</th>\n",
       "      <td>4.6</td>\n",
       "      <td>3.1</td>\n",
       "      <td>1.5</td>\n",
       "      <td>0.2</td>\n",
       "      <td>setosa</td>\n",
       "    </tr>\n",
       "    <tr>\n",
       "      <th>4</th>\n",
       "      <td>5.0</td>\n",
       "      <td>3.6</td>\n",
       "      <td>1.4</td>\n",
       "      <td>0.2</td>\n",
       "      <td>setosa</td>\n",
       "    </tr>\n",
       "  </tbody>\n",
       "</table>\n",
       "</div>"
      ],
      "text/plain": [
       "   sepal_length  sepal_width  petal_length  petal_width species\n",
       "0           5.1          3.5           1.4          0.2  setosa\n",
       "1           4.9          3.0           1.4          0.2  setosa\n",
       "2           4.7          3.2           1.3          0.2  setosa\n",
       "3           4.6          3.1           1.5          0.2  setosa\n",
       "4           5.0          3.6           1.4          0.2  setosa"
      ]
     },
     "execution_count": 14,
     "metadata": {},
     "output_type": "execute_result"
    }
   ],
   "source": [
    "df_iris = sns.load_dataset('iris')\n",
    "df_iris.head()\n",
    "# Label ayesi "
   ]
  },
  {
   "cell_type": "code",
   "execution_count": 15,
   "id": "468ce69e-f270-4fa9-a8cf-508bc07968af",
   "metadata": {},
   "outputs": [
    {
     "data": {
      "image/png": "[encoded data removed]",
      "text/plain": [
       "<Figure size 640x480 with 1 Axes>"
      ]
     },
     "metadata": {},
     "output_type": "display_data"
    }
   ],
   "source": [
    "sns.histplot(df_iris['sepal_length'] , kde=True , color='green')\n",
    "plt.show()"
   ]
  },
  {
   "cell_type": "code",
   "execution_count": 16,
   "id": "c341a512-e20a-40f0-abfd-3888b45561d2",
   "metadata": {},
   "outputs": [
    {
     "data": {
      "image/png": "[encoded data removed]",
      "text/plain": [
       "<Figure size 640x480 with 1 Axes>"
      ]
     },
     "metadata": {},
     "output_type": "display_data"
    }
   ],
   "source": [
    "sns.histplot(df_iris['sepal_width'] , kde=True , color='green')\n",
    "plt.show()"
   ]
  },
  {
   "cell_type": "code",
   "execution_count": 17,
   "id": "ddbb1f7a-e575-4c19-a14f-157e95aea6fa",
   "metadata": {},
   "outputs": [
    {
     "data": {
      "text/plain": [
       "0         setosa\n",
       "1         setosa\n",
       "2         setosa\n",
       "3         setosa\n",
       "4         setosa\n",
       "         ...    \n",
       "145    virginica\n",
       "146    virginica\n",
       "147    virginica\n",
       "148    virginica\n",
       "149    virginica\n",
       "Name: species, Length: 150, dtype: object"
      ]
     },
     "execution_count": 17,
     "metadata": {},
     "output_type": "execute_result"
    }
   ],
   "source": [
    "df_iris['species']"
   ]
  },
  {
   "cell_type": "code",
   "execution_count": 18,
   "id": "96421d3a-b25c-4d52-affa-bc5a1826a5bf",
   "metadata": {},
   "outputs": [
    {
     "data": {
      "text/plain": [
       "<Axes: xlabel='species', ylabel='count'>"
      ]
     },
     "execution_count": 18,
     "metadata": {},
     "output_type": "execute_result"
    },
    {
     "data": {
      "image/png": "[encoded data removed]",
      "text/plain": [
       "<Figure size 640x480 with 1 Axes>"
      ]
     },
     "metadata": {},
     "output_type": "display_data"
    }
   ],
   "source": [
    "sns.countplot(x = df_iris['species'])"
   ]
  },
  {
   "cell_type": "code",
   "execution_count": 19,
   "id": "1349c0f8-00f1-4af3-8ded-82aba5668c67",
   "metadata": {},
   "outputs": [
    {
     "data": {
      "text/plain": [
       "array([5.1, 6.4])"
      ]
     },
     "execution_count": 19,
     "metadata": {},
     "output_type": "execute_result"
    }
   ],
   "source": [
    "np.percentile(df_iris['sepal_length'] , [25,75])"
   ]
  },
  {
   "cell_type": "code",
   "execution_count": null,
   "id": "6e5d36d3-884c-4b1f-9da0-e6c09159ae39",
   "metadata": {},
   "outputs": [],
   "source": []
  }
 ],
 "metadata": {
  "kernelspec": {
   "display_name": "Python 3 (ipykernel)",
   "language": "python",
   "name": "python3"
  },
  "language_info": {
   "codemirror_mode": {
    "name": "ipython",
    "version": 3
   },
   "file_extension": ".py",
   "mimetype": "text/x-python",
   "name": "python",
   "nbconvert_exporter": "python",
   "pygments_lexer": "ipython3",
   "version": "3.12.2"
  }
 },
 "nbformat": 4,
 "nbformat_minor": 5
}
