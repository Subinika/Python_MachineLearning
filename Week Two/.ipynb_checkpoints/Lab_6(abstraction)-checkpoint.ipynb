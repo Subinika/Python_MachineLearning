{
 "cells": [
  {
   "cell_type": "code",
   "execution_count": 2,
   "id": "efcaebaf-ced9-4f86-9a64-a0d363a01185",
   "metadata": {},
   "outputs": [
    {
     "name": "stdout",
     "output_type": "stream",
     "text": [
      "The person name is Subinika is 22 years old.\n"
     ]
    }
   ],
   "source": [
    " \"\"\"Private Access\"\"\"\n",
    " class Person:\n",
    "     def __init__(self, name, age):\n",
    "         self.__name = name\n",
    "         self.__age = age    \n",
    "\n",
    "     def display(self):\n",
    "         print(f\"The person name is {self.__name} is {self.__age} years old.\") \n",
    "\n",
    " if __name__ ==\"__main__\":\n",
    "         person_test = Person(name = \"Subinika\", age = 22)\n",
    "         person_test.display()"
   ]
  },
  {
   "cell_type": "code",
   "execution_count": 10,
   "id": "e632a71a-6730-4d43-a29e-19b3df46c093",
   "metadata": {},
   "outputs": [
    {
     "name": "stdout",
     "output_type": "stream",
     "text": [
      "The person name is Subinika is 22 years old.\n"
     ]
    }
   ],
   "source": [
    "\"\"\"Protected Access\"\"\" \n",
    "  \n",
    "class Person:\n",
    "     def __init__(self, name, age):\n",
    "         self._name = name\n",
    "         self._age = age \n",
    "\n",
    "class Subinika(Person):\n",
    "     def __init__(self,name,age):\n",
    "      super().__init__(name,age)\n",
    "\n",
    "     def display(self):\n",
    "         print(f\"The person name is {self._name} is {self._age} years old.\") \n",
    "\n",
    "if __name__ ==\"__main__\":\n",
    "         person_test = Subinika(name = \"Subinika\", age = 22)\n",
    "         person_test.display()"
   ]
  },
  {
   "cell_type": "code",
   "execution_count": 11,
   "id": "7ee868e5-0fe7-42b7-8807-d83ced3c563b",
   "metadata": {},
   "outputs": [
    {
     "name": "stdout",
     "output_type": "stream",
     "text": [
      "Connect to database Successfully\n",
      "security of mobile app\n"
     ]
    }
   ],
   "source": [
    "\"\"\"Abstraction \"\"\"\n",
    "from abc import ABC , abstractmethod\n",
    "class BankingApp(ABC):\n",
    "    print(f\"Connect to database Successfully\")\n",
    "\n",
    "    def security(self):\n",
    "        pass  \n",
    "\n",
    "\n",
    "class MobileApp(BankingApp):\n",
    "    def login_app(self):\n",
    "        print(\"Login Successfully\")\n",
    "\n",
    "    def security(self):\n",
    "          print(\"security of mobile app\")   \n",
    "       \n",
    "\n",
    "if __name__ == \"__main__\":\n",
    "    mobile_app= MobileApp()\n",
    "    mobile_app.security()"
   ]
  },
  {
   "cell_type": "code",
   "execution_count": 1,
   "id": "737cc153-3b95-4143-bcd1-549ae4b0016f",
   "metadata": {},
   "outputs": [
    {
     "name": "stdout",
     "output_type": "stream",
     "text": [
      "Circle:\n",
      "Radius: 5\n",
      "Area: 78.53981633974483\n",
      "Perimeter: 31.41592653589793\n",
      "\n",
      "Rectangle:\n",
      "Length: 4\n",
      "Width: 6\n",
      "Area: 24\n",
      "Perimeter: 20\n",
      "\n",
      "Triangle:\n",
      "Side Length: 7\n",
      "Area: 21.217622392718745\n",
      "Perimeter: 21\n"
     ]
    }
   ],
   "source": [
    "\"\"\"\n",
    "1. Create an abstract class named Shape with the following abstract methods:\n",
    "   - `area`: to calculate the area of the shape.\n",
    "   - `perimeter`: to calculate the perimeter of the shape.\n",
    "   - `display_info`: to display information about the shape.\n",
    "2. Implement concrete classes for the following shapes, inheriting from the Shape class:\n",
    "   - Circle: Representing a circle. It should take the radius as a parameter.\n",
    "   - Rectangle: Representing a rectangle. It should take the length and width as parameters.\n",
    "   - Triangle: Representing an equilateral triangle. It should take the side length as a parameter.\n",
    "3. Implement the abstract methods in each concrete class to provide the specific calculations for area and perimeter.\n",
    "4. Demonstrate the usage of these classes in the main program by creating instances of each shape, calculating and displaying their area and perimeter.\n",
    "\"\"\"\n",
    "from abc import ABC , abstractmethod\n",
    "import math\n",
    "\n",
    "class Shape(ABC):\n",
    "    @abstractmethod\n",
    "    def area(self):\n",
    "        pass\n",
    "\n",
    "    @abstractmethod\n",
    "    def perimeter(self):\n",
    "        pass\n",
    "\n",
    "    @abstractmethod\n",
    "    def display_info(self):\n",
    "        pass\n",
    "\n",
    "class Rectangle(Shape):\n",
    "    def __init__(self, length , breadth):\n",
    "        self.length = length\n",
    "        self.breadth = breadth\n",
    "\n",
    "    def perimeter(self):\n",
    "        return 2*(self.length + self.breadth)\n",
    "\n",
    "    def area(self):\n",
    "        return self.length * self.breadth\n",
    "        \n",
    "    def display_info(self):\n",
    "        print(\"Rectangle:\")\n",
    "        print(\"Length:\", self.length)\n",
    "        print(\"Width:\", self.breadth)\n",
    "        print(\"Area:\", self.area())\n",
    "        print(\"Perimeter:\", self.perimeter())\n",
    "        \n",
    "class Circle(Shape):\n",
    "    def __init__(self, radius):\n",
    "        self.radius = radius\n",
    "\n",
    "    def area(self):\n",
    "        return math.pi * self.radius ** 2\n",
    "\n",
    "    def perimeter(self):\n",
    "        return 2 * math.pi * self.radius\n",
    "\n",
    "    def display_info(self):\n",
    "        print(\"Circle:\")\n",
    "        print(\"Radius:\", self.radius)\n",
    "        print(\"Area:\", self.area())\n",
    "        print(\"Perimeter:\", self.perimeter())\n",
    "\n",
    "class Triangle(Shape):\n",
    "    def __init__(self, side_length):\n",
    "        self.side_length = side_length\n",
    "\n",
    "    def area(self):\n",
    "        return (math.sqrt(3) / 4) * self.side_length ** 2\n",
    "\n",
    "    def perimeter(self):\n",
    "        return 3 * self.side_length\n",
    "\n",
    "    def display_info(self):\n",
    "        print(\"Triangle:\")\n",
    "        print(\"Side Length:\", self.side_length)\n",
    "        print(\"Area:\", self.area())\n",
    "        print(\"Perimeter:\", self.perimeter())    \n",
    "        \n",
    "circle = Circle(5)\n",
    "circle.display_info()\n",
    "\n",
    "print()\n",
    "\n",
    "rectangle = Rectangle(4, 6)\n",
    "rectangle.display_info()\n",
    "\n",
    "print()\n",
    "\n",
    "triangle = Triangle(7)\n",
    "triangle.display_info()\n",
    "\n",
    "\n",
    "\n"
   ]
  },
  {
   "cell_type": "code",
   "execution_count": null,
   "id": "220831bb-8c02-4d6e-9b2c-8af186798dd4",
   "metadata": {},
   "outputs": [],
   "source": []
  }
 ],
 "metadata": {
  "kernelspec": {
   "display_name": "Python 3 (ipykernel)",
   "language": "python",
   "name": "python3"
  },
  "language_info": {
   "codemirror_mode": {
    "name": "ipython",
    "version": 3
   },
   "file_extension": ".py",
   "mimetype": "text/x-python",
   "name": "python",
   "nbconvert_exporter": "python",
   "pygments_lexer": "ipython3",
   "version": "3.12.2"
  }
 },
 "nbformat": 4,
 "nbformat_minor": 5
}
