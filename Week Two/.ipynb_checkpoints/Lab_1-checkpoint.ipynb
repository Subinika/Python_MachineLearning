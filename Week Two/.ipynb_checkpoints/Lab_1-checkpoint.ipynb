{
 "cells": [
  {
   "cell_type": "code",
   "execution_count": 2,
   "id": "be94a11c-8c45-4203-8d66-0585a8be8786",
   "metadata": {},
   "outputs": [
    {
     "name": "stdout",
     "output_type": "stream",
     "text": [
      "{}\n"
     ]
    }
   ],
   "source": [
    "# Python Dictionary\n",
    "# Creating Empty Dictonary\n",
    "empt_dict ={}\n",
    "print(empt_dict)"
   ]
  },
  {
   "cell_type": "code",
   "execution_count": 5,
   "id": "0dc6da9e-5d86-41c5-a3be-e7015a7b5b0e",
   "metadata": {},
   "outputs": [
    {
     "name": "stdout",
     "output_type": "stream",
     "text": [
      "<class 'dict'>\n"
     ]
    }
   ],
   "source": [
    "# Checking Type\n",
    "empt_dict ={}\n",
    "print(type(empt_dict))"
   ]
  },
  {
   "cell_type": "code",
   "execution_count": 1,
   "id": "6f4cae60-e080-4a72-87c4-89292e35f739",
   "metadata": {},
   "outputs": [
    {
     "name": "stdout",
     "output_type": "stream",
     "text": [
      "{'Mango': 2, 'Banana': 4}\n"
     ]
    }
   ],
   "source": [
    "# Creating Simple Dictonary\n",
    "simple_dict = {\"Mango\":2 ,'Banana':4}\n",
    "print(simple_dict)"
   ]
  },
  {
   "cell_type": "code",
   "execution_count": 6,
   "id": "0f1cd1eb-2dc4-4848-943f-e04ac78fe219",
   "metadata": {},
   "outputs": [
    {
     "name": "stdout",
     "output_type": "stream",
     "text": [
      "<class 'dict'>\n"
     ]
    }
   ],
   "source": [
    "# Checking Type\n",
    "simple_dict = {\"Mango\":2 ,'Banana':4}\n",
    "print(type(simple_dict))"
   ]
  },
  {
   "cell_type": "code",
   "execution_count": 4,
   "id": "516dbf85-22bb-4b19-a47e-9b349837760f",
   "metadata": {},
   "outputs": [
    {
     "name": "stdout",
     "output_type": "stream",
     "text": [
      "{'fruit': {'Mango': 2, 'Banana': 4}, 'drinks': {'Coke': 6, 'Fanta': 4}}\n"
     ]
    }
   ],
   "source": [
    "# Creating Nested Dictonary\n",
    "nested_dict = {'fruit':{'Mango':2, 'Banana':4},'drinks':{'Coke':6, 'Fanta':4}}\n",
    "print(nested_dict)"
   ]
  },
  {
   "cell_type": "code",
   "execution_count": 7,
   "id": "a383ad77-9f54-4ad0-b31b-8cf3270163dc",
   "metadata": {},
   "outputs": [
    {
     "name": "stdout",
     "output_type": "stream",
     "text": [
      "<class 'dict'>\n"
     ]
    }
   ],
   "source": [
    "# Checking Type\n",
    "nested_dict = {'fruit':{'Mango':2, 'Banana':4},'drinks':{'Coke':6, 'Fanta':4}}\n",
    "print(type(nested_dict))"
   ]
  },
  {
   "cell_type": "code",
   "execution_count": 24,
   "id": "71efa2db-1fd9-443f-9b49-6ceececa2e83",
   "metadata": {},
   "outputs": [
    {
     "name": "stdout",
     "output_type": "stream",
     "text": [
      "The Key is Dog and it's value is:7\n",
      "The Key is Cat and it's value is:5\n",
      "The Key is Cow and it's value is:3\n",
      "The Key is Goat and it's value is:8\n"
     ]
    }
   ],
   "source": [
    "# Indexing Dictionaries\n",
    "# Indexing Simple Dictionary\n",
    "animal_count = {'Dog':7, 'Cat':5, 'Cow':3, 'Goat':8}\n",
    "for animals in animal_count:\n",
    "    print(f\"The Key is {animals} and it's value is:{animal_count[animals]}\")\n"
   ]
  },
  {
   "cell_type": "code",
   "execution_count": 28,
   "id": "108a263b-3c32-4339-bae3-a093a1b1e356",
   "metadata": {},
   "outputs": [
    {
     "name": "stdout",
     "output_type": "stream",
     "text": [
      "The Key is fruits and it's valus is:{'mango': 100, 'banana': 10, 'orange': 200, 'kiwi': 20}\n",
      "The Sub_key is fruits and it's value is:{'mango': 100, 'banana': 10, 'orange': 200, 'kiwi': 20}\n",
      "The Sub_key is drinks and it's value is:{'coke': 20, 'redbull': 30, 'lassi': 10}\n",
      "The Key is drinks and it's valus is:{'coke': 20, 'redbull': 30, 'lassi': 10}\n",
      "The Sub_key is fruits and it's value is:{'mango': 100, 'banana': 10, 'orange': 200, 'kiwi': 20}\n",
      "The Sub_key is drinks and it's value is:{'coke': 20, 'redbull': 30, 'lassi': 10}\n"
     ]
    }
   ],
   "source": [
    "#Indexing Nested Dictionary\n",
    "# access different items\n",
    "food_count ={\n",
    "    'fruits' : {\"mango\": 100, \"banana\": 10, \"orange\": 200, \"kiwi\": 20},\n",
    "    'drinks': {\"coke\": 20, \"redbull\": 30, \"lassi\": 10}\n",
    "}\n",
    "for food in food_count:\n",
    "    print(f\"The Key is {food} and it's valus is:{food_count[food]}\")\n",
    "    for drinks in food_count:\n",
    "        print(f\"The Sub_key is {drinks} and it's value is:{food_count[drinks]}\")\n"
   ]
  },
  {
   "cell_type": "code",
   "execution_count": 33,
   "id": "2474332f-ab9d-445d-af12-dd246fbbed31",
   "metadata": {},
   "outputs": [
    {
     "name": "stdout",
     "output_type": "stream",
     "text": [
      "the value of mango is mutable:{'mango': 200, 'banana': 10, 'orange': 200}\n"
     ]
    }
   ],
   "source": [
    "# Dictionaries are Mutable\n",
    "simple_dict = {\"mango\": 100, \"banana\": 10, \"orange\": 200}\n",
    "simple_dict[\"mango\"]=200\n",
    "print(f\"the value of mango is mutable:{simple_dict}\")"
   ]
  },
  {
   "cell_type": "code",
   "execution_count": 10,
   "id": "421fa15d-7c18-4e4b-8bc5-32b05e021c68",
   "metadata": {},
   "outputs": [
    {
     "name": "stdout",
     "output_type": "stream",
     "text": [
      "The key value of Fruits is:{'mango': 100, 'banana': 10, 'orange': 200, 'kiwi': 20}\n",
      "The value of the Banana is:10\n",
      "The list of all the key is:dict_keys(['mango', 'banana', 'orange', 'kiwi'])\n",
      "The list of all the values is:dict_values([100, 10, 200, 20])\n",
      "The list of all the values is:dict_items([('mango', 100), ('banana', 10), ('orange', 200), ('kiwi', 20)])\n",
      "The list of all the values is:{'mango': 100, 'banana': 10, 'orange': 200, 'kiwi': 20, 'watermelon': 30}\n",
      "The added item is remove:{'mango': 100, 'banana': 10, 'orange': 200, 'kiwi': 20}\n"
     ]
    }
   ],
   "source": [
    "# Dictionary Methods\n",
    "food_count ={\"mango\": 100, \"banana\": 10, \"orange\": 200, \"kiwi\": 20}\n",
    "print(f\"The key value of Fruits is:{food_count}\")\n",
    "\n",
    "# access value for key = \"banana\"\n",
    "food_count ={\"mango\": 100, \"banana\": 10, \"orange\": 200, \"kiwi\": 20}\n",
    "print(f\"The value of the Banana is:{food_count.get(\"banana\")}\")\n",
    "\n",
    "# get list of all the keys present in the dictionary\n",
    "food_count ={\"mango\": 100, \"banana\": 10, \"orange\": 200, \"kiwi\": 20}\n",
    "print(f\"The list of all the key is:{food_count.keys()}\")\n",
    "\n",
    "# get list of all the values present in the dictionary\n",
    "food_count ={\"mango\": 100, \"banana\": 10, \"orange\": 200, \"kiwi\": 20}\n",
    "print(f\"The list of all the values is:{food_count.values()}\")\n",
    "\n",
    "# get list containing tuples of key-value pairs\n",
    "food_count ={\"mango\": 100, \"banana\": 10, \"orange\": 200, \"kiwi\": 20}\n",
    "print(f\"The list of all the values is:{food_count.items()}\")\n",
    "\n",
    "# add new item key = 'watermelon', value = 30\n",
    "food_count ={\"mango\": 100, \"banana\": 10, \"orange\": 200, \"kiwi\": 20}\n",
    "food_count.update({\"watermelon\": 30})\n",
    "print(f\"The list of all the values is:{food_count}\")\n",
    "\n",
    "# remove new added items.\n",
    "food_count.pop(\"watermelon\")\n",
    "print(f\"The added item is remove:{food_count}\")\n",
    "\n",
    "\n"
   ]
  },
  {
   "cell_type": "code",
   "execution_count": 13,
   "id": "9634db0c-b3af-4bba-8150-52e1974805ed",
   "metadata": {},
   "outputs": [
    {
     "name": "stdout",
     "output_type": "stream",
     "text": [
      "Key in index 1 is mango\n",
      "Key in index 2 is banana\n",
      "Key in index 3 is orange\n",
      "Key in index 4 is kiwi\n",
      "\n",
      "\n",
      "Key is mango and value is 100\n",
      "Key is banana and value is 10\n",
      "Key is orange and value is 200\n",
      "Key is kiwi and value is 20\n",
      "\n",
      "All items in Dictinoary is : dict_items([('mango', 100), ('banana', 10), ('orange', 200), ('kiwi', 20)])\n"
     ]
    }
   ],
   "source": [
    "#Loop Dictionary\n",
    "# Print all key names in the dictionary, one by one.\n",
    "simple_dict = {\"mango\": 100, \"banana\": 10, \"orange\": 200, \"kiwi\": 20}\n",
    "i = 0 \n",
    "for items in simple_dict:\n",
    "    i = i+1\n",
    "    print(f\"Key in index {i} is {items}\")\n",
    "\n",
    "print(\"\\n\")\n",
    "\n",
    "#  Print all values in the dictionary one by one.\n",
    "for items in simple_dict:\n",
    "    print(f\"Key is {items} and value is {simple_dict[items]}\")\n",
    "\n",
    "# Print all keys and values one by one, using items() method.\n",
    "print(f\"\\nAll items in Dictinoary is : {simple_dict.items()}\")"
   ]
  },
  {
   "cell_type": "code",
   "execution_count": 14,
   "id": "3559f2ec-006a-42db-ab47-947060d61361",
   "metadata": {},
   "outputs": [
    {
     "name": "stdout",
     "output_type": "stream",
     "text": [
      "Question with answer : {'What is the capital of France?': 'Paris', \"Who wrote the play 'Romeo and Juliet'?\": 'William Shakespeare', 'What is the symbol for the chemical element oxygen?': 'O', 'In which year did World War II end?': '1945', 'What is the tallest mammal on Earth?': 'Giraffe'}\n"
     ]
    }
   ],
   "source": [
    "# Dictionary Comprehension\n",
    "# Sample list of questions\n",
    "questions = [\n",
    "    \"What is the capital of France?\",\n",
    "    \"Who wrote the play 'Romeo and Juliet'?\",\n",
    "    \"What is the symbol for the chemical element oxygen?\",\n",
    "    \"In which year did World War II end?\",\n",
    "    \"What is the tallest mammal on Earth?\",\n",
    "]\n",
    "# Sample list of corresponding answers\n",
    "answers = [\n",
    "    \"Paris\",\n",
    "    \"William Shakespeare\",\n",
    "    \"O\",\n",
    "    \"1945\",\n",
    "    \"Giraffe\",\n",
    "]\n",
    "# Applying Comprehension\n",
    "quiz_dict = {q: a for q, a in zip(questions, answers)}\n",
    "print(f\"Question with answer : {quiz_dict}\")"
   ]
  },
  {
   "cell_type": "code",
   "execution_count": null,
   "id": "d3a65a13-a4ee-4ec8-a581-49b0ed461da9",
   "metadata": {},
   "outputs": [],
   "source": []
  }
 ],
 "metadata": {
  "kernelspec": {
   "display_name": "Python 3 (ipykernel)",
   "language": "python",
   "name": "python3"
  },
  "language_info": {
   "codemirror_mode": {
    "name": "ipython",
    "version": 3
   },
   "file_extension": ".py",
   "mimetype": "text/x-python",
   "name": "python",
   "nbconvert_exporter": "python",
   "pygments_lexer": "ipython3",
   "version": "3.12.2"
  }
 },
 "nbformat": 4,
 "nbformat_minor": 5
}
