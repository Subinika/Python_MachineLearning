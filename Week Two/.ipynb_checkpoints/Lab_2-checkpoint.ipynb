{
 "cells": [
  {
   "cell_type": "code",
   "execution_count": 1,
   "id": "bfd4370c-90fe-483e-b9b1-bbbcca34eaac",
   "metadata": {},
   "outputs": [
    {
     "name": "stdout",
     "output_type": "stream",
     "text": [
      "Hello! I am If-else Condition.\n"
     ]
    }
   ],
   "source": [
    "#Condition and Branching\n",
    "#If else \n",
    "if True:\n",
    "    print('Hello! I am If-else Condition.')\n"
   ]
  },
  {
   "cell_type": "code",
   "execution_count": 7,
   "id": "066e898c-10af-4a69-950b-4411dd482b6e",
   "metadata": {},
   "outputs": [
    {
     "name": "stdin",
     "output_type": "stream",
     "text": [
      "Enter your Number: 6\n"
     ]
    },
    {
     "name": "stdout",
     "output_type": "stream",
     "text": [
      "Your Number is:6 and it's Positive.\n"
     ]
    }
   ],
   "source": [
    "# Input number from user. print \"postive number\" if number is positive else print \"negative number. Consider 0 as positive as well.\n",
    "input_number = int(input('Enter your Number:'))\n",
    "if input_number >=0 :\n",
    "    print(f\"Your Number is:{input_number} and it's Positive.\")\n",
    "elif input_number <0 :\n",
    "    print(f\"Your Number is:{input_number} and it's Negative.\")\n",
    "\n",
    "    \n",
    "                   "
   ]
  },
  {
   "cell_type": "code",
   "execution_count": 12,
   "id": "1e598f20-7efb-4285-8d8c-ccd1fc8b8217",
   "metadata": {},
   "outputs": [
    {
     "name": "stdin",
     "output_type": "stream",
     "text": [
      "Enter first Number -4\n",
      "Enter second Number 2\n"
     ]
    },
    {
     "name": "stdout",
     "output_type": "stream",
     "text": [
      " -4 is Smaller then 2\n"
     ]
    }
   ],
   "source": [
    "#  Input two numbers num1, and num2 from user:\n",
    "num1 = int(input('Enter first Number'))\n",
    "num2 = int(input('Enter second Number'))\n",
    "if num1 > num2:\n",
    "    print(f\"{num1} is Greater then{num2}\")\n",
    "elif num1 == num2:\n",
    "    print(f\" {num1} is Equal to {num2}\")\n",
    "elif num1 < num2:\n",
    "    print(f\" {num1} is Smaller then {num2}\")\n",
    "           "
   ]
  },
  {
   "cell_type": "code",
   "execution_count": 25,
   "id": "de4cdd99-1828-4873-9ebb-a3a44731c5c5",
   "metadata": {},
   "outputs": [
    {
     "name": "stdin",
     "output_type": "stream",
     "text": [
      "Enter first Number 45\n",
      "Enter second Number 87\n",
      "Enter third Number 67\n"
     ]
    },
    {
     "name": "stdout",
     "output_type": "stream",
     "text": [
      "87 is greater then 45 and 67\n"
     ]
    }
   ],
   "source": [
    "# Write a python program to find max of three numbers.\n",
    "def find_max (num1, num2, num3):\n",
    "    if num1 > num2:\n",
    "        if num1 > num3:\n",
    "            print(f\"{num1} is greater then {num2} and {num3}\")\n",
    "        else:\n",
    "            print(f\"{num3} is greater then {num2} and {num1}\")\n",
    "    else:\n",
    "        if num2 > num3:\n",
    "            print(f\"{num2} is greater then {num1} and {num3}\")\n",
    "        else:\n",
    "            print(f\"{num3} is greater then {num2} and {num1}\")\n",
    "\n",
    "num1 = int(input('Enter first Number'))\n",
    "num2 = int(input('Enter second Number'))\n",
    "num3 = int(input('Enter third Number'))\n",
    "\n",
    "find_max(num1 , num2, num3)\n"
   ]
  },
  {
   "cell_type": "code",
   "execution_count": 26,
   "id": "8139c1f2-f4cb-4347-a343-fa24547e0189",
   "metadata": {},
   "outputs": [
    {
     "name": "stdin",
     "output_type": "stream",
     "text": [
      "enter first number 6\n",
      "enter second number 9\n",
      "enter third number 5\n"
     ]
    },
    {
     "name": "stdout",
     "output_type": "stream",
     "text": [
      "Max Number is: 9\n"
     ]
    }
   ],
   "source": [
    "# Write a python program to print max of 3 numbers using ternary operator.\n",
    "first_num = int(input(\"enter first number\"))\n",
    "second_num = int(input(\"enter second number\"))\n",
    "third_num = int(input(\"enter third number\"))\n",
    "\n",
    "max_num = first_num if (first_num > second_num and first_num > third_num) else (second_num if second_num > third_num else third_num)\n",
    "print(f\"Max Number is: {max_num}\")\n",
    "                \n",
    " \n"
   ]
  },
  {
   "cell_type": "code",
   "execution_count": 32,
   "id": "a5848404-a871-4022-9e5b-5b9fe88c7489",
   "metadata": {},
   "outputs": [
    {
     "name": "stdout",
     "output_type": "stream",
     "text": [
      "The Greatest number is 22\n"
     ]
    }
   ],
   "source": [
    "## write your program using \"pass\" keyword\n",
    "first_num = 22\n",
    "second_num = 11\n",
    "if(first_num > second_num):\n",
    "   print(f\"The Greatest number is {first_num}\")\n",
    "else:\n",
    "  pass"
   ]
  },
  {
   "cell_type": "code",
   "execution_count": 11,
   "id": "e3e6b595-b84e-4bf1-b539-813e3bccc24b",
   "metadata": {},
   "outputs": [
    {
     "name": "stdin",
     "output_type": "stream",
     "text": [
      "Enter the Student's Score 89\n"
     ]
    },
    {
     "name": "stdout",
     "output_type": "stream",
     "text": [
      "The student's grade is: B\n",
      "All the Best.\n"
     ]
    }
   ],
   "source": [
    "# Task 1 : Grading System Exercise\n",
    "def grading_system(score):\n",
    "    if 90 <= score <= 100:\n",
    "        return 'A'\n",
    "    elif 80 <= score < 90:\n",
    "        return 'B'\n",
    "    elif 70 <= score < 80:\n",
    "        return 'C'\n",
    "    elif 60 <= score < 70:\n",
    "        return 'D'\n",
    "    elif 0 <= score <60:\n",
    "        return 'F'\n",
    "    else:\n",
    "        return 'Invalid input: Score should be between 0 and 100.'\n",
    "def main():\n",
    " try:\n",
    "     score = int(input(\"Enter the Student's Score\"))\n",
    "     if 0 <= score <= 100:\n",
    "            grade = grading_system(score)\n",
    "            print(f\"The student's grade is: {grade}\")\n",
    "     else :\n",
    "                print(\"Invalid input: Score should be between 0 and 100.\")\n",
    " except ValueError:\n",
    "        print(\"Invalid input: Please enter a numerical value.\")\n",
    " finally:\n",
    "        print(\"All the Best.\")\n",
    "\n",
    "if __name__ == \"__main__\":\n",
    "    main()\n",
    "     \n",
    "                       \n",
    "        "
   ]
  },
  {
   "cell_type": "code",
   "execution_count": 15,
   "id": "09324a49-1a67-486d-8321-04f07113a778",
   "metadata": {},
   "outputs": [
    {
     "name": "stdin",
     "output_type": "stream",
     "text": [
      "Enter your age:  35\n",
      "Are you a student? (True/False):  true\n"
     ]
    },
    {
     "name": "stdout",
     "output_type": "stream",
     "text": [
      "The ticket price is: $18\n"
     ]
    }
   ],
   "source": [
    "# Task 2:Ticket Price Calculator Exercise\n",
    "\n",
    "def calculate_ticket_price(age, is_student):\n",
    "    if age < 0 or not isinstance(age, int):\n",
    "        return \"Invalid age input. Please enter a valid positive integer age.\"\n",
    "    \n",
    "    if is_student:\n",
    "        return 18  # Discounted price for students\n",
    "    elif 0 <= age <= 12:\n",
    "        return 10  # Children\n",
    "    elif 13 <= age <= 17:\n",
    "        return 15  # Teenagers\n",
    "    else:\n",
    "        return 20  # Adults\n",
    "\n",
    "def main():\n",
    "    try:\n",
    "        age = int(input(\"Enter your age: \"))\n",
    "        is_student = input(\"Are you a student? (True/False): \").capitalize() == \"True\"\n",
    "        \n",
    "        ticket_price = calculate_ticket_price(age, is_student)\n",
    "        print(f\"The ticket price is: ${ticket_price}\")\n",
    "    \n",
    "    except ValueError:\n",
    "        print(\"Invalid input: Please enter a valid numerical age.\")\n",
    "    except Exception as e:\n",
    "        print(f\"Error: {e}\")\n",
    "\n",
    "if __name__ == \"__main__\":\n",
    "    main()\n"
   ]
  },
  {
   "cell_type": "code",
   "execution_count": 4,
   "id": "0ad3f1a2-9a1e-4d6d-9662-afb620e3155f",
   "metadata": {},
   "outputs": [
    {
     "name": "stdin",
     "output_type": "stream",
     "text": [
      "Enter a paragraph She wore a soft, soft scarf to keep warm in winter.\n"
     ]
    },
    {
     "name": "stdout",
     "output_type": "stream",
     "text": [
      "warm is repeated 1 times in given string.\n",
      "a is repeated 1 times in given string.\n",
      "to is repeated 1 times in given string.\n",
      "scarf is repeated 1 times in given string.\n",
      "soft is repeated 2 times in given string.\n",
      "in is repeated 1 times in given string.\n",
      "wore is repeated 1 times in given string.\n",
      "she is repeated 1 times in given string.\n",
      "winter is repeated 1 times in given string.\n",
      "keep is repeated 1 times in given string.\n"
     ]
    }
   ],
   "source": [
    "# Task 03: Word Frequency Counter\n",
    "import string\n",
    "def wordCount(input_string):\n",
    "    if len(input_string) <= 0:\n",
    "        print(\"Please Enter paragraph to proceed\")\n",
    "        return\n",
    "    lower_string = input_string.lower().strip()\n",
    "\n",
    "    for char in string.punctuation:\n",
    "        lower_string = lower_string.replace(char, \"\")\n",
    "\n",
    "    string_list = lower_string.split(\" \")\n",
    "    sorted_list = sorted(string_list)\n",
    "    new_set = set(sorted_list)\n",
    "    new_tuple = tuple(sorted_list)\n",
    "    for items in new_set:\n",
    "        print(f\"{items} is repeated {new_tuple.count(items)} times in given string.\")\n",
    "\n",
    "input_string = input(\"Enter a paragraph\")\n",
    "wordCount(input_string)"
   ]
  },
  {
   "cell_type": "code",
   "execution_count": 16,
   "id": "edabf540-c992-42c8-afba-7e46f06d3c6c",
   "metadata": {},
   "outputs": [
    {
     "name": "stdout",
     "output_type": "stream",
     "text": [
      "Enter a 3x3 matrix (nine integer values):\n"
     ]
    },
    {
     "name": "stdin",
     "output_type": "stream",
     "text": [
      "Enter value for matrix[0][0]:  2\n",
      "Enter value for matrix[0][1]:  2\n",
      "Enter value for matrix[0][2]:  2\n",
      "Enter value for matrix[1][0]:  2\n",
      "Enter value for matrix[1][1]:  2\n",
      "Enter value for matrix[1][2]:  2\n",
      "Enter value for matrix[2][0]:  2\n",
      "Enter value for matrix[2][1]:  2\n",
      "Enter value for matrix[2][2]:  2\n"
     ]
    },
    {
     "ename": "NameError",
     "evalue": "name 'is_magic_square' is not defined",
     "output_type": "error",
     "traceback": [
      "\u001b[1;31m---------------------------------------------------------------------------\u001b[0m",
      "\u001b[1;31mNameError\u001b[0m                                 Traceback (most recent call last)",
      "Cell \u001b[1;32mIn[16], line 18\u001b[0m\n\u001b[0;32m     16\u001b[0m     \u001b[38;5;28;01melse\u001b[39;00m:\n\u001b[0;32m     17\u001b[0m         \u001b[38;5;28mprint\u001b[39m(\u001b[38;5;124m\"\u001b[39m\u001b[38;5;124mThe given matrix does not form a magic square.\u001b[39m\u001b[38;5;124m\"\u001b[39m)\n\u001b[1;32m---> 18\u001b[0m \u001b[43mmagicSquare\u001b[49m\u001b[43m(\u001b[49m\u001b[43m)\u001b[49m\n",
      "Cell \u001b[1;32mIn[16], line 14\u001b[0m, in \u001b[0;36mmagicSquare\u001b[1;34m()\u001b[0m\n\u001b[0;32m     12\u001b[0m             \u001b[38;5;28;01mexcept\u001b[39;00m \u001b[38;5;167;01mValueError\u001b[39;00m:\n\u001b[0;32m     13\u001b[0m                 \u001b[38;5;28mprint\u001b[39m(\u001b[38;5;124m\"\u001b[39m\u001b[38;5;124mInvalid input. Please enter an integer value.\u001b[39m\u001b[38;5;124m\"\u001b[39m)\n\u001b[1;32m---> 14\u001b[0m \u001b[38;5;28;01mif\u001b[39;00m \u001b[43mis_magic_square\u001b[49m(matrix):\n\u001b[0;32m     15\u001b[0m     \u001b[38;5;28mprint\u001b[39m(\u001b[38;5;124m\"\u001b[39m\u001b[38;5;124mThe given matrix forms a magic square.\u001b[39m\u001b[38;5;124m\"\u001b[39m)\n\u001b[0;32m     16\u001b[0m \u001b[38;5;28;01melse\u001b[39;00m:\n",
      "\u001b[1;31mNameError\u001b[0m: name 'is_magic_square' is not defined"
     ]
    }
   ],
   "source": [
    "# Task 04: Magic Square Validator\n",
    "def magicSquare():\n",
    "    matrix = [[0] * 3 for _ in range(3)]\n",
    "    print(\"Enter a 3x3 matrix (nine integer values):\")\n",
    "    for i in range(3):\n",
    "        for j in range(3):\n",
    "            while True:\n",
    "                try:\n",
    "                    value = int(input(f\"Enter value for matrix[{i}][{j}]: \"))\n",
    "                    matrix[i][j] = value\n",
    "                    break\n",
    "                except ValueError:\n",
    "                    print(\"Invalid input. Please enter an integer value.\")\n",
    "    if is_magic_square(matrix):\n",
    "        print(\"The given matrix forms a magic square.\")\n",
    "    else:\n",
    "        print(\"The given matrix does not form a magic square.\")\n",
    "magicSquare()"
   ]
  },
  {
   "cell_type": "code",
   "execution_count": 19,
   "id": "528e7622-1200-4836-be54-2f7f0692ad79",
   "metadata": {},
   "outputs": [
    {
     "name": "stdin",
     "output_type": "stream",
     "text": [
      "Please enter a string SAS\n"
     ]
    },
    {
     "name": "stdout",
     "output_type": "stream",
     "text": [
      "Given String SAS is Palindrome\n"
     ]
    }
   ],
   "source": [
    "# Task 05: Palindromic Anagram Checker\n",
    "def plaindromeCheck(input_string):\n",
    "    lower_string = input_string.lower()\n",
    "    reverse_string = lower_string[::-1]\n",
    "    if reverse_string == lower_string:\n",
    "        print(f\"Given String {input_string} is Palindrome\" )\n",
    "    else:\n",
    "        print(\"Given String is not Palindrome\")\n",
    "\n",
    "input_string = input(\"Please enter a string\")\n",
    "plaindromeCheck(input_string)"
   ]
  },
  {
   "cell_type": "code",
   "execution_count": null,
   "id": "35c73993-18c2-4dbe-9ed3-51a16ed4abc8",
   "metadata": {},
   "outputs": [],
   "source": []
  }
 ],
 "metadata": {
  "kernelspec": {
   "display_name": "Python 3 (ipykernel)",
   "language": "python",
   "name": "python3"
  },
  "language_info": {
   "codemirror_mode": {
    "name": "ipython",
    "version": 3
   },
   "file_extension": ".py",
   "mimetype": "text/x-python",
   "name": "python",
   "nbconvert_exporter": "python",
   "pygments_lexer": "ipython3",
   "version": "3.12.2"
  }
 },
 "nbformat": 4,
 "nbformat_minor": 5
}
