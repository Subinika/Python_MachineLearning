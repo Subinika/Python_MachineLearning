{
 "cells": [
  {
   "cell_type": "code",
   "execution_count": 2,
   "id": "08391d26-1ef8-4324-9750-64fe9b15a7b6",
   "metadata": {},
   "outputs": [
    {
     "name": "stdout",
     "output_type": "stream",
     "text": [
      "Hello World\n"
     ]
    }
   ],
   "source": [
    "#Python Function\n",
    "# Create a function without parameters and without return statement.\n",
    "def greet():\n",
    " print(\"Hello World\")\n",
    "greet()\n"
   ]
  },
  {
   "cell_type": "code",
   "execution_count": 5,
   "id": "3086c2d2-d5e3-4b43-9028-731600916a6f",
   "metadata": {},
   "outputs": [
    {
     "name": "stdin",
     "output_type": "stream",
     "text": [
      "enter number1:  4\n",
      "enter number2:  3\n"
     ]
    },
    {
     "name": "stdout",
     "output_type": "stream",
     "text": [
      "num1 is greater\n"
     ]
    }
   ],
   "source": [
    "# Write a python function that takes two integer input from user and print greater number.\n",
    "def greater_number():\n",
    "    num1 = int(input(\"enter number1: \"))\n",
    "    num2 = int(input(\"enter number2: \"))\n",
    "    if num1 > num2:\n",
    "        print(\"num1 is greater\")\n",
    "    else:\n",
    "        print(\"num2 is greater\")\n",
    "greater_number()    "
   ]
  },
  {
   "cell_type": "code",
   "execution_count": 17,
   "id": "a90b1501-0bdd-44ff-962f-b0ab765b4d42",
   "metadata": {},
   "outputs": [
    {
     "name": "stdout",
     "output_type": "stream",
     "text": [
      "('Subinika', 'Neupane')\n",
      "{'age': 'kina_chaiyo'}\n"
     ]
    }
   ],
   "source": [
    "# Class Work\n",
    "def program_test (*args, **kargs):\n",
    "    print(args)\n",
    "    print(kargs)\n",
    "    \n",
    "name = list((\"Subinika\",\"Neupane\"))\n",
    "program_test(*name ,age = \"kina_chaiyo\")    \n"
   ]
  },
  {
   "cell_type": "code",
   "execution_count": 22,
   "id": "111058e0-6669-46e5-a250-910f9b0462f0",
   "metadata": {},
   "outputs": [
    {
     "name": "stdout",
     "output_type": "stream",
     "text": [
      " Hello My name is Subinika\n"
     ]
    }
   ],
   "source": [
    "# Create function with parameters and without return statement.\n",
    "def with_parameter (name , greeting):\n",
    " print(f\" {greeting} My name is {name}\")\n",
    "with_parameter(\"Subinika\", \"Hello\")\n"
   ]
  },
  {
   "cell_type": "code",
   "execution_count": 25,
   "id": "266475b7-611a-4723-936c-612175d7703f",
   "metadata": {},
   "outputs": [
    {
     "name": "stdin",
     "output_type": "stream",
     "text": [
      "Enter the first integer:  55\n",
      "Enter the second integer:  66\n"
     ]
    },
    {
     "name": "stdout",
     "output_type": "stream",
     "text": [
      "num2 is greater\n"
     ]
    }
   ],
   "source": [
    "# Write a python function that takes two integer input from user pass them as argument to function and print greater number.(no-return)\n",
    "def greater_number(num1, num2):\n",
    "    if num1 > num2:\n",
    "        print(\"num1 is greater\")\n",
    "    elif num2 > num1:\n",
    "        print(\"num2 is greater\")\n",
    "    else:\n",
    "        print(\"Both numbers are equal\")\n",
    "\n",
    "# Taking user input for the first integer\n",
    "input_num1 = int(input(\"Enter the first integer: \"))\n",
    "\n",
    "# Taking user input for the second integer\n",
    "input_num2 = int(input(\"Enter the second integer: \"))\n",
    "\n",
    "# Calling the function with user inputs as arguments\n",
    "greater_number(input_num1, input_num2)\n",
    "\n",
    "    "
   ]
  },
  {
   "cell_type": "code",
   "execution_count": 1,
   "id": "75d984ae-629d-4963-bbf3-02c29710e604",
   "metadata": {},
   "outputs": [
    {
     "name": "stdout",
     "output_type": "stream",
     "text": [
      "Hello, welcome to the function!\n"
     ]
    }
   ],
   "source": [
    "# Create function without parameters and with return statement.\n",
    "def greet():\n",
    "    message = \"Hello, welcome to the function!\"\n",
    "    return message\n",
    "\n",
    "# Call the function\n",
    "result = greet()\n",
    "print(result)\n",
    "\n"
   ]
  },
  {
   "cell_type": "code",
   "execution_count": 10,
   "id": "de062f30-e715-4b0e-9f5c-8b81feeb5791",
   "metadata": {},
   "outputs": [
    {
     "name": "stdin",
     "output_type": "stream",
     "text": [
      "Enter number1:  43\n",
      "Enter number2:  2\n"
     ]
    },
    {
     "name": "stdout",
     "output_type": "stream",
     "text": [
      "num1 is greater\n",
      "The greater number is: 43\n"
     ]
    }
   ],
   "source": [
    "# Write a python function that takes two integer input from user inside function and return greater number from function.(no_parameter)\n",
    "def print_greater():\n",
    "    try:\n",
    "        num1 = int(input(\"Enter number1: \"))\n",
    "        num2 = int(input(\"Enter number2: \"))\n",
    "        \n",
    "        if num1 > num2:\n",
    "            print(\"num1 is greater\")\n",
    "            return num1\n",
    "        else:\n",
    "            print(\"num2 is greater\")\n",
    "            return num2\n",
    "\n",
    "    except ValueError:\n",
    "        print(\"Invalid input. Please enter valid numbers.\")\n",
    "\n",
    "# Call the function\n",
    "greater_number = print_greater()\n",
    "print(f\"The greater number is: {greater_number}\")\n",
    "\n",
    "\n",
    "    "
   ]
  },
  {
   "cell_type": "code",
   "execution_count": 11,
   "id": "59444dee-15bf-401a-b18b-e91b7effc812",
   "metadata": {},
   "outputs": [
    {
     "name": "stdin",
     "output_type": "stream",
     "text": [
      "Enter the first number:  2\n",
      "Enter the second number:  1\n"
     ]
    },
    {
     "name": "stdout",
     "output_type": "stream",
     "text": [
      "The greater number is: 2\n"
     ]
    }
   ],
   "source": [
    "# Write a python function that takes two integer as a argument and return greater number from function.\n",
    "def find_greater_number(num1, num2):\n",
    "    return max(num1, num2)\n",
    "\n",
    "number1 = int(input(\"Enter the first number: \"))\n",
    "number2 = int(input(\"Enter the second number: \"))\n",
    "\n",
    "result = find_greater_number(number1, number2)\n",
    "print(f\"The greater number is: {result}\")\n"
   ]
  },
  {
   "cell_type": "code",
   "execution_count": 13,
   "id": "64b4493e-e703-4459-a7f0-a211fce54832",
   "metadata": {},
   "outputs": [
    {
     "name": "stdout",
     "output_type": "stream",
     "text": [
      "The product of the numbers in the list is: 2310\n"
     ]
    }
   ],
   "source": [
    "# Assignment \n",
    "# Q.1 Write a python function to multiply all the numbers in a list.\n",
    "def multiply_list(numbers):\n",
    "    result = 1\n",
    "    for num in numbers:\n",
    "        result *= num\n",
    "    return result\n",
    "\n",
    "my_list = [2, 3, 5, 7, 11]\n",
    "result = multiply_list(my_list)\n",
    "print(f\"The product of the numbers in the list is: {result}\")\n"
   ]
  },
  {
   "cell_type": "code",
   "execution_count": 14,
   "id": "ba8cc24f-8791-44cf-8b14-9f5982e9ef86",
   "metadata": {},
   "outputs": [
    {
     "name": "stdin",
     "output_type": "stream",
     "text": [
      "Enter a string:  subbi\n"
     ]
    },
    {
     "name": "stdout",
     "output_type": "stream",
     "text": [
      "The reversed string is: ibbus\n"
     ]
    }
   ],
   "source": [
    "# Q.2 Write a python function to reverse a string.\n",
    "def reverse_string(input_string):\n",
    "    return input_string[::-1]\n",
    "\n",
    "original_string = input(\"Enter a string: \")\n",
    "reversed_string = reverse_string(original_string)\n",
    "print(f\"The reversed string is: {reversed_string}\")\n"
   ]
  },
  {
   "cell_type": "code",
   "execution_count": 15,
   "id": "f16c2389-93aa-48dd-880d-74c21ae7ce24",
   "metadata": {},
   "outputs": [
    {
     "name": "stdin",
     "output_type": "stream",
     "text": [
      "Enter a non-negative integer:  55\n"
     ]
    },
    {
     "name": "stdout",
     "output_type": "stream",
     "text": [
      "The factorial of 55 is: 12696403353658275925965100847566516959580321051449436762275840000000000000\n"
     ]
    }
   ],
   "source": [
    "# Q.3 Write a python function to find factorial of a given non negativenumber.\n",
    "def factorial(n):\n",
    "    if n < 0:\n",
    "        return \"Factorial is undefined for negative numbers.\"\n",
    "    elif n == 0 or n == 1:\n",
    "        return 1\n",
    "    else:\n",
    "        result = 1\n",
    "        for i in range(2, n + 1):\n",
    "            result *= i\n",
    "        return result\n",
    "\n",
    "number = int(input(\"Enter a non-negative integer: \"))\n",
    "result = factorial(number)\n",
    "print(f\"The factorial of {number} is: {result}\")\n"
   ]
  },
  {
   "cell_type": "code",
   "execution_count": 16,
   "id": "479548fd-e2a8-45ab-9ae3-aa522077867e",
   "metadata": {},
   "outputs": [
    {
     "name": "stdin",
     "output_type": "stream",
     "text": [
      "Enter a string:  subinika\n"
     ]
    },
    {
     "name": "stdout",
     "output_type": "stream",
     "text": [
      "The reversed string is: akinibus\n"
     ]
    }
   ],
   "source": [
    "# Write a python function to reverse a string.\n",
    "def reverse_string(input_string):\n",
    "    return input_string[::-1]\n",
    "\n",
    "original_string = input(\"Enter a string: \")\n",
    "reversed_string = reverse_string(original_string)\n",
    "print(f\"The reversed string is: {reversed_string}\")\n"
   ]
  },
  {
   "cell_type": "code",
   "execution_count": 18,
   "id": "6f2a568c-470d-4295-a8f9-4575697ba8f2",
   "metadata": {},
   "outputs": [
    {
     "name": "stdin",
     "output_type": "stream",
     "text": [
      "Enter a string:  AAedjkVfg\n"
     ]
    },
    {
     "name": "stdout",
     "output_type": "stream",
     "text": [
      "Number of uppercase letters: 3\n",
      "Number of lowercase letters: 6\n"
     ]
    }
   ],
   "source": [
    "# Q.5 Write a python function that accepts a string and calculate the number of upper case letters and lower case letters.\n",
    "def count_upper_lower(input_string):\n",
    "    upper_count = 0\n",
    "    lower_count = 0\n",
    "\n",
    "    for char in input_string:\n",
    "        if char.isupper():\n",
    "            upper_count += 1\n",
    "        elif char.islower():\n",
    "            lower_count += 1\n",
    "\n",
    "    return upper_count, lower_count\n",
    "\n",
    "user_input = input(\"Enter a string: \")\n",
    "upper, lower = count_upper_lower(user_input)\n",
    "\n",
    "print(f\"Number of uppercase letters: {upper}\")\n",
    "print(f\"Number of lowercase letters: {lower}\")\n"
   ]
  },
  {
   "cell_type": "code",
   "execution_count": 19,
   "id": "56a54ad8-aa75-432f-8a82-19654f844a61",
   "metadata": {},
   "outputs": [
    {
     "name": "stdout",
     "output_type": "stream",
     "text": [
      "Original List: [1, 2, 2, 3, 4, 4, 5]\n",
      "List with Unique Elements: [1, 2, 3, 4, 5]\n"
     ]
    }
   ],
   "source": [
    "# Q.6 Write a python function that takes a list and returns a new list with unique elements of the first list.\n",
    "def unique_elements(input_list):\n",
    "    return list(set(input_list))\n",
    "\n",
    "original_list = [1, 2, 2, 3, 4, 4, 5]\n",
    "unique_list = unique_elements(original_list)\n",
    "\n",
    "print(f\"Original List: {original_list}\")\n",
    "print(f\"List with Unique Elements: {unique_list}\")\n"
   ]
  },
  {
   "cell_type": "code",
   "execution_count": 20,
   "id": "2f4bea79-b175-4be5-b365-b39cbefc18a5",
   "metadata": {},
   "outputs": [
    {
     "name": "stdin",
     "output_type": "stream",
     "text": [
      "Enter a number:  666\n"
     ]
    },
    {
     "name": "stdout",
     "output_type": "stream",
     "text": [
      "666 is not a prime number.\n"
     ]
    }
   ],
   "source": [
    "# Q.7 Write a Python function that takes a number as a parameter and check the number is prime or not.\n",
    "def is_prime(number):\n",
    "    if number <= 1:\n",
    "        return False  # Numbers less than or equal to 1 are not prime\n",
    "\n",
    "    for i in range(2, int(number**0.5) + 1):\n",
    "        if number % i == 0:\n",
    "            return False  # If the number has a divisor other than 1 and itself, it's not prime\n",
    "\n",
    "    return True  # If no divisors are found, the number is prime\n",
    "\n",
    "user_number = int(input(\"Enter a number: \"))\n",
    "if is_prime(user_number):\n",
    "    print(f\"{user_number} is a prime number.\")\n",
    "else:\n",
    "    print(f\"{user_number} is not a prime number.\")\n"
   ]
  },
  {
   "cell_type": "code",
   "execution_count": 21,
   "id": "05f89058-1845-429b-bd21-c7e9ff4074be",
   "metadata": {},
   "outputs": [
    {
     "name": "stdout",
     "output_type": "stream",
     "text": [
      "Even Numbers: [2, 4, 6, 8, 10]\n"
     ]
    }
   ],
   "source": [
    "# Q.8 Write a python function to print the even numbers from a given list.\n",
    "def print_even_numbers(input_list):\n",
    "    even_numbers = [num for num in input_list if num % 2 == 0]\n",
    "    print(\"Even Numbers:\", even_numbers)\n",
    "\n",
    "user_list = [1, 2, 3, 4, 5, 6, 7, 8, 9, 10]\n",
    "print_even_numbers(user_list)\n"
   ]
  },
  {
   "cell_type": "code",
   "execution_count": null,
   "id": "4a063e58-6cd8-430e-898d-e59272e337d5",
   "metadata": {},
   "outputs": [],
   "source": []
  }
 ],
 "metadata": {
  "kernelspec": {
   "display_name": "Python 3 (ipykernel)",
   "language": "python",
   "name": "python3"
  },
  "language_info": {
   "codemirror_mode": {
    "name": "ipython",
    "version": 3
   },
   "file_extension": ".py",
   "mimetype": "text/x-python",
   "name": "python",
   "nbconvert_exporter": "python",
   "pygments_lexer": "ipython3",
   "version": "3.12.2"
  }
 },
 "nbformat": 4,
 "nbformat_minor": 5
}
